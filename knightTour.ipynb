{
 "cells": [
  {
   "cell_type": "code",
   "execution_count": 46,
   "metadata": {
    "collapsed": true
   },
   "outputs": [],
   "source": [
    "# generate a knight Tour Graph\n",
    "from pythonds.graphs import Graph\n",
    "def knightGraph(bdSize):\n",
    "    ktGraph=Graph()\n",
    "    for row in range(bdSize):\n",
    "        for col in range(bdSize):\n",
    "            nodeId=posToNodeId(row,col,bdSize)\n",
    "            newPositions=genLegalMoves(row, col,bdSize)\n",
    "            for e in newPositions:\n",
    "                nid=posToNodeId(e[0],e[1],bdSize)\n",
    "                ktGraph.addEdge(nodeId,nid)\n",
    "            print(nid)\n",
    "    return ktGraph\n",
    "\n",
    "def posToNodeId(row,col,bdSize):\n",
    "    return row*bdSize+col\n",
    "\n",
    "def genLegalMoves(x,y,bdSize):\n",
    "    newMoves=[]\n",
    "    moveOffsets=[(-1,-2),(-1,-1),(-2,-2),(-2,-1),(1,1),(1,2),(2,1),(2,2)]\n",
    "    for i in moveOffsets:\n",
    "        newX=x+i[0]\n",
    "        newY=y+i[1]\n",
    "        if legalCoord(newX,bdSize) and legalCoord(newY,bdSize):\n",
    "            newMoves.append((newX,newY))\n",
    "    return newMoves\n",
    "\n",
    "def legalCoord(x,bdSize):\n",
    "    if x>=0 and x<bdSize:\n",
    "        return True\n",
    "    else:\n",
    "        return False"
   ]
  },
  {
   "cell_type": "code",
   "execution_count": 50,
   "metadata": {
    "collapsed": true
   },
   "outputs": [],
   "source": [
    "from pythonds.graphs import Graph, Vertex\n",
    "def knightTour(n,path,u,limit):\n",
    "    #u is the start point\n",
    "    u.setColor('gray')\n",
    "    path.append(u)\n",
    "    if n<limit:\n",
    "        nbrList=list(u.getConnections())\n",
    "        print(nbrList)\n",
    "        i=0\n",
    "        done=False\n",
    "        while i<len(nbrList) and not done:\n",
    "            \n",
    "            if nbrList[i].getColor()=='white':\n",
    "                    done=knightTour(n+1,path,nbrList[i],limit)\n",
    "            i+=1\n",
    "        if not done:\n",
    "            u.setColor('white')\n",
    "            path.pop()\n",
    "    else:\n",
    "        done=True\n",
    "    return done,path\n",
    "        "
   ]
  },
  {
   "cell_type": "code",
   "execution_count": 52,
   "metadata": {},
   "outputs": [
    {
     "name": "stdout",
     "output_type": "stream",
     "text": [
      "12\n",
      "13\n",
      "14\n",
      "14\n",
      "14\n",
      "17\n",
      "18\n",
      "19\n",
      "19\n",
      "3\n",
      "22\n",
      "23\n",
      "24\n",
      "24\n",
      "3\n",
      "22\n",
      "23\n",
      "24\n",
      "24\n",
      "8\n",
      "8\n",
      "10\n",
      "11\n",
      "12\n",
      "13\n",
      "[]\n"
     ]
    },
    {
     "data": {
      "text/plain": [
       "(False, [])"
      ]
     },
     "execution_count": 52,
     "metadata": {},
     "output_type": "execute_result"
    }
   ],
   "source": [
    "a=knightGraph(5)\n",
    "i=Vertex(12)\n",
    "knightTour(0,[],i,25)"
   ]
  },
  {
   "cell_type": "code",
   "execution_count": 1,
   "metadata": {
    "collapsed": true
   },
   "outputs": [],
   "source": [
    "def orderByAvail(n): #to replace get connections, can speed up the algorithm\n",
    "    resList=[]\n",
    "    for v in n.getConnections():\n",
    "        if v.getColor=='white':            \n",
    "            c=0\n",
    "            for w in v.getConnections():\n",
    "                if w.getColor=='white':\n",
    "                    c+=1\n",
    "            resList.append((c,v))\n",
    "    resList.sort(key=lambda x:x[0])\n",
    "    return [y[1] for y in resList]"
   ]
  },
  {
   "cell_type": "code",
   "execution_count": null,
   "metadata": {
    "collapsed": true
   },
   "outputs": [],
   "source": []
  }
 ],
 "metadata": {
  "kernelspec": {
   "display_name": "Python [conda root]",
   "language": "python",
   "name": "conda-root-py"
  },
  "language_info": {
   "codemirror_mode": {
    "name": "ipython",
    "version": 3
   },
   "file_extension": ".py",
   "mimetype": "text/x-python",
   "name": "python",
   "nbconvert_exporter": "python",
   "pygments_lexer": "ipython3",
   "version": "3.5.2"
  }
 },
 "nbformat": 4,
 "nbformat_minor": 2
}
