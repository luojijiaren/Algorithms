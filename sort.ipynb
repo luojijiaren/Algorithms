{
 "cells": [
  {
   "cell_type": "code",
   "execution_count": 20,
   "metadata": {},
   "outputs": [
    {
     "data": {
      "text/plain": [
       "[1, 2, 3, 3, 3, 4, 6, 9]"
      ]
     },
     "execution_count": 20,
     "metadata": {},
     "output_type": "execute_result"
    }
   ],
   "source": [
    "def bubbleSort(arr):  #just exchange elements in neighbors \n",
    "    n=len(arr)\n",
    "    for i in range(n-1,0,-1):\n",
    "        for j in range(i):\n",
    "            if arr[j]>arr[j+1]:\n",
    "                temp=arr[j+1]\n",
    "                arr[j+1]=arr[j]\n",
    "                arr[j]=temp\n",
    "    return arr\n",
    "\n",
    "bubbleSort([1,6,3,3,2,9,3,4])\n",
    "                \n",
    "    "
   ]
  },
  {
   "cell_type": "code",
   "execution_count": null,
   "metadata": {
    "collapsed": true
   },
   "outputs": [],
   "source": []
  },
  {
   "cell_type": "code",
   "execution_count": 8,
   "metadata": {},
   "outputs": [
    {
     "data": {
      "text/plain": [
       "[1, 2, 3, 3, 3, 4, 6, 9]"
      ]
     },
     "execution_count": 8,
     "metadata": {},
     "output_type": "execute_result"
    }
   ],
   "source": [
    "def selectSort(arr):   #select the miniest one and exchange it with the head of the left arr\n",
    "    n=len(arr)\n",
    "    for i in range(n):\n",
    "        minindex=i\n",
    "        for j in range(i,n):\n",
    "            if arr[j]<arr[minindex]:\n",
    "                minindex=j\n",
    "        temp=arr[i]\n",
    "        arr[i]=arr[minindex]\n",
    "        arr[minindex]=temp        \n",
    "        \n",
    "\n",
    "    return arr\n",
    "            \n",
    "selectSort([1,6,3,3,2,9,3,4])      "
   ]
  },
  {
   "cell_type": "code",
   "execution_count": 13,
   "metadata": {},
   "outputs": [
    {
     "data": {
      "text/plain": [
       "[1, 2, 3, 3, 3, 4, 6, 9]"
      ]
     },
     "execution_count": 13,
     "metadata": {},
     "output_type": "execute_result"
    }
   ],
   "source": [
    "def insertSort(arr):\n",
    "    for i in range(1,len(arr)):\n",
    "        temp=arr[i]\n",
    "        index=i\n",
    "        while arr[index-1]>temp and index>0:\n",
    "            arr[index]=arr[index-1]\n",
    "            index-=1       \n",
    "        arr[index]=temp\n",
    "    return arr\n",
    "insertSort([1,6,3,3,2,9,3,4])         "
   ]
  },
  {
   "cell_type": "code",
   "execution_count": 41,
   "metadata": {},
   "outputs": [
    {
     "data": {
      "text/plain": [
       "[1, 6, 3, 3, 2, 9, 3, 4]"
      ]
     },
     "execution_count": 41,
     "metadata": {},
     "output_type": "execute_result"
    }
   ],
   "source": [
    "def mergesort(arr): #!!!notice recursion combine with if instead of while        \n",
    "    if len(arr)>1:\n",
    "        i=len(arr)//2\n",
    "        larr=arr[:i]\n",
    "        mergesort(larr)\n",
    "        rarr=arr[i:]\n",
    "        mergesort(rarr)\n",
    "        mergearr(larr,rarr)\n",
    "    return arr\n",
    "\n",
    "def mergearr(arr1,arr2): #**use two pointer and while loop, notice the imcomplete problem of using and in while loop\n",
    "    i=0\n",
    "    j=0\n",
    "    arr=[]    \n",
    "    while i<len(arr1) and j<len(arr2):\n",
    "        if arr1[i]<=arr2[j]:\n",
    "            arr.append(arr1[i])\n",
    "            i+=1\n",
    "        elif arr1[i]>arr2[j]:\n",
    "            arr.append(arr2[j])\n",
    "            j+=1\n",
    "    while i<len(arr1):\n",
    "        arr.append(arr1[i])\n",
    "        i+=1\n",
    "    while j<len(arr2):\n",
    "        arr.append(arr2[j])\n",
    "        j+=1\n",
    "    return arr        \n",
    "\n",
    "mergesort([1,6,3,3,2,9,3,4])"
   ]
  },
  {
   "cell_type": "code",
   "execution_count": 40,
   "metadata": {},
   "outputs": [
    {
     "data": {
      "text/plain": [
       "[1, 1, 2, 2, 3, 4, 4, 5, 6, 7]"
      ]
     },
     "execution_count": 40,
     "metadata": {},
     "output_type": "execute_result"
    }
   ],
   "source": [
    "def quickSort(arr):  #when want to use the property of arguments, define another function\n",
    "    quickSortHelp(arr,0,len(arr)-1)\n",
    "    return arr\n",
    "    \n",
    "def quickSortHelp(arr,first,last):\n",
    "    if first<last:\n",
    "        pointer=partition(arr,first,last)\n",
    "        quickSortHelp(arr,first,pointer-1)  #need to use the same arr resulted from partition\n",
    "        quickSortHelp(arr,pointer+1,last)\n",
    "        \n",
    "def partition(arr,first,last):\n",
    "    k=arr[first]\n",
    "    i=first+1\n",
    "    j=last\n",
    "    done=False\n",
    "    while not done:     \n",
    "        while i<=j and arr[i]<=k: #!!notice the order of things before or after 'and' matter! when first become false, it will stop judging\n",
    "                                  #notice i<=j is here, not above\n",
    "            i=i+1\n",
    "        while  j>=i and arr[j]>=k: \n",
    "            j=j-1\n",
    "\n",
    "        if j<i:\n",
    "            done=True\n",
    "        else:\n",
    "            temp=arr[i]\n",
    "            arr[i]=arr[j]\n",
    "            arr[j]=temp\n",
    "\n",
    "    temp2=arr[first]\n",
    "    arr[first]=arr[j]\n",
    "    arr[j]=temp2\n",
    "    return j       \n",
    "\n",
    "quickSort([3,1,4,2,6,7,1,2,5,4])    "
   ]
  },
  {
   "cell_type": "code",
   "execution_count": null,
   "metadata": {
    "collapsed": true
   },
   "outputs": [],
   "source": []
  },
  {
   "cell_type": "code",
   "execution_count": 1,
   "metadata": {},
   "outputs": [
    {
     "data": {
      "text/plain": [
       "[2, 3, 5, 6, 9]"
      ]
     },
     "execution_count": 1,
     "metadata": {},
     "output_type": "execute_result"
    }
   ],
   "source": [
    "class binheap: #sort a complete binary heap,close to O(n)\n",
    "    def __int__(self):\n",
    "        self.heaplist=[0]\n",
    "    def percUp(self,i):\n",
    "        while i//2>0:\n",
    "            if self.heaplist[i]<self.heplist[i//2]:\n",
    "                temp=self.heaplist[i]\n",
    "                self.heaplist[i]=self.heaplist[i//2]\n",
    "                self.heaplist[i//2]=temp\n",
    "            i=i//2\n",
    "    def insert(self,k):\n",
    "        self.heaplist.append(k)\n",
    "        self.percUp(len(self.heaplist)-1)\n",
    "    def percDown(self,i):\n",
    "        while 2*i<=len(self.heaplist)-1:\n",
    "            mc=self.minichild(i)\n",
    "            if self.heaplist[i]>self.heaplist[mc]:\n",
    "                temp=self.heaplist[i]\n",
    "                self.heaplist[i]=self.heaplist[mc]\n",
    "                self.heaplist[mc]=temp\n",
    "            i=mc\n",
    "    def minichild(self,i):\n",
    "        if 2*i+1>len(self.heaplist)-1:\n",
    "            return 2*i\n",
    "        else:\n",
    "            if self.heaplist[2*i]>self.heaplist[2*i+1]:\n",
    "                return 2*i+1\n",
    "            else: return 2*i\n",
    "    def delmin(self):\n",
    "        minel=self.heaplist[1]\n",
    "        self.heaplist[1]=self.heaplist[len(self.heaplist)-1]\n",
    "        self.heaplist.pop()\n",
    "        self.percDown(1)\n",
    "        return minel\n",
    "    def buildheap(self,alist):\n",
    "        i=len(alist)//2 \n",
    "        self.heaplist=[0]+alist\n",
    "        while i>0:\n",
    "            self.percDown(i)\n",
    "            i=i-1\n",
    "        return self.heaplist\n",
    "    def binheapsort(self,alist):\n",
    "        res=[]\n",
    "        self.heaplist=self.buildheap(alist)\n",
    "        while len(self.heaplist)-1>0:\n",
    "            mine=self.delmin()\n",
    "            res.append(mine)\n",
    "        return res\n",
    "            \n",
    "bh=binheap()\n",
    "bh.binheapsort([9,5,6,2,3])"
   ]
  },
  {
   "cell_type": "code",
   "execution_count": null,
   "metadata": {
    "collapsed": true
   },
   "outputs": [],
   "source": []
  },
  {
   "cell_type": "code",
   "execution_count": null,
   "metadata": {
    "collapsed": true
   },
   "outputs": [],
   "source": []
  },
  {
   "cell_type": "code",
   "execution_count": null,
   "metadata": {
    "collapsed": true
   },
   "outputs": [],
   "source": []
  },
  {
   "cell_type": "code",
   "execution_count": 22,
   "metadata": {},
   "outputs": [
    {
     "data": {
      "text/plain": [
       "[1, 2, 3, 3, 3, 4, 6, 9]"
      ]
     },
     "execution_count": 22,
     "metadata": {},
     "output_type": "execute_result"
    }
   ],
   "source": [
    "def mySort(arr):\n",
    "    n=len(arr)\n",
    "    for i in range(1,n):\n",
    "        for j in range(i):\n",
    "            if arr[i]<arr[j]:\n",
    "                temp=arr[i]\n",
    "                arr[i]=arr[j]\n",
    "                arr[j]=temp\n",
    "    return arr\n",
    "\n",
    "mySort([1,6,3,3,2,9,3,4])\n",
    "                "
   ]
  },
  {
   "cell_type": "code",
   "execution_count": null,
   "metadata": {
    "collapsed": true
   },
   "outputs": [],
   "source": []
  }
 ],
 "metadata": {
  "kernelspec": {
   "display_name": "Python [conda root]",
   "language": "python",
   "name": "conda-root-py"
  },
  "language_info": {
   "codemirror_mode": {
    "name": "ipython",
    "version": 3
   },
   "file_extension": ".py",
   "mimetype": "text/x-python",
   "name": "python",
   "nbconvert_exporter": "python",
   "pygments_lexer": "ipython3",
   "version": "3.5.2"
  }
 },
 "nbformat": 4,
 "nbformat_minor": 2
}
