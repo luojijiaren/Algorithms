{
 "cells": [
  {
   "cell_type": "code",
   "execution_count": 25,
   "metadata": {},
   "outputs": [
    {
     "data": {
      "text/plain": [
       "27"
      ]
     },
     "execution_count": 25,
     "metadata": {},
     "output_type": "execute_result"
    }
   ],
   "source": [
    "#Nested List Weight Sum\n",
    "a=[1,[4,[6]]]\n",
    "\n",
    "def weight(a):\n",
    "    k=1\n",
    "    res=0\n",
    "    while a:\n",
    "#     if not any(isinstance(NestedList[k],list) for k in range(len(NestedList))):\n",
    "#         r=[1]*len(NestedList) \n",
    "        temp=[]\n",
    "        for i in a:\n",
    "            if not isinstance(i,list):\n",
    "                res+=k*i\n",
    "            else:\n",
    "                temp.extend(i)\n",
    "        #in python2:\n",
    "        #if i.isInteger():\n",
    "        #res+=i.getInteger()*k\n",
    "        #else: temp.extend(i.getList())\n",
    "        a=temp\n",
    "        k+=1\n",
    "    return res\n",
    "weight(a)"
   ]
  },
  {
   "cell_type": "code",
   "execution_count": 27,
   "metadata": {},
   "outputs": [
    {
     "data": {
      "text/plain": [
       "27"
      ]
     },
     "execution_count": 27,
     "metadata": {},
     "output_type": "execute_result"
    }
   ],
   "source": [
    "#with recursion\n",
    "def weight(a):\n",
    "    def weighthelper(a,depth):\n",
    "        res=0\n",
    "        for i in a:\n",
    "            if not isinstance(i,list):\n",
    "                res+=depth*i\n",
    "            else:\n",
    "                res+=weighthelper(i,depth+1)    \n",
    "        return res\n",
    "    return weighthelper(a,1)\n",
    "weight(a)"
   ]
  },
  {
   "cell_type": "code",
   "execution_count": 18,
   "metadata": {},
   "outputs": [
    {
     "data": {
      "text/plain": [
       "[2, 2]"
      ]
     },
     "execution_count": 18,
     "metadata": {},
     "output_type": "execute_result"
    }
   ],
   "source": [
    "\n",
    "\n",
    "NestedList=[[1,1],2,[1,1]]\n",
    "\n",
    "a=[1]*len(NestedList)\n",
    "b=[1,1]\n",
    "[el+1 for el in b]"
   ]
  },
  {
   "cell_type": "code",
   "execution_count": 19,
   "metadata": {
    "collapsed": true
   },
   "outputs": [],
   "source": [
    "\n",
    "def weight(NestedList):\n",
    "    res=[]\n",
    "    if not any(isinstance(NestedList[k],list) for k in range(len(NestedList))):\n",
    "        r=[1]*len(NestedList)\n",
    "        return r\n",
    "    else:\n",
    "\n",
    "        for k in range(len(NestedList)):\n",
    "            res=r.copy()\n",
    "            if isinstance(NestedList[k],list):\n",
    "                if k==0:\n",
    "                    res=[el+1 for el in weight(NestedList[k])]+res[1:]\n",
    "                else:\n",
    "                    res=res[:k-1]+[el+1 for el in weight(NestedList[k])]+res[k+1:]\n",
    "        \n",
    "        return res\n",
    "\n",
    "    "
   ]
  },
  {
   "cell_type": "code",
   "execution_count": 24,
   "metadata": {},
   "outputs": [
    {
     "data": {
      "text/plain": [
       "[4, [6]]"
      ]
     },
     "execution_count": 24,
     "metadata": {},
     "output_type": "execute_result"
    }
   ],
   "source": [
    "a=[1,[4,[6]]]\n",
    "b=[]\n",
    "for i in a:\n",
    "    if isinstance(i,list):\n",
    "        b.extend(i)\n",
    "b"
   ]
  },
  {
   "cell_type": "code",
   "execution_count": null,
   "metadata": {
    "collapsed": true
   },
   "outputs": [],
   "source": []
  }
 ],
 "metadata": {
  "kernelspec": {
   "display_name": "Python [conda root]",
   "language": "python",
   "name": "conda-root-py"
  },
  "language_info": {
   "codemirror_mode": {
    "name": "ipython",
    "version": 3
   },
   "file_extension": ".py",
   "mimetype": "text/x-python",
   "name": "python",
   "nbconvert_exporter": "python",
   "pygments_lexer": "ipython3",
   "version": "3.5.2"
  }
 },
 "nbformat": 4,
 "nbformat_minor": 2
}
