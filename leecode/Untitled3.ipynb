{
 "cells": [
  {
   "cell_type": "code",
   "execution_count": 10,
   "metadata": {},
   "outputs": [
    {
     "data": {
      "text/plain": [
       "2"
      ]
     },
     "execution_count": 10,
     "metadata": {},
     "output_type": "execute_result"
    }
   ],
   "source": [
    "\n",
    "\n",
    "num=5\n",
    "res=0\n",
    "k=0\n",
    "while num>0:\n",
    "    res+=((num+1)%2)*(2**k)\n",
    "    num=num//2 \n",
    "    k+=1\n",
    "res\n"
   ]
  },
  {
   "cell_type": "code",
   "execution_count": 7,
   "metadata": {},
   "outputs": [
    {
     "data": {
      "text/plain": [
       "False"
      ]
     },
     "execution_count": 7,
     "metadata": {},
     "output_type": "execute_result"
    }
   ],
   "source": [
    "num=2\n"
   ]
  },
  {
   "cell_type": "code",
   "execution_count": 32,
   "metadata": {},
   "outputs": [
    {
     "data": {
      "text/plain": [
       "3"
      ]
     },
     "execution_count": 32,
     "metadata": {},
     "output_type": "execute_result"
    }
   ],
   "source": [
    "#Hamming distance \n",
    "\n",
    "x=1\n",
    "y=4\n",
    "cou=0\n",
    "while x>0 and y>0:\n",
    "    if x%2!=y%2:\n",
    "        cou+=1\n",
    "    x=x//2\n",
    "    y=y//2\n",
    "while x>0:\n",
    "    cou+=1\n",
    "    x=x//2\n",
    "while y>0:\n",
    "    cou+=1 \n",
    "    y=y//2\n",
    "cou\n",
    "\n",
    "\n",
    "    "
   ]
  },
  {
   "cell_type": "code",
   "execution_count": 23,
   "metadata": {},
   "outputs": [
    {
     "data": {
      "text/plain": [
       "3"
      ]
     },
     "execution_count": 23,
     "metadata": {},
     "output_type": "execute_result"
    }
   ],
   "source": [
    "x=bin(x)\n",
    "y=bin(y)\n",
    "#print(len(x),y)\n",
    "cou=abs(len(x)-len(y))\n",
    "for i in range(min(len(x),len(y))-1,-1,-1):\n",
    "    if x[i]!=y[i]:\n",
    "        cou+=1\n",
    "cou"
   ]
  },
  {
   "cell_type": "code",
   "execution_count": 34,
   "metadata": {},
   "outputs": [],
   "source": [
    "import pyspark"
   ]
  },
  {
   "cell_type": "code",
   "execution_count": null,
   "metadata": {
    "collapsed": true
   },
   "outputs": [],
   "source": []
  }
 ],
 "metadata": {
  "kernelspec": {
   "display_name": "Python [conda root]",
   "language": "python",
   "name": "conda-root-py"
  },
  "language_info": {
   "codemirror_mode": {
    "name": "ipython",
    "version": 3
   },
   "file_extension": ".py",
   "mimetype": "text/x-python",
   "name": "python",
   "nbconvert_exporter": "python",
   "pygments_lexer": "ipython3",
   "version": "3.5.2"
  }
 },
 "nbformat": 4,
 "nbformat_minor": 2
}
