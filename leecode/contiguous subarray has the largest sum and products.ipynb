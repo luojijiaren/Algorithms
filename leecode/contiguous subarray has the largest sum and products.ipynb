{
 "cells": [
  {
   "cell_type": "code",
   "execution_count": 14,
   "metadata": {},
   "outputs": [
    {
     "data": {
      "text/plain": [
       "[4, -1, 2, 1]"
      ]
     },
     "execution_count": 14,
     "metadata": {},
     "output_type": "execute_result"
    }
   ],
   "source": [
    "#find the contiguous subarray has the largest sum\n",
    "\n",
    "nums=[-2,1,-3,4,-1,2,1,-5,4]\n",
    "i=0\n",
    "while True:\n",
    "    temp=[]\n",
    "    index=[]\n",
    "    while True:    \n",
    "        temp.append(nums[i])\n",
    "        index.append(i)\n",
    "        if nums[i]<0 and nums[i+1]>0:\n",
    "            break\n",
    "        else:\n",
    "            i+=1\n",
    "    if sum(temp)>0:\n",
    "        break\n",
    "    else:\n",
    "        i+=1\n",
    "start=index[0]\n",
    "j=len(nums)-1\n",
    "while True:\n",
    "    temp=[]\n",
    "    index=[]\n",
    "    while True:    \n",
    "        temp.append(nums[j])\n",
    "        index.append(j)\n",
    "        if nums[j]<0 and nums[j-1]>0:\n",
    "            break\n",
    "        else:\n",
    "            j-=1\n",
    "    if sum(temp)>0:\n",
    "        break\n",
    "    else:\n",
    "        j-=1    \n",
    "end=index[0]   \n",
    "res=nums[start:end+1]\n",
    "res"
   ]
  },
  {
   "cell_type": "code",
   "execution_count": 17,
   "metadata": {},
   "outputs": [
    {
     "data": {
      "text/plain": [
       "6"
      ]
     },
     "execution_count": 17,
     "metadata": {},
     "output_type": "execute_result"
    }
   ],
   "source": [
    "# Optimized. dynamic programming, divide and conquer\n",
    "# !! use divide and conquer twice in one loop\n",
    "csum=msum=nums[0]\n",
    "for i in nums[1:]:\n",
    "    csum=max(i,i+csum) #csum is the largest sum subarray with i as end\n",
    "    msum=max(msum,csum) \n",
    "msum"
   ]
  },
  {
   "cell_type": "code",
   "execution_count": 15,
   "metadata": {},
   "outputs": [
    {
     "data": {
      "text/plain": [
       "[4, -1, 2, 1]"
      ]
     },
     "execution_count": 15,
     "metadata": {},
     "output_type": "execute_result"
    }
   ],
   "source": [
    "nums=[-2,1,-3,4,-1,2,1,-5,4]\n",
    "csum=msum=nums[0]\n",
    "carr=marr=[nums[0]]\n",
    "for i in nums[1:]:\n",
    "    if i>i+csum:\n",
    "        carr=[i]\n",
    "        csum=i\n",
    "    else: \n",
    "        carr+=[i]\n",
    "        csum+=i\n",
    "\n",
    "    if csum>msum:\n",
    "        marr=carr.copy()   # ! avoid array aliasing problem. number does not have this problem\n",
    "        msum=csum\n",
    "marr    \n"
   ]
  },
  {
   "cell_type": "code",
   "execution_count": 12,
   "metadata": {},
   "outputs": [
    {
     "data": {
      "text/plain": [
       "6"
      ]
     },
     "execution_count": 12,
     "metadata": {},
     "output_type": "execute_result"
    }
   ],
   "source": [
    "#find the contiguous subarray has the largest products\n",
    "nums=[-2,-1,3,0,-1,2,-1,-2]\n",
    "cmin=cmax=mmax=nums[0]\n",
    "for i in nums[1:]:\n",
    "    if i>0:\n",
    "        cmax_temp=max(i,i*cmax) #cmax is the largest products subarray with i as end\n",
    "        cmin_temp=min(i,i*cmin)        \n",
    "    elif i<0:\n",
    "        cmax_temp=max(i,i*cmin)\n",
    "        cmin_temp=min(i,i*cmax)\n",
    "\n",
    "    else:\n",
    "        cmax_temp=0\n",
    "        cmin_temp=0\n",
    "    cmax=cmax_temp\n",
    "    cmin=cmin_temp\n",
    "    mmax=max(mmax,cmax)         \n",
    "        \n",
    "mmax"
   ]
  },
  {
   "cell_type": "code",
   "execution_count": 16,
   "metadata": {},
   "outputs": [
    {
     "data": {
      "text/plain": [
       "[-2, -1, 3]"
      ]
     },
     "execution_count": 16,
     "metadata": {},
     "output_type": "execute_result"
    }
   ],
   "source": [
    "#find the contiguous subarray has the largest products\n",
    "nums=[-2,-1,3,0,-1,2,-1,-2]\n",
    "cmin=cmax=mmax=nums[0]\n",
    "cmin_arr=cmax_arr=mmax_arr=[nums[0]]\n",
    "for i in nums[1:]:\n",
    "    if i>0:\n",
    "        if i>i*cmax:\n",
    "            cmax_arr=[i]\n",
    "            cmax_temp=i\n",
    "        else:\n",
    "            cmax_arr+=[i]\n",
    "            cmax_temp=i*cmax \n",
    "        if i<i*cmin:\n",
    "            cmin_arr=[i]\n",
    "            cmin_temp=i\n",
    "        else:\n",
    "            cmin_arr+=[i]\n",
    "            cmin_temp=i*cmin              \n",
    "        \n",
    "    elif i<0:\n",
    "        if i>i*cmin:\n",
    "            cmax_arr=[i]\n",
    "            cmax_temp=i\n",
    "        else:\n",
    "            cmax_arr+=[i]\n",
    "            cmax_temp=i*cmin\n",
    "        if i<i*cmax:\n",
    "            cmin_arr=[i]\n",
    "            cmin_temp=i\n",
    "        else:\n",
    "            cmin_arr+=[i]\n",
    "            cmin_temp=i*cmax \n",
    "\n",
    "    else:\n",
    "        cmax_temp=0\n",
    "        cmin_temp=0\n",
    "    cmax=cmax_temp\n",
    "    cmin=cmin_temp\n",
    "    if cmax>mmax:\n",
    "        marr=cmax_arr.copy()   # ! avoid array aliasing problem. number does not have this problem\n",
    "        mmax=cmax\n",
    "marr    \n"
   ]
  },
  {
   "cell_type": "code",
   "execution_count": null,
   "metadata": {
    "collapsed": true
   },
   "outputs": [],
   "source": [
    "#Maximum Product of Three Numbers\n",
    "nums=[-2,-1,3,0,-1,2,-1,-2]\n"
   ]
  }
 ],
 "metadata": {
  "kernelspec": {
   "display_name": "Python [conda root]",
   "language": "python",
   "name": "conda-root-py"
  },
  "language_info": {
   "codemirror_mode": {
    "name": "ipython",
    "version": 3
   },
   "file_extension": ".py",
   "mimetype": "text/x-python",
   "name": "python",
   "nbconvert_exporter": "python",
   "pygments_lexer": "ipython3",
   "version": "3.5.2"
  }
 },
 "nbformat": 4,
 "nbformat_minor": 2
}
