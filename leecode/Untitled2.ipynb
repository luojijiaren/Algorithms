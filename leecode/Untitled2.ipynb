{
 "cells": [
  {
   "cell_type": "code",
   "execution_count": null,
   "metadata": {
    "collapsed": true
   },
   "outputs": [],
   "source": [
    "# Product of Array Except Self\n",
    "#do not use division, O(n)\n",
    "nums=[1,2,3,4,5]\n",
    "p=1\n",
    "a=[]\n",
    "for i in range(len(nums)):\n",
    "    a.append(p)\n",
    "    p=p*nums[i]\n",
    "print(a)\n",
    "q=1\n",
    "for j in range(len(nums)-1,-1,-1):\n",
    "    a[j]=a[j]*q\n",
    "    q=q*nums[j]\n",
    "a"
   ]
  }
 ],
 "metadata": {
  "kernelspec": {
   "display_name": "Python [conda root]",
   "language": "python",
   "name": "conda-root-py"
  },
  "language_info": {
   "codemirror_mode": {
    "name": "ipython",
    "version": 3
   },
   "file_extension": ".py",
   "mimetype": "text/x-python",
   "name": "python",
   "nbconvert_exporter": "python",
   "pygments_lexer": "ipython3",
   "version": "3.5.2"
  }
 },
 "nbformat": 4,
 "nbformat_minor": 2
}
