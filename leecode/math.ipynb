{
 "cells": [
  {
   "cell_type": "code",
   "execution_count": 4,
   "metadata": {},
   "outputs": [
    {
     "name": "stdout",
     "output_type": "stream",
     "text": [
      "True\n"
     ]
    }
   ],
   "source": [
    "#Power of Two\n",
    "n=8\n",
    "if n<=0:\n",
    "    print('False')\n",
    "while n>1:\n",
    "    n=n/2\n",
    "    if n!=int(n):\n",
    "        print('False')\n",
    "        break\n",
    "print('True')\n"
   ]
  },
  {
   "cell_type": "code",
   "execution_count": null,
   "metadata": {
    "collapsed": true
   },
   "outputs": [],
   "source": []
  },
  {
   "cell_type": "code",
   "execution_count": 3,
   "metadata": {},
   "outputs": [
    {
     "name": "stdout",
     "output_type": "stream",
     "text": [
      "False\n",
      "True\n"
     ]
    }
   ],
   "source": [
    "#Power of Three\n",
    "n=8\n",
    "while n>1:\n",
    "    n=n/3\n",
    "    if n!=int(n):\n",
    "        print('False')\n",
    "        break\n",
    "print('True')"
   ]
  },
  {
   "cell_type": "code",
   "execution_count": 1,
   "metadata": {},
   "outputs": [
    {
     "data": {
      "text/plain": [
       "False"
      ]
     },
     "execution_count": 1,
     "metadata": {},
     "output_type": "execute_result"
    }
   ],
   "source": [
    "3 is int"
   ]
  },
  {
   "cell_type": "code",
   "execution_count": 7,
   "metadata": {},
   "outputs": [
    {
     "data": {
      "text/plain": [
       "2"
      ]
     },
     "execution_count": 7,
     "metadata": {},
     "output_type": "execute_result"
    }
   ],
   "source": [
    "#sqrt\n",
    "x=8\n",
    "low=0\n",
    "high=x\n",
    "while low<=high:\n",
    "    mid=(low+high)//2\n",
    "    if mid*mid>x:\n",
    "        high=mid-1\n",
    "    elif mid*mid==x:\n",
    "        print(mid)\n",
    "        break\n",
    "    else:\n",
    "        low=mid+1\n",
    "high\n",
    "    \n",
    "    \n",
    "    "
   ]
  },
  {
   "cell_type": "code",
   "execution_count": 8,
   "metadata": {},
   "outputs": [
    {
     "name": "stdout",
     "output_type": "stream",
     "text": [
      "True\n",
      "True\n",
      "False\n"
     ]
    }
   ],
   "source": [
    "#Sum of Square Numbers\n",
    "n=25\n",
    "if c==0:\n",
    "    return True\n",
    "i=0\n",
    "while i*i<n:\n",
    "    x=n-i*i\n",
    "\n",
    "    low=0\n",
    "    high=x\n",
    "\n",
    "    while low<=high:\n",
    "        mid=(low+high)//2\n",
    "        if mid*mid>x:\n",
    "            high=mid-1\n",
    "        elif mid*mid==x:\n",
    "            print('True')\n",
    "            break\n",
    "        else:\n",
    "            low=mid+1\n",
    "    i+=1\n",
    "print('False')"
   ]
  },
  {
   "cell_type": "code",
   "execution_count": null,
   "metadata": {
    "collapsed": true
   },
   "outputs": [],
   "source": [
    "#ootimized"
   ]
  },
  {
   "cell_type": "code",
   "execution_count": 1,
   "metadata": {},
   "outputs": [
    {
     "data": {
      "text/plain": [
       "False"
      ]
     },
     "execution_count": 1,
     "metadata": {},
     "output_type": "execute_result"
    }
   ],
   "source": [
    "#Strobogrammatic Number\n",
    "def isStrobogrammatic(num):\n",
    "    for i in range(len(num)//2+1):\n",
    "        if num[i] not in ['0','1','6','8','9']:\n",
    "            return False\n",
    "        elif num[i] in ['0','1','8']:\n",
    "            if num[-(i+1)]!=num[i]:\n",
    "                return False\n",
    "        elif num[i]=='6':\n",
    "            if num[-(i+1)]!='9':\n",
    "                return False\n",
    "        else:\n",
    "            if num[-(i+1)]!='6':\n",
    "                return False\n",
    "    return True\n",
    "\n",
    "def isStrobogrammatic(num):\n",
    "    return all(num[i]+num[~i] in '696 00 11 88' for i in range(len(num)//2+1))\n",
    "\n",
    "num='698818769'\n",
    "isStrobogrammatic(num)\n"
   ]
  },
  {
   "cell_type": "code",
   "execution_count": 12,
   "metadata": {},
   "outputs": [
    {
     "name": "stdout",
     "output_type": "stream",
     "text": [
      "3 2\n"
     ]
    },
    {
     "data": {
      "text/plain": [
       "'1'"
      ]
     },
     "execution_count": 12,
     "metadata": {},
     "output_type": "execute_result"
    }
   ],
   "source": [
    "#Nth Digit\n",
    "n=12\n",
    "i=0\n",
    "while n>0:\n",
    "    n-=(i+1)*9*(10**i)\n",
    "    i+=1\n",
    "\n",
    "n+=i*9*(10**(i-1))\n",
    "print(n,i)\n",
    "str(10**(i-1)+n//i-1+(n%i!=0))[n%i-1]\n"
   ]
  },
  {
   "cell_type": "code",
   "execution_count": 24,
   "metadata": {},
   "outputs": [
    {
     "data": {
      "text/plain": [
       "[1, 2, 3, 4, 6, 9, 12, 18, 36]"
      ]
     },
     "execution_count": 24,
     "metadata": {},
     "output_type": "execute_result"
    }
   ],
   "source": [
    "#find all divisors\n",
    "import numpy as np\n",
    "n=36\n",
    "l=[]\n",
    "i=1\n",
    "while i*i<=n:\n",
    "    if n%i==0:\n",
    "        l.extend([i,int(n/i)])\n",
    "    i+=1\n",
    "sorted(list(set(l)))"
   ]
  },
  {
   "cell_type": "code",
   "execution_count": 25,
   "metadata": {},
   "outputs": [
    {
     "data": {
      "text/plain": [
       "True"
      ]
     },
     "execution_count": 25,
     "metadata": {},
     "output_type": "execute_result"
    }
   ],
   "source": [
    "#Perfect Number\n",
    "n=28\n",
    "l=[]\n",
    "i=1\n",
    "while i*i<=n:\n",
    "    if n%i==0:\n",
    "        l.extend([i,int(n/i)])\n",
    "    i+=1\n",
    "n==sum(sorted(list(set(l)))[:-1])"
   ]
  },
  {
   "cell_type": "code",
   "execution_count": 29,
   "metadata": {},
   "outputs": [
    {
     "data": {
      "text/plain": [
       "True"
      ]
     },
     "execution_count": 29,
     "metadata": {},
     "output_type": "execute_result"
    }
   ],
   "source": [
    "#is Prime\n",
    "n=17\n",
    "def isPrime(n):\n",
    "    i=2\n",
    "    while i*i<=n:\n",
    "        if n%i==0:\n",
    "            return False\n",
    "        i+=1\n",
    "    return True\n",
    "\n",
    "isPrime(13)        "
   ]
  },
  {
   "cell_type": "code",
   "execution_count": 31,
   "metadata": {},
   "outputs": [
    {
     "data": {
      "text/plain": [
       "4"
      ]
     },
     "execution_count": 31,
     "metadata": {},
     "output_type": "execute_result"
    }
   ],
   "source": [
    "#Count Primes\n",
    "def countPrimes(n):\n",
    "    if n in [0,1]:\n",
    "        return 0\n",
    "    else:\n",
    "        res=0\n",
    "        for i in range(2,n):\n",
    "            if isPrime(i):\n",
    "                res+=1\n",
    "        return res\n",
    "                \n",
    "countPrimes(8)        \n",
    "    \n",
    "    \n"
   ]
  },
  {
   "cell_type": "code",
   "execution_count": 33,
   "metadata": {},
   "outputs": [
    {
     "name": "stdout",
     "output_type": "stream",
     "text": [
      "3\n",
      "5\n",
      "7\n"
     ]
    }
   ],
   "source": [
    "#optimized"
   ]
  },
  {
   "cell_type": "code",
   "execution_count": null,
   "metadata": {
    "collapsed": true
   },
   "outputs": [],
   "source": []
  }
 ],
 "metadata": {
  "kernelspec": {
   "display_name": "Python [conda root]",
   "language": "python",
   "name": "conda-root-py"
  },
  "language_info": {
   "codemirror_mode": {
    "name": "ipython",
    "version": 3
   },
   "file_extension": ".py",
   "mimetype": "text/x-python",
   "name": "python",
   "nbconvert_exporter": "python",
   "pygments_lexer": "ipython3",
   "version": "3.5.2"
  }
 },
 "nbformat": 4,
 "nbformat_minor": 2
}
