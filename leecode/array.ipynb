{
 "cells": [
  {
   "cell_type": "code",
   "execution_count": null,
   "metadata": {
    "collapsed": true
   },
   "outputs": [],
   "source": [
    "#array"
   ]
  },
  {
   "cell_type": "code",
   "execution_count": 14,
   "metadata": {},
   "outputs": [
    {
     "data": {
      "text/plain": [
       "23.25"
      ]
     },
     "execution_count": 14,
     "metadata": {},
     "output_type": "execute_result"
    }
   ],
   "source": [
    "#Maximum Average Subarray\n",
    "nums=[1,12,-5,3,5,90]\n",
    "k=4\n",
    "if len(nums)<=k:\n",
    "    res=sum(nums)/len(nums)\n",
    "else:\n",
    "    res=0\n",
    "    for i in range(len(nums)-k+1):\n",
    "        a=sum(nums[i:i+k])/k\n",
    "        if a>res:\n",
    "            res=a\n",
    "round(res,5)"
   ]
  },
  {
   "cell_type": "code",
   "execution_count": 15,
   "metadata": {},
   "outputs": [
    {
     "data": {
      "text/plain": [
       "23.25"
      ]
     },
     "execution_count": 15,
     "metadata": {},
     "output_type": "execute_result"
    }
   ],
   "source": [
    "#opanized\n",
    "a=[0]\n",
    "for v in nums:\n",
    "    a.append(a[-1]+v)\n",
    "c=[]\n",
    "for i in range(len(a)-k):\n",
    "    c.append(a[i+k]-a[i])\n",
    "max(c)/k"
   ]
  },
  {
   "cell_type": "code",
   "execution_count": 2,
   "metadata": {},
   "outputs": [
    {
     "data": {
      "text/plain": [
       "1"
      ]
     },
     "execution_count": 2,
     "metadata": {},
     "output_type": "execute_result"
    }
   ],
   "source": [
    "#shortest words distance\n",
    "words = [\"practice\", \"makes\", \"perfect\", \"coding\", \"makes\"]\n",
    "word1 = 'coding'\n",
    "word2 = 'makes'\n",
    "l1=[]\n",
    "l2=[]\n",
    "res=1000000\n",
    "for i, w in enumerate(words):\n",
    "    if w==word1:\n",
    "        l1.append(i)\n",
    "        if l2:\n",
    "            for j in l2:\n",
    "                if abs(i-j)<res:\n",
    "                    res=abs(i-j)\n",
    "    if w==word2:\n",
    "        l2.append(i)\n",
    "        if l1:\n",
    "            for j in l1:\n",
    "                if abs(i-j)<res:\n",
    "                    res=abs(i-j)\n",
    "res"
   ]
  },
  {
   "cell_type": "code",
   "execution_count": 4,
   "metadata": {},
   "outputs": [
    {
     "data": {
      "text/plain": [
       "1"
      ]
     },
     "execution_count": 4,
     "metadata": {},
     "output_type": "execute_result"
    }
   ],
   "source": [
    "#optimized\n",
    "l1=[]\n",
    "l2=[]\n",
    "res=1000000\n",
    "for i, w in enumerate(words):\n",
    "    if w==word1:\n",
    "        l1.append(i)\n",
    "    if w==word2:\n",
    "        l2.append(i)\n",
    "for j in l2:\n",
    "    low=0\n",
    "    high=len(l1)-1\n",
    "    while low<high:\n",
    "        mid=(low+high)//2\n",
    "        if l1[mid]>j:\n",
    "            high=mid-1\n",
    "        elif l1[mid]<j:\n",
    "            low=mid+1\n",
    "    temp=min(abs(l1[low]-j),abs(l1[high]-j))\n",
    "    if temp<res:\n",
    "        res=temp\n",
    "res"
   ]
  },
  {
   "cell_type": "code",
   "execution_count": null,
   "metadata": {
    "collapsed": true
   },
   "outputs": [],
   "source": []
  }
 ],
 "metadata": {
  "kernelspec": {
   "display_name": "Python [conda root]",
   "language": "python",
   "name": "conda-root-py"
  },
  "language_info": {
   "codemirror_mode": {
    "name": "ipython",
    "version": 3
   },
   "file_extension": ".py",
   "mimetype": "text/x-python",
   "name": "python",
   "nbconvert_exporter": "python",
   "pygments_lexer": "ipython3",
   "version": "3.5.2"
  }
 },
 "nbformat": 4,
 "nbformat_minor": 2
}
