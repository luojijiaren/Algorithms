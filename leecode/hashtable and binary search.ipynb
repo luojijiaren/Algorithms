{
 "cells": [
  {
   "cell_type": "code",
   "execution_count": 6,
   "metadata": {},
   "outputs": [
    {
     "data": {
      "text/plain": [
       "[False, False, False, False, False, False, False, False]"
      ]
     },
     "execution_count": 6,
     "metadata": {},
     "output_type": "execute_result"
    }
   ],
   "source": [
    "#binary search\n",
    "\n",
    "l=[False for i in range(1,9)]"
   ]
  },
  {
   "cell_type": "code",
   "execution_count": 10,
   "metadata": {},
   "outputs": [
    {
     "data": {
      "text/plain": [
       "0"
      ]
     },
     "execution_count": 10,
     "metadata": {},
     "output_type": "execute_result"
    }
   ],
   "source": [
    "l=[1,1,2,2]\n",
    "import bisect\n",
    "bisect.bisect_left(l,1)"
   ]
  },
  {
   "cell_type": "code",
   "execution_count": null,
   "metadata": {
    "collapsed": true
   },
   "outputs": [],
   "source": [
    "h={[]}\n",
    "words=[\"Hello\", \"Alaska\", \"Dad\", \"Peace\"]\n",
    "for w in words:\n",
    "    for c in w:\n",
    "        k="
   ]
  },
  {
   "cell_type": "code",
   "execution_count": 16,
   "metadata": {},
   "outputs": [
    {
     "name": "stdout",
     "output_type": "stream",
     "text": [
      "5\n"
     ]
    }
   ],
   "source": [
    "#Single Number\n",
    "\n",
    "nums=[1,3,5,3,1]\n",
    "res={}\n",
    "for i in nums:\n",
    "    res[i]=res.get(i,0)+1\n",
    "for j in res.keys():\n",
    "    if res[j]==1:\n",
    "        print(j)\n",
    "\n",
    "    "
   ]
  },
  {
   "cell_type": "code",
   "execution_count": 29,
   "metadata": {},
   "outputs": [
    {
     "data": {
      "text/plain": [
       "5"
      ]
     },
     "execution_count": 29,
     "metadata": {},
     "output_type": "execute_result"
    }
   ],
   "source": [
    "#another solution\n",
    "res=0\n",
    "for i in nums:\n",
    "    res^=i  # ! ^ is bit xor\n",
    "res"
   ]
  },
  {
   "cell_type": "code",
   "execution_count": 31,
   "metadata": {},
   "outputs": [
    {
     "data": {
      "text/plain": [
       "5"
      ]
     },
     "execution_count": 31,
     "metadata": {},
     "output_type": "execute_result"
    }
   ],
   "source": [
    "#3\n",
    "res=2*sum(set(nums))-sum(nums)\n",
    "res"
   ]
  },
  {
   "cell_type": "code",
   "execution_count": 33,
   "metadata": {},
   "outputs": [
    {
     "ename": "ImportError",
     "evalue": "No module named 'reduce'",
     "output_type": "error",
     "traceback": [
      "\u001b[1;31m---------------------------------------------------------------------------\u001b[0m",
      "\u001b[1;31mImportError\u001b[0m                               Traceback (most recent call last)",
      "\u001b[1;32m<ipython-input-33-2db0f6fe7e9d>\u001b[0m in \u001b[0;36m<module>\u001b[1;34m()\u001b[0m\n\u001b[0;32m      1\u001b[0m \u001b[1;31m#4\u001b[0m\u001b[1;33m\u001b[0m\u001b[1;33m\u001b[0m\u001b[0m\n\u001b[1;32m----> 2\u001b[1;33m \u001b[1;32mimport\u001b[0m \u001b[0mreduce\u001b[0m\u001b[1;33m\u001b[0m\u001b[0m\n\u001b[0m\u001b[0;32m      3\u001b[0m \u001b[0mres\u001b[0m\u001b[1;33m=\u001b[0m\u001b[0mreduce\u001b[0m\u001b[1;33m(\u001b[0m\u001b[1;32mlambda\u001b[0m \u001b[0mx\u001b[0m\u001b[1;33m,\u001b[0m\u001b[0my\u001b[0m\u001b[1;33m:\u001b[0m\u001b[0mx\u001b[0m\u001b[1;33m^\u001b[0m\u001b[0my\u001b[0m\u001b[1;33m,\u001b[0m\u001b[0mnums\u001b[0m\u001b[1;33m)\u001b[0m\u001b[1;33m\u001b[0m\u001b[0m\n\u001b[0;32m      4\u001b[0m \u001b[0mres\u001b[0m\u001b[1;33m\u001b[0m\u001b[0m\n",
      "\u001b[1;31mImportError\u001b[0m: No module named 'reduce'"
     ]
    }
   ],
   "source": [
    "#4\n",
    "res=reduce(lambda x,y:x^y,nums)\n",
    "res"
   ]
  },
  {
   "cell_type": "code",
   "execution_count": 45,
   "metadata": {},
   "outputs": [
    {
     "data": {
      "text/plain": [
       "{'a': 2, 'b': 1}"
      ]
     },
     "execution_count": 45,
     "metadata": {},
     "output_type": "execute_result"
    }
   ],
   "source": [
    "#Palindrome Permutation\n",
    "s='aab'\n",
    "d={}\n",
    "for i in s:\n",
    "    d[i]=d.get(i,0)+1\n",
    "res=0\n",
    "for j in d.values():\n",
    "    if j%2==1:\n",
    "        res+=1\n",
    "if res>1:\n",
    "    return False\n",
    "else:\n",
    "    return True\n",
    "    "
   ]
  },
  {
   "cell_type": "code",
   "execution_count": 4,
   "metadata": {},
   "outputs": [
    {
     "data": {
      "text/plain": [
       "3"
      ]
     },
     "execution_count": 4,
     "metadata": {},
     "output_type": "execute_result"
    }
   ],
   "source": [
    "#keyboard row\n",
    "words='Fangling'\n",
    "d={}\n",
    "for i in 'qwertyuiop':\n",
    "    d[i]=1\n",
    "for j in 'asdfghjkl':\n",
    "    d[j]=2\n",
    "for k in 'zxcvbnm':\n",
    "    d[k]=3\n",
    "len(set([d[v] for v in words.lower()]))\n",
    "    "
   ]
  },
  {
   "cell_type": "code",
   "execution_count": 9,
   "metadata": {},
   "outputs": [
    {
     "data": {
      "text/plain": [
       "16"
      ]
     },
     "execution_count": 9,
     "metadata": {},
     "output_type": "execute_result"
    }
   ],
   "source": [
    "grid=[[0,1,0,0],\n",
    " [1,1,1,0],\n",
    " [0,1,0,0],\n",
    " [1,1,0,0]]\n",
    "n=len(grid)\n",
    "res=0\n",
    "for i in range(n):\n",
    "    for j in range(n):\n",
    "        if grid[i][j]==1:\n",
    "            for k in [[-1,0],[1,0],[0,1],[0,-1]]:\n",
    "                if i+k[0]<0 or i+k[0]>n-1 or j+k[1]<0 or j+k[1]>n-1 or grid[i+k[0]][j+k[1]]==0 :\n",
    "                    res+=1\n",
    "res"
   ]
  },
  {
   "cell_type": "code",
   "execution_count": 24,
   "metadata": {},
   "outputs": [
    {
     "data": {
      "text/plain": [
       "16"
      ]
     },
     "execution_count": 24,
     "metadata": {},
     "output_type": "execute_result"
    }
   ],
   "source": [
    "#optimized\n",
    "import operator\n",
    "sum(sum(map(operator.ne, [0] + row, row + [0])) for row in grid+list(map(list, zip(*grid))))"
   ]
  },
  {
   "cell_type": "code",
   "execution_count": 19,
   "metadata": {},
   "outputs": [
    {
     "name": "stdout",
     "output_type": "stream",
     "text": [
      "[0, 1, 0, 1]\n",
      "[1, 1, 1, 1]\n",
      "[0, 1, 0, 0]\n",
      "[0, 0, 0, 0]\n"
     ]
    }
   ],
   "source": [
    "for row in map(list, zip(*grid)):\n",
    "    print(row)\n",
    "\n"
   ]
  },
  {
   "cell_type": "code",
   "execution_count": 35,
   "metadata": {},
   "outputs": [
    {
     "name": "stdout",
     "output_type": "stream",
     "text": [
      "e\n"
     ]
    }
   ],
   "source": [
    "#find the difference\n",
    "s='abcde'\n",
    "t='dacebe'\n",
    "import collections\n",
    "d1=collections.Counter(s)\n",
    "d2=collections.Counter(t)\n",
    "for i in d2.keys():\n",
    "    if d2[i]!=d1.get(i,0):\n",
    "        print(i)"
   ]
  },
  {
   "cell_type": "code",
   "execution_count": 41,
   "metadata": {},
   "outputs": [
    {
     "data": {
      "text/plain": [
       "'e'"
      ]
     },
     "execution_count": 41,
     "metadata": {},
     "output_type": "execute_result"
    }
   ],
   "source": [
    "#optimized\n",
    "list((collections.Counter(t) - collections.Counter(s)))[0]"
   ]
  },
  {
   "cell_type": "code",
   "execution_count": 40,
   "metadata": {},
   "outputs": [
    {
     "name": "stdout",
     "output_type": "stream",
     "text": [
      "e\n"
     ]
    }
   ],
   "source": [
    "#another solution\n",
    "s1=sorted(s)\n",
    "t1=sorted(t)\n",
    "try:\n",
    "    for i in range(len(t1)):\n",
    "        if s1[i]!=t1[i]:\n",
    "            print(t1[i])\n",
    "except:\n",
    "    print(t1[-1])\n",
    "    \n"
   ]
  },
  {
   "cell_type": "code",
   "execution_count": 52,
   "metadata": {},
   "outputs": [
    {
     "data": {
      "text/plain": [
       "'e'"
      ]
     },
     "execution_count": 52,
     "metadata": {},
     "output_type": "execute_result"
    }
   ],
   "source": [
    "#optimized !\n",
    "s1,t1=sorted(s),sorted(t)\n",
    "t1[-1] if s1==t1[:-1] else [j for i,j in zip(s,t) if i!=j][0]"
   ]
  },
  {
   "cell_type": "code",
   "execution_count": 57,
   "metadata": {},
   "outputs": [
    {
     "data": {
      "text/plain": [
       "'e'"
      ]
     },
     "execution_count": 57,
     "metadata": {},
     "output_type": "execute_result"
    }
   ],
   "source": [
    "#3\n",
    "import functools\n",
    "chr(functools.reduce(operator.xor,map(ord,s1+t1)))"
   ]
  },
  {
   "cell_type": "code",
   "execution_count": 49,
   "metadata": {},
   "outputs": [
    {
     "data": {
      "text/plain": [
       "[1, 2]"
      ]
     },
     "execution_count": 49,
     "metadata": {},
     "output_type": "execute_result"
    }
   ],
   "source": [
    "dict1={1:2,2:3}  \n",
    "dict2={1:2,4:3} \n",
    "list(dict1)"
   ]
  },
  {
   "cell_type": "code",
   "execution_count": 47,
   "metadata": {},
   "outputs": [
    {
     "data": {
      "text/plain": [
       "['e']"
      ]
     },
     "execution_count": 47,
     "metadata": {},
     "output_type": "execute_result"
    }
   ],
   "source": [
    "list(collections.Counter(t)- collections.Counter(s))"
   ]
  },
  {
   "cell_type": "code",
   "execution_count": 62,
   "metadata": {},
   "outputs": [
    {
     "data": {
      "text/plain": [
       "7"
      ]
     },
     "execution_count": 62,
     "metadata": {},
     "output_type": "execute_result"
    }
   ],
   "source": [
    "s=\"abccccdd\"\n",
    "d=collections.Counter(s)\n",
    "re=0\n",
    "sigle=False\n",
    "for i in d.values():\n",
    "    if i%2!=0: sigle=True\n",
    "    re+=2*(i//2)\n",
    "re+sigle\n"
   ]
  },
  {
   "cell_type": "code",
   "execution_count": 64,
   "metadata": {},
   "outputs": [
    {
     "data": {
      "text/plain": [
       "False"
      ]
     },
     "execution_count": 64,
     "metadata": {},
     "output_type": "execute_result"
    }
   ],
   "source": [
    "bool(0)"
   ]
  },
  {
   "cell_type": "code",
   "execution_count": 76,
   "metadata": {},
   "outputs": [
    {
     "data": {
      "text/plain": [
       "4"
      ]
     },
     "execution_count": 76,
     "metadata": {},
     "output_type": "execute_result"
    }
   ],
   "source": [
    "points=[[0,0],[1,0],[2,0],[3,5],[2,3],[3,2]]\n",
    "res=0\n",
    "for i in points:\n",
    "    \n",
    "    b=points.copy()\n",
    "    b.remove(i)\n",
    "    d={}\n",
    "    for j in b:\n",
    "        s=(i[0]-j[0])**2+(i[1]-j[1])**2\n",
    "        d[s]=d.get(s,0)+1\n",
    "    \n",
    "    for v1 in [v  for v in d.values() if v>1]:\n",
    "        temp=1\n",
    "        for k in range(2,v1+1):\n",
    "            temp*=k\n",
    "        res+=temp\n",
    "    \n",
    "res"
   ]
  },
  {
   "cell_type": "code",
   "execution_count": 67,
   "metadata": {},
   "outputs": [
    {
     "data": {
      "text/plain": [
       "[2, 4]"
      ]
     },
     "execution_count": 67,
     "metadata": {},
     "output_type": "execute_result"
    }
   ],
   "source": [
    "a=[2,3,4]\n",
    "a.remove(3)\n",
    "a"
   ]
  },
  {
   "cell_type": "code",
   "execution_count": 19,
   "metadata": {},
   "outputs": [
    {
     "name": "stdout",
     "output_type": "stream",
     "text": [
      "0 1\n",
      "2\n",
      "3\n",
      "4\n"
     ]
    },
    {
     "data": {
      "text/plain": [
       "4"
      ]
     },
     "execution_count": 19,
     "metadata": {},
     "output_type": "execute_result"
    }
   ],
   "source": [
    "#Longest Harmonious Subsequence,the different is less than two \n",
    "nums=[1,1,1,1]\n",
    "nums=sorted(nums)\n",
    "start=0\n",
    "end=1\n",
    "res=0\n",
    "while end<len(nums):    \n",
    "    print(start,end)\n",
    "    nextst=start\n",
    "    while end<len(nums) and nums[end]-nums[start]<2:        \n",
    "        if nums[end]-nums[end-1]!=0:\n",
    "            nextst=end\n",
    "        end+=1  \n",
    "        print(end)\n",
    "    if end-start>res:\n",
    "        res=end-start\n",
    "    if nextst==start:\n",
    "        start=end\n",
    "    else:\n",
    "        start=nextst\n",
    "    end+=1\n",
    "res\n"
   ]
  },
  {
   "cell_type": "code",
   "execution_count": 26,
   "metadata": {},
   "outputs": [
    {
     "name": "stdout",
     "output_type": "stream",
     "text": [
      "[-2, 0, 0, 0, 0, 1, 1, 1, 1, 2, 2, 2, 2, 3, 3, 3, 3, 3, 3, 3, 3, 3, 3]\n"
     ]
    },
    {
     "data": {
      "text/plain": [
       "14"
      ]
     },
     "execution_count": 26,
     "metadata": {},
     "output_type": "execute_result"
    }
   ],
   "source": [
    "#Longest Harmonious Subsequence, the different is exactly one\n",
    "#\n",
    "nums=[3,2,2,3,2,1,3,3,3,-2,0,3,2,1,0,3,1,0,1,3,0,3,3]\n",
    "nums=sorted(nums)\n",
    "print(nums)\n",
    "start=0\n",
    "end=1\n",
    "res=0\n",
    "while end<len(nums):        \n",
    "    nextst=start\n",
    "    while end<len(nums) and nums[end]-nums[start]<2:        \n",
    "        if nums[end]-nums[end-1]!=0:\n",
    "            nextst=end\n",
    "        end+=1  \n",
    "    #print(end-start)\n",
    "    if nums[end-1]-nums[start]==1 and end-start>res:\n",
    "        res=end-start\n",
    "    if nextst==start:\n",
    "        start=end\n",
    "    else:\n",
    "        start=nextst\n",
    "    #end+=1\n",
    "    #print(start,end)\n",
    "res\n"
   ]
  },
  {
   "cell_type": "code",
   "execution_count": 34,
   "metadata": {},
   "outputs": [
    {
     "data": {
      "text/plain": [
       "14"
      ]
     },
     "execution_count": 34,
     "metadata": {},
     "output_type": "execute_result"
    }
   ],
   "source": [
    "#optimized\n",
    "d=collections.Counter(nums)\n",
    "res=0\n",
    "for i in d:\n",
    "    if i+1 in d:\n",
    "        res=max(res,d[i+1]+d[i])\n",
    "res"
   ]
  },
  {
   "cell_type": "code",
   "execution_count": 40,
   "metadata": {},
   "outputs": [
    {
     "data": {
      "text/plain": [
       "['Shogun']"
      ]
     },
     "execution_count": 40,
     "metadata": {},
     "output_type": "execute_result"
    }
   ],
   "source": [
    "#\n",
    "import sys\n",
    "list1=[\"Shogun\", \"Tapioca Express\", \"Burger King\", \"KFC\"]\n",
    "list2=[\"KFC\", \"Shogun\", \"Burger King\"]\n",
    "res=sys.maxsize\n",
    "r=[]\n",
    "for i in list(set(list1)&set(list2)):\n",
    "    if list1.index(i)+list2.index(i)<res:\n",
    "        res=list1.index(i)+list2.index(i)\n",
    "        #print(res)\n",
    "        r=[i]\n",
    "    elif list1.index(i)+list2.index(i)==res:\n",
    "        r.append(i)\n",
    "    \n",
    "r"
   ]
  },
  {
   "cell_type": "code",
   "execution_count": 41,
   "metadata": {},
   "outputs": [
    {
     "data": {
      "text/plain": [
       "[0, 6]"
      ]
     },
     "execution_count": 41,
     "metadata": {},
     "output_type": "execute_result"
    }
   ],
   "source": [
    "#Find All Anagrams in a String\n",
    "\n",
    "s=\"cbaebabacd\" \n",
    "p=\"abc\"\n",
    "p=sorted(p)\n",
    "res=[]\n",
    "for i in range(len(s)-len(p)+1):\n",
    "    if sorted(s[i:i+len(p)])==p:\n",
    "        res.append(i)\n",
    "res"
   ]
  },
  {
   "cell_type": "code",
   "execution_count": 49,
   "metadata": {},
   "outputs": [
    {
     "name": "stdout",
     "output_type": "stream",
     "text": [
      "[0, 6]\n"
     ]
    }
   ],
   "source": [
    "#2\n",
    "s=\"cbaebabacd\"\n",
    "p=\"abc\"\n",
    "p=sorted(p)        \n",
    "res=[]\n",
    "for i in range(len(s)-len(p)+1):\n",
    "    if i-1 in res and s[i-1]==s[i+len(p)-1]:\n",
    "        res.append(i)\n",
    "    else:\n",
    "        if sorted(s[i:i+len(p)])==p:\n",
    "            res.append(i)\n",
    "print(res)"
   ]
  },
  {
   "cell_type": "code",
   "execution_count": null,
   "metadata": {
    "collapsed": true
   },
   "outputs": [],
   "source": [
    "#optimized \n",
    "#use hashtable \n",
    "#\n",
    "d=collections.Counter(p)\n",
    "#for i in range(len(s)-len(p)+1):\n",
    "i=0\n",
    "res=[]\n",
    "while i<len(s):\n",
    "    d1=d.copy()\n",
    "    while True:\n",
    "        \n",
    "        try:\n",
    "            d[i]-=1\n",
    "            if list(d.values())==[0]*len(d):\n",
    "                res.append(i-len(p)+1)\n",
    "                i+=1\n",
    "                break\n",
    "            i+=1\n",
    "                \n",
    "        except KeyError:\n",
    "            i+=1\n",
    "            break\n",
    "        "
   ]
  },
  {
   "cell_type": "code",
   "execution_count": 56,
   "metadata": {},
   "outputs": [
    {
     "name": "stdout",
     "output_type": "stream",
     "text": [
      "1\n"
     ]
    }
   ],
   "source": [
    "d={1:1,2:1}\n",
    "d[1]-=1\n",
    "d[2]-=1\n",
    "list(d.values())==[0,0]\n",
    "if d.values():\n",
    "    print(1)"
   ]
  },
  {
   "cell_type": "code",
   "execution_count": 58,
   "metadata": {},
   "outputs": [
    {
     "data": {
      "text/plain": [
       "2"
      ]
     },
     "execution_count": 58,
     "metadata": {},
     "output_type": "execute_result"
    }
   ],
   "source": [
    "len(d)"
   ]
  },
  {
   "cell_type": "code",
   "execution_count": 64,
   "metadata": {},
   "outputs": [
    {
     "name": "stdout",
     "output_type": "stream",
     "text": [
      "False\n"
     ]
    }
   ],
   "source": [
    "#Isomorphic Strings\n",
    "s=\"papee\" \n",
    "t=\"title\"\n",
    "d={}\n",
    "for i in range(len(t)):\n",
    "    if t[i] in d:\n",
    "        if d[t[i]]!=s[i]:\n",
    "            print('False')\n",
    "            break\n",
    "    else:\n",
    "        if s[i] in d.values():\n",
    "            print('False')\n",
    "            break\n",
    "        else:\n",
    "            d[t[i]]=s[i]\n",
    "     "
   ]
  },
  {
   "cell_type": "code",
   "execution_count": 74,
   "metadata": {},
   "outputs": [
    {
     "data": {
      "text/plain": [
       "False"
      ]
     },
     "execution_count": 74,
     "metadata": {},
     "output_type": "execute_result"
    }
   ],
   "source": [
    "#optimized\n",
    "d1, d2 = {}, {}\n",
    "for i, val in enumerate(s):\n",
    "    d1[val] = d1.get(val, []) + [i]\n",
    "for i, val in enumerate(t):\n",
    "    d2[val] = d2.get(val, []) + [i]\n",
    "sorted(d1.values())==sorted(d2.values())"
   ]
  },
  {
   "cell_type": "code",
   "execution_count": 73,
   "metadata": {},
   "outputs": [
    {
     "data": {
      "text/plain": [
       "False"
      ]
     },
     "execution_count": 73,
     "metadata": {},
     "output_type": "execute_result"
    }
   ],
   "source": [
    "#2\n",
    "len(set(zip(s,t)))==len(set(s))==len(set(t))"
   ]
  },
  {
   "cell_type": "code",
   "execution_count": 75,
   "metadata": {},
   "outputs": [
    {
     "data": {
      "text/plain": [
       "False"
      ]
     },
     "execution_count": 75,
     "metadata": {},
     "output_type": "execute_result"
    }
   ],
   "source": [
    "#3\n",
    "map(s.find,s)==map(t.find,t)"
   ]
  },
  {
   "cell_type": "code",
   "execution_count": 13,
   "metadata": {},
   "outputs": [
    {
     "data": {
      "text/plain": [
       "[[7, 0, 0], [-7, 0, 3]]"
      ]
     },
     "execution_count": 13,
     "metadata": {},
     "output_type": "execute_result"
    }
   ],
   "source": [
    "#Sparse Matrix Multiplication\n",
    "A = [\n",
    "  [ 1, 0, 0],\n",
    "  [-1, 0, 3]\n",
    "]\n",
    "B = [\n",
    "  [ 7, 0, 0 ],\n",
    "  [ 0, 0, 0 ],\n",
    "  [ 0, 0, 1 ]\n",
    "]\n",
    "[[sum([a*b for a,b in zip(l2,l1) if a!=0 and b!=0]) for l2 in zip(*B)] for l1 in A]"
   ]
  },
  {
   "cell_type": "code",
   "execution_count": 16,
   "metadata": {},
   "outputs": [
    {
     "data": {
      "text/plain": [
       "{0: {0: 7}, 1: {}, 2: {2: 1}}"
      ]
     },
     "execution_count": 16,
     "metadata": {},
     "output_type": "execute_result"
    }
   ],
   "source": [
    "#optimized, use hashtable to save time \n",
    "#if A is None or B is None: return None\n",
    "m, n, l = len(A), len(A[0]), len(B[0])\n",
    "# if len(B) != n:\n",
    "#     raise Exception(\"A's column number must be equal to B's row number.\")\n",
    "C = [[0 for _ in range(l)] for _ in range(m)]\n",
    "tableB = {}\n",
    "for k, row in enumerate(B):\n",
    "    tableB[k] = {}\n",
    "    for j, eleB in enumerate(row):\n",
    "        if eleB: tableB[k][j] = eleB\n",
    "for i, row in enumerate(A):\n",
    "    for k, eleA in enumerate(row):\n",
    "        if eleA:\n",
    "            for j, eleB in tableB[k].items():\n",
    "                C[i][j] += eleA * eleB\n",
    "C\n"
   ]
  },
  {
   "cell_type": "code",
   "execution_count": 11,
   "metadata": {},
   "outputs": [
    {
     "name": "stdout",
     "output_type": "stream",
     "text": [
      "3\n"
     ]
    }
   ],
   "source": [
    "a=[0,0,0,1]\n",
    "for i,v in enumerate(a):\n",
    "    if v:\n",
    "        print(i)"
   ]
  },
  {
   "cell_type": "code",
   "execution_count": 23,
   "metadata": {},
   "outputs": [
    {
     "data": {
      "text/plain": [
       "[[7, 0, 0], [-7, 0, 3]]"
      ]
     },
     "execution_count": 23,
     "metadata": {},
     "output_type": "execute_result"
    }
   ],
   "source": [
    "#without table\n",
    "C = [[0 for _ in range(l)] for _ in range(m)]\n",
    "for i, row in enumerate(A):\n",
    "    for k, eleA in enumerate(row):\n",
    "        if eleA:\n",
    "            for j, eleB in enumerate(B[k]):\n",
    "                if eleB:\n",
    "                    C[i][j] += eleA * eleB            \n",
    "C   "
   ]
  },
  {
   "cell_type": "code",
   "execution_count": 32,
   "metadata": {},
   "outputs": [
    {
     "data": {
      "text/plain": [
       "'the cat was rat by the bat'"
      ]
     },
     "execution_count": 32,
     "metadata": {},
     "output_type": "execute_result"
    }
   ],
   "source": [
    "# Replace Words,if we know the root length is 3\n",
    "dict = [\"cat\", \"bat\", \"rat\"]\n",
    "sentence = \"the cattle was rattled by the battery\"\n",
    "l=sentence.split()\n",
    "for i,w in enumerate(l):\n",
    "    if w[:3] in dict:\n",
    "        l[i]=w[:3]\n",
    "' '.join(l)"
   ]
  },
  {
   "cell_type": "code",
   "execution_count": 38,
   "metadata": {},
   "outputs": [
    {
     "data": {
      "text/plain": [
       "'the ca was rat by the ba'"
      ]
     },
     "execution_count": 38,
     "metadata": {},
     "output_type": "execute_result"
    }
   ],
   "source": [
    "# Replace Words,if we do not know the root length is 3\n",
    "dict = [\"ca\", \"ba\", \"rat\"]\n",
    "sentence = \"the cattle was rattled by the battery\"\n",
    "d=set(dict)\n",
    "l=sentence.split()\n",
    "for i,w in enumerate(l):\n",
    "    j=1\n",
    "    while j<len(w):\n",
    "        if w[:j] in d:\n",
    "            l[i]=w[:j]\n",
    "            break\n",
    "        j+=1\n",
    "\n",
    "' '.join(l)"
   ]
  },
  {
   "cell_type": "code",
   "execution_count": 42,
   "metadata": {},
   "outputs": [
    {
     "data": {
      "text/plain": [
       "[1, 2]"
      ]
     },
     "execution_count": 42,
     "metadata": {},
     "output_type": "execute_result"
    }
   ],
   "source": [
    "#no ele have the same frequency\n",
    "import collections\n",
    "nums=[1,1,1,2,2,3] \n",
    "k = 2\n",
    "d=collections.Counter(nums)\n",
    "l=sorted(d.values())[::-1][:k]\n",
    "res=[]\n",
    "for i,v in d.items():\n",
    "    if v in l:\n",
    "        res.append(i)\n",
    "res"
   ]
  },
  {
   "cell_type": "code",
   "execution_count": 49,
   "metadata": {},
   "outputs": [
    {
     "data": {
      "text/plain": [
       "'bbAa'"
      ]
     },
     "execution_count": 49,
     "metadata": {},
     "output_type": "execute_result"
    }
   ],
   "source": [
    "#Sort Characters By Frequency\n",
    "s=\"Aabb\" \n",
    "#'bbAa'\n",
    "''.join([k*v for k,v in collections.Counter(s).most_common()])\n"
   ]
  },
  {
   "cell_type": "code",
   "execution_count": null,
   "metadata": {
    "collapsed": true
   },
   "outputs": [],
   "source": []
  }
 ],
 "metadata": {
  "kernelspec": {
   "display_name": "Python [conda root]",
   "language": "python",
   "name": "conda-root-py"
  },
  "language_info": {
   "codemirror_mode": {
    "name": "ipython",
    "version": 3
   },
   "file_extension": ".py",
   "mimetype": "text/x-python",
   "name": "python",
   "nbconvert_exporter": "python",
   "pygments_lexer": "ipython3",
   "version": "3.5.2"
  }
 },
 "nbformat": 4,
 "nbformat_minor": 2
}
