{
 "cells": [
  {
   "cell_type": "code",
   "execution_count": 1,
   "metadata": {},
   "outputs": [
    {
     "data": {
      "text/plain": [
       "8"
      ]
     },
     "execution_count": 1,
     "metadata": {},
     "output_type": "execute_result"
    }
   ],
   "source": [
    "a=[1,3,7,8,9]\n",
    "b=2\n",
    "res=0\n",
    "for i in range(len(a)-1):\n",
    "    if a[i+1]-a[i]>=2:\n",
    "        res+=2\n",
    "    else:\n",
    "        res+=(a[i+1]-a[i])\n",
    "res+=2\n",
    "res\n",
    "    "
   ]
  },
  {
   "cell_type": "code",
   "execution_count": 5,
   "metadata": {},
   "outputs": [
    {
     "name": "stdout",
     "output_type": "stream",
     "text": [
      "4\n"
     ]
    },
    {
     "data": {
      "text/plain": [
       "4"
      ]
     },
     "execution_count": 5,
     "metadata": {},
     "output_type": "execute_result"
    }
   ],
   "source": [
    "#Array Nesting Problem\n",
    "#brute force method\n",
    "A = [5,4,0,3,1,6,2]\n",
    "res=0\n",
    "for i in range(len(A)):\n",
    "    a={}\n",
    "    index=i\n",
    "    while True:\n",
    "        try:\n",
    "            temp=a[index]\n",
    "            if len(a)>res:\n",
    "                res=len(a)\n",
    "                print(res)\n",
    "                break\n",
    "            else:\n",
    "                break\n",
    "        except KeyError:\n",
    "            a[index]=A[index]            \n",
    "            index=A[index]\n",
    "    \n",
    "res\n",
    "       "
   ]
  },
  {
   "cell_type": "code",
   "execution_count": 8,
   "metadata": {},
   "outputs": [
    {
     "data": {
      "text/plain": [
       "4"
      ]
     },
     "execution_count": 8,
     "metadata": {},
     "output_type": "execute_result"
    }
   ],
   "source": [
    "#optimized\n",
    "A = [5,4,0,3,1,6,2]\n",
    "res=0\n",
    "seen=[False]*len(A)\n",
    "for i in range(len(A)):\n",
    "    step=0\n",
    "    while not seen[i]:\n",
    "        seen[i]=True           \n",
    "        i=A[i]\n",
    "        step+=1\n",
    "    if step>res:\n",
    "        res=step\n",
    "\n",
    "res\n",
    "       \n",
    "        "
   ]
  },
  {
   "cell_type": "code",
   "execution_count": 2,
   "metadata": {},
   "outputs": [
    {
     "data": {
      "text/plain": [
       "[1, 1, 4, 5, 3, 2, 1, 1]"
      ]
     },
     "execution_count": 2,
     "metadata": {},
     "output_type": "execute_result"
    }
   ],
   "source": [
    "#Flatten Nested List Iterator\n",
    "a=[1,[1,[[4,5],3]],2,[1,1]]\n",
    "#a=[1,[4,[6]]]\n",
    "# res=[]\n",
    "# while a!=[]:\n",
    "#     if isinstance(a[0],list):\n",
    "#         res.extend(a[0])\n",
    "        \n",
    "#     else:\n",
    "#         res.extend([a[0]])\n",
    "#     try:\n",
    "#         a=list(*a[1:])\n",
    "#     except TypeError:\n",
    "#         a=a[1:]\n",
    "def flatten(a):\n",
    "    temp=[]\n",
    "    for i in a:\n",
    "        if isinstance(i,list):\n",
    "\n",
    "            temp+=flatten(i)\n",
    "            \n",
    "        else:\n",
    "            temp+=[i]\n",
    "    return temp\n",
    "flatten(a)"
   ]
  },
  {
   "cell_type": "code",
   "execution_count": 9,
   "metadata": {
    "collapsed": true
   },
   "outputs": [],
   "source": [
    "#Flatten Nested List Iterator\n",
    "\n",
    "class NestedIterator(object):\n",
    "\n",
    "    def __init__(self, nestedList):\n",
    "        \"\"\"\n",
    "        Initialize your data structure here.\n",
    "        :type nestedList: List[NestedInteger]\n",
    "        \"\"\"\n",
    "        self.nums=nestedList\n",
    "        \n",
    "\n",
    "    def next(self):\n",
    "        \"\"\"\n",
    "        :rtype: int\n",
    "        \"\"\"\n",
    "        def flatten(a):\n",
    "            temp=[]\n",
    "            for i in a:\n",
    "                if isinstance(i,list):\n",
    "\n",
    "                    temp+=flatten(i)\n",
    "\n",
    "                else:\n",
    "                    temp+=[i]\n",
    "            return temp \n",
    "        self.nums=flatten(self.nums)\n",
    "        if self.hasNext():\n",
    "            res=self.nums[0]\n",
    "            self.nums=self.nums[1:]\n",
    "            return res\n",
    "#             if isinstance(self.nums[0],list):\n",
    "#                 #print(self.nums[0])\n",
    "\n",
    "#     #             lis=self.nums[0]\n",
    "#     #             print(lis)\n",
    "\n",
    "#                 #print(self.nums[0])\n",
    "#                 #while nums[0]!=[]:\n",
    "#                 t=NestedIterator(self.nums[0])\n",
    "#                 print(t.nums)\n",
    "#                 res=t.next()\n",
    "#                 t.nums=t.nums[1:]\n",
    "#                 print(res)\n",
    "#                 return res\n",
    "\n",
    "#                     #return res\n",
    "#             else:\n",
    "#                 res=int(self.nums[0])\n",
    "#                 try:\n",
    "#                     self.nums=list(*self.nums[1:])\n",
    "#                 except TypeError:\n",
    "#                     self.nums=self.nums[1:]\n",
    "#                 #self.nums=self.nums[1:]\n",
    "#                 print(self.nums)\n",
    "#                 return res\n",
    "        \n",
    "#         print(self.nums)\n",
    "#         if isinstance(self.nums[0],list):\n",
    "#             NestedIterator(self.nums[0])\n",
    "\n",
    "#         else:\n",
    "#             return self.nums[0]\n",
    "#         try:\n",
    "#             self.nums=list(*self.nums[1:])\n",
    "#         except TypeError:\n",
    "#             self.nums=self.nums[1:]\n",
    "                   \n",
    "    def hasNext(self):\n",
    "        \"\"\"\n",
    "        :rtype: bool\n",
    "        \"\"\"\n",
    "        if self.nums==[]:\n",
    "            return False\n",
    "        else:\n",
    "            return True\n",
    "    "
   ]
  },
  {
   "cell_type": "code",
   "execution_count": 10,
   "metadata": {},
   "outputs": [
    {
     "data": {
      "text/plain": [
       "[1, 4, 6]"
      ]
     },
     "execution_count": 10,
     "metadata": {},
     "output_type": "execute_result"
    }
   ],
   "source": [
    "a=NestedIterator([1,[4,[6]]])\n",
    "b=[]\n",
    "while a.hasNext():\n",
    "    b.append(a.next())\n",
    "b"
   ]
  },
  {
   "cell_type": "code",
   "execution_count": null,
   "metadata": {
    "collapsed": true
   },
   "outputs": [],
   "source": []
  }
 ],
 "metadata": {
  "kernelspec": {
   "display_name": "Python [conda root]",
   "language": "python",
   "name": "conda-root-py"
  },
  "language_info": {
   "codemirror_mode": {
    "name": "ipython",
    "version": 3
   },
   "file_extension": ".py",
   "mimetype": "text/x-python",
   "name": "python",
   "nbconvert_exporter": "python",
   "pygments_lexer": "ipython3",
   "version": "3.5.2"
  }
 },
 "nbformat": 4,
 "nbformat_minor": 2
}
