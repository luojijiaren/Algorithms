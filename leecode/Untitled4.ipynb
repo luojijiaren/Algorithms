{
 "cells": [
  {
   "cell_type": "code",
   "execution_count": 2,
   "metadata": {
    "collapsed": true
   },
   "outputs": [],
   "source": [
    "g=[2,11,12,13]\n",
    "s=[1,3,5,9,12]\n"
   ]
  },
  {
   "cell_type": "code",
   "execution_count": 4,
   "metadata": {},
   "outputs": [
    {
     "name": "stdout",
     "output_type": "stream",
     "text": [
      "4\n"
     ]
    }
   ],
   "source": [
    "g1=sorted(g)\n",
    "s1=sorted(s)\n",
    "start=0\n",
    "while g1[0]>s1[start]:\n",
    "    start+=1\n",
    "end=len(s)-1\n",
    "while g1[-1]<s1[end]:\n",
    "    end-=1\n",
    "if end-start+1>len(g):\n",
    "    print(len(g))\n",
    "else:\n",
    "    print(end-start+1)\n",
    "    "
   ]
  },
  {
   "cell_type": "code",
   "execution_count": null,
   "metadata": {
    "collapsed": true
   },
   "outputs": [],
   "source": []
  }
 ],
 "metadata": {
  "kernelspec": {
   "display_name": "Python [default]",
   "language": "python",
   "name": "python3"
  },
  "language_info": {
   "codemirror_mode": {
    "name": "ipython",
    "version": 3
   },
   "file_extension": ".py",
   "mimetype": "text/x-python",
   "name": "python",
   "nbconvert_exporter": "python",
   "pygments_lexer": "ipython3",
   "version": "3.5.2"
  }
 },
 "nbformat": 4,
 "nbformat_minor": 2
}
