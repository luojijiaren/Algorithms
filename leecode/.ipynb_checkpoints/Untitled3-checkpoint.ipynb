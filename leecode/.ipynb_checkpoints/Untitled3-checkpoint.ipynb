{
 "cells": [
  {
   "cell_type": "code",
   "execution_count": 10,
   "metadata": {},
   "outputs": [
    {
     "data": {
      "text/plain": [
       "2"
      ]
     },
     "execution_count": 10,
     "metadata": {},
     "output_type": "execute_result"
    }
   ],
   "source": [
    "\n",
    "\n",
    "num=5\n",
    "res=0\n",
    "k=0\n",
    "while num>0:\n",
    "    res+=((num+1)%2)*(2**k)\n",
    "    num=num//2 \n",
    "    k+=1\n",
    "res\n"
   ]
  },
  {
   "cell_type": "code",
   "execution_count": 7,
   "metadata": {},
   "outputs": [
    {
     "data": {
      "text/plain": [
       "False"
      ]
     },
     "execution_count": 7,
     "metadata": {},
     "output_type": "execute_result"
    }
   ],
   "source": [
    "num=2\n"
   ]
  },
  {
   "cell_type": "code",
   "execution_count": 32,
   "metadata": {},
   "outputs": [
    {
     "data": {
      "text/plain": [
       "3"
      ]
     },
     "execution_count": 32,
     "metadata": {},
     "output_type": "execute_result"
    }
   ],
   "source": [
    "#Hamming distance \n",
    "\n",
    "x=1\n",
    "y=4\n",
    "cou=0\n",
    "while x>0 and y>0:\n",
    "    if x%2!=y%2:\n",
    "        cou+=1\n",
    "    x=x//2\n",
    "    y=y//2\n",
    "while x>0:\n",
    "    cou+=1\n",
    "    x=x//2\n",
    "while y>0:\n",
    "    cou+=1 \n",
    "    y=y//2\n",
    "cou\n",
    "\n",
    "\n",
    "    "
   ]
  },
  {
   "cell_type": "code",
   "execution_count": 23,
   "metadata": {},
   "outputs": [
    {
     "data": {
      "text/plain": [
       "3"
      ]
     },
     "execution_count": 23,
     "metadata": {},
     "output_type": "execute_result"
    }
   ],
   "source": [
    "x=bin(x)\n",
    "y=bin(y)\n",
    "#print(len(x),y)\n",
    "cou=abs(len(x)-len(y))\n",
    "for i in range(min(len(x),len(y))-1,-1,-1):\n",
    "    if x[i]!=y[i]:\n",
    "        cou+=1\n",
    "cou"
   ]
  },
  {
   "cell_type": "code",
   "execution_count": 34,
   "metadata": {
    "collapsed": true
   },
   "outputs": [],
   "source": [
    "import pyspark"
   ]
  },
  {
   "cell_type": "code",
   "execution_count": 1,
   "metadata": {
    "collapsed": true
   },
   "outputs": [],
   "source": [
    "s=[]\n",
    "s.insert(0,1)"
   ]
  },
  {
   "cell_type": "code",
   "execution_count": 2,
   "metadata": {},
   "outputs": [
    {
     "data": {
      "text/plain": [
       "[1]"
      ]
     },
     "execution_count": 2,
     "metadata": {},
     "output_type": "execute_result"
    }
   ],
   "source": [
    "s"
   ]
  },
  {
   "cell_type": "code",
   "execution_count": 7,
   "metadata": {},
   "outputs": [
    {
     "data": {
      "text/plain": [
       "[-1, 3, 3]"
      ]
     },
     "execution_count": 7,
     "metadata": {},
     "output_type": "execute_result"
    }
   ],
   "source": [
    "\n",
    "nums1 = [4,1,2]\n",
    "nums2 = [1,3,4,2]\n",
    "res=[-1]*len(nums1)\n",
    "for i in range(len(nums1)):\n",
    "    p=0\n",
    "    while p<len(nums2):\n",
    "        if nums2[p]>nums1[i]:\n",
    "            res[i]=nums2[p]\n",
    "            break\n",
    "        else:\n",
    "            p+=1\n",
    "res\n",
    "    "
   ]
  },
  {
   "cell_type": "code",
   "execution_count": 12,
   "metadata": {},
   "outputs": [
    {
     "data": {
      "text/plain": [
       "[-1, 3, -1]"
      ]
     },
     "execution_count": 12,
     "metadata": {},
     "output_type": "execute_result"
    }
   ],
   "source": [
    "\n",
    "findNums = [4,1,2]\n",
    "nums = [1,3,4,2]\n",
    "d={}\n",
    "for i in range(len(nums)-1):\n",
    "    if nums[i]<nums[i+1]:\n",
    "        d[nums[i]]=nums[i+1]\n",
    "res=[]\n",
    "for j in findNums:\n",
    "    res.append(d.get(j,-1))\n",
    "res\n",
    "        "
   ]
  },
  {
   "cell_type": "code",
   "execution_count": 13,
   "metadata": {},
   "outputs": [
    {
     "data": {
      "text/plain": [
       "[7, 7, 7, 7, 7]"
      ]
     },
     "execution_count": 13,
     "metadata": {},
     "output_type": "execute_result"
    }
   ],
   "source": [
    "#Next Greater Element I, means i in another array and the first greater number right to it \n",
    "findNums = [1,3,5,2,4]\n",
    "nums = [6,5,4,3,2,1,7]\n",
    "d={}\n",
    "t=[]\n",
    "for x in nums:\n",
    "    while t and t[-1]<x:\n",
    "        d[t.pop()]=x\n",
    "    t.append(x)\n",
    "res=[]\n",
    "for j in findNums:\n",
    "    res.append(d.get(j,-1))\n",
    "res\n"
   ]
  },
  {
   "cell_type": "code",
   "execution_count": 44,
   "metadata": {},
   "outputs": [
    {
     "name": "stdout",
     "output_type": "stream",
     "text": [
      "{1: [2, 6, 2], 2: [7], 3: [5, 4, 7], 4: [7], 5: [6], 6: [7]}\n"
     ]
    },
    {
     "data": {
      "text/plain": [
       "[2, 7, -1, 5, 6, 6, 7, 4, 7, 7, 2]"
      ]
     },
     "execution_count": 44,
     "metadata": {},
     "output_type": "execute_result"
    }
   ],
   "source": [
    "#Next Greater Element II, circally\n",
    "nums=[1,2,7,3,5,1,6,3,4,3,1]\n",
    "d={}\n",
    "t=[]\n",
    "for x in nums:\n",
    "    while t and t[-1]<x:\n",
    "        a=t.pop()\n",
    "        d[a]=d.get(a,[])+[x]\n",
    "    t.append(x)\n",
    "#print(d,t)\n",
    "for x in nums:\n",
    "    while t and t[-1]<x:\n",
    "        a=t.pop()\n",
    "        d[a]=d.get(a,[])+[x]\n",
    "print(d)\n",
    "res=[]\n",
    "for i in nums:\n",
    "    try: res.append(d[i].pop(0))\n",
    "    except KeyError:\n",
    "        res.append(d.get(i,-1))\n",
    "res"
   ]
  },
  {
   "cell_type": "code",
   "execution_count": 33,
   "metadata": {},
   "outputs": [
    {
     "data": {
      "text/plain": [
       "[1]"
      ]
     },
     "execution_count": 33,
     "metadata": {},
     "output_type": "execute_result"
    }
   ],
   "source": [
    "a={}\n",
    "t=[1,2]\n",
    "x=t.pop()\n",
    "a[x]=a.get(x,[])+[1]\n",
    "t"
   ]
  },
  {
   "cell_type": "code",
   "execution_count": null,
   "metadata": {
    "collapsed": true
   },
   "outputs": [],
   "source": []
  }
 ],
 "metadata": {
  "kernelspec": {
   "display_name": "Python [conda root]",
   "language": "python",
   "name": "conda-root-py"
  },
  "language_info": {
   "codemirror_mode": {
    "name": "ipython",
    "version": 3
   },
   "file_extension": ".py",
   "mimetype": "text/x-python",
   "name": "python",
   "nbconvert_exporter": "python",
   "pygments_lexer": "ipython3",
   "version": "3.5.2"
  }
 },
 "nbformat": 4,
 "nbformat_minor": 2
}
