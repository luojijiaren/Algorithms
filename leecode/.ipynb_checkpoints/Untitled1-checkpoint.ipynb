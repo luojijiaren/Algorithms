{
 "cells": [
  {
   "cell_type": "code",
   "execution_count": 1,
   "metadata": {},
   "outputs": [
    {
     "data": {
      "text/plain": [
       "8"
      ]
     },
     "execution_count": 1,
     "metadata": {},
     "output_type": "execute_result"
    }
   ],
   "source": [
    "a=[1,3,7,8,9]\n",
    "b=2\n",
    "res=0\n",
    "for i in range(len(a)-1):\n",
    "    if a[i+1]-a[i]>=2:\n",
    "        res+=2\n",
    "    else:\n",
    "        res+=(a[i+1]-a[i])\n",
    "res+=2\n",
    "res\n",
    "    "
   ]
  },
  {
   "cell_type": "code",
   "execution_count": 5,
   "metadata": {},
   "outputs": [
    {
     "name": "stdout",
     "output_type": "stream",
     "text": [
      "4\n"
     ]
    },
    {
     "data": {
      "text/plain": [
       "4"
      ]
     },
     "execution_count": 5,
     "metadata": {},
     "output_type": "execute_result"
    }
   ],
   "source": [
    "#Array Nesting Problem\n",
    "#brute force method\n",
    "A = [5,4,0,3,1,6,2]\n",
    "res=0\n",
    "for i in range(len(A)):\n",
    "    a={}\n",
    "    index=i\n",
    "    while True:\n",
    "        try:\n",
    "            temp=a[index]\n",
    "            if len(a)>res:\n",
    "                res=len(a)\n",
    "                print(res)\n",
    "                break\n",
    "            else:\n",
    "                break\n",
    "        except KeyError:\n",
    "            a[index]=A[index]            \n",
    "            index=A[index]\n",
    "    \n",
    "res\n",
    "       "
   ]
  },
  {
   "cell_type": "code",
   "execution_count": 8,
   "metadata": {},
   "outputs": [
    {
     "data": {
      "text/plain": [
       "4"
      ]
     },
     "execution_count": 8,
     "metadata": {},
     "output_type": "execute_result"
    }
   ],
   "source": [
    "#optimized\n",
    "A = [5,4,0,3,1,6,2]\n",
    "res=0\n",
    "seen=[False]*len(A)\n",
    "for i in range(len(A)):\n",
    "    step=0\n",
    "    while not seen[i]:\n",
    "        seen[i]=True           \n",
    "        i=A[i]\n",
    "        step+=1\n",
    "    if step>res:\n",
    "        res=step\n",
    "\n",
    "res\n",
    "       \n",
    "        "
   ]
  },
  {
   "cell_type": "code",
   "execution_count": 11,
   "metadata": {},
   "outputs": [
    {
     "name": "stdout",
     "output_type": "stream",
     "text": [
      "[1, 1, 2, 6, 24]\n"
     ]
    },
    {
     "data": {
      "text/plain": [
       "[120, 60, 40, 30, 24]"
      ]
     },
     "execution_count": 11,
     "metadata": {},
     "output_type": "execute_result"
    }
   ],
   "source": [
    "# Product of Array Except Self\n",
    "#do not use division, O(n)\n",
    "nums=[1,2,3,4,5]\n",
    "p=1\n",
    "a=[]\n",
    "for i in range(len(nums)):\n",
    "    a.append(p)\n",
    "    p=p*nums[i]\n",
    "print(a)\n",
    "q=1\n",
    "for j in range(len(nums)-1,-1,-1):\n",
    "    a[j]=a[j]*q\n",
    "    q=q*nums[j]\n",
    "a\n"
   ]
  },
  {
   "cell_type": "code",
   "execution_count": null,
   "metadata": {
    "collapsed": true
   },
   "outputs": [],
   "source": []
  },
  {
   "cell_type": "code",
   "execution_count": null,
   "metadata": {
    "collapsed": true
   },
   "outputs": [],
   "source": []
  },
  {
   "cell_type": "code",
   "execution_count": null,
   "metadata": {
    "collapsed": true
   },
   "outputs": [],
   "source": []
  }
 ],
 "metadata": {
  "kernelspec": {
   "display_name": "Python [conda root]",
   "language": "python",
   "name": "conda-root-py"
  },
  "language_info": {
   "codemirror_mode": {
    "name": "ipython",
    "version": 3
   },
   "file_extension": ".py",
   "mimetype": "text/x-python",
   "name": "python",
   "nbconvert_exporter": "python",
   "pygments_lexer": "ipython3",
   "version": "3.5.2"
  }
 },
 "nbformat": 4,
 "nbformat_minor": 2
}
