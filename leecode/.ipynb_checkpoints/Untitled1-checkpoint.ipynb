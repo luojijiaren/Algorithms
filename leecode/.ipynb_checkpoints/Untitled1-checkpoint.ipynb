{
 "cells": [
  {
   "cell_type": "code",
   "execution_count": null,
   "metadata": {
    "collapsed": true
   },
   "outputs": [],
   "source": [
    "#Heaters\n",
    "\n",
    "houses=[1,2,3,4]\n",
    "heaters=[1,4]\n",
    "\n"
   ]
  },
  {
   "cell_type": "code",
   "execution_count": 2,
   "metadata": {},
   "outputs": [
    {
     "data": {
      "text/plain": [
       "4"
      ]
     },
     "execution_count": 2,
     "metadata": {},
     "output_type": "execute_result"
    }
   ],
   "source": [
    "#Arranging Coins\n",
    "n=10\n",
    "i=0\n",
    "while n>=0:\n",
    "    i+=1\n",
    "    n=n-i\n",
    "i-1\n",
    "    "
   ]
  },
  {
   "cell_type": "code",
   "execution_count": 8,
   "metadata": {},
   "outputs": [
    {
     "data": {
      "text/plain": [
       "False"
      ]
     },
     "execution_count": 8,
     "metadata": {},
     "output_type": "execute_result"
    }
   ],
   "source": [
    "#Strobogrammatic Number\n",
    "def isStrobogrammatic(num):\n",
    "    for i in range(len(num)//2+1):\n",
    "        if num[i] not in ['0','1','6','8','9']:\n",
    "            return False\n",
    "        elif num[i] in ['0','1','8']:\n",
    "            if num[-(i+1)]!=num[i]:\n",
    "                return False\n",
    "        elif num[i]=='6':\n",
    "            if num[-(i+1)]!='9':\n",
    "                return False\n",
    "        else:\n",
    "            if num[-(i+1)]!='6':\n",
    "                return False\n",
    "    return True\n",
    "\n",
    "num='698818769'\n",
    "isStrobogrammatic(num)"
   ]
  },
  {
   "cell_type": "code",
   "execution_count": 11,
   "metadata": {},
   "outputs": [
    {
     "data": {
      "text/plain": [
       "False"
      ]
     },
     "execution_count": 11,
     "metadata": {},
     "output_type": "execute_result"
    }
   ],
   "source": [
    "#optimized\n",
    "\n",
    "def isStrobogrammatic(num):\n",
    "    return all(num[i]+num[~i] in '696 00 11 88' for i in range(len(num)//2+1))\n",
    "\n",
    "num='698818769'\n",
    "isStrobogrammatic(num)"
   ]
  },
  {
   "cell_type": "code",
   "execution_count": null,
   "metadata": {
    "collapsed": true
   },
   "outputs": [],
   "source": [
    "#Guess Number Higher or Lower\n",
    "\n"
   ]
  },
  {
   "cell_type": "code",
   "execution_count": 3,
   "metadata": {},
   "outputs": [
    {
     "data": {
      "text/plain": [
       "2"
      ]
     },
     "execution_count": 3,
     "metadata": {},
     "output_type": "execute_result"
    }
   ],
   "source": [
    "A = [ 1, 2]\n",
    "B = [-2,-1]\n",
    "C = [-1, 2]\n",
    "D = [ 0, 2]\n",
    "\n",
    "D=sorted(D)\n",
    "m=len(D)\n",
    "c=0\n",
    "for i in A:\n",
    "    for j in B:\n",
    "        for k in C:\n",
    "            n=-(i+j+k)\n",
    "            low=0\n",
    "            high=m-1\n",
    "            while low<=high:\n",
    "                mid=(low+high)//2\n",
    "                if D[mid]>n:\n",
    "                    high=mid-1\n",
    "                elif D[mid]<n:\n",
    "                    low=mid+1\n",
    "                else:\n",
    "                    c+=1\n",
    "                    break\n",
    "c\n",
    "            "
   ]
  }
 ],
 "metadata": {
  "kernelspec": {
   "display_name": "Python [conda root]",
   "language": "python",
   "name": "conda-root-py"
  },
  "language_info": {
   "codemirror_mode": {
    "name": "ipython",
    "version": 3
   },
   "file_extension": ".py",
   "mimetype": "text/x-python",
   "name": "python",
   "nbconvert_exporter": "python",
   "pygments_lexer": "ipython3",
   "version": "3.5.2"
  }
 },
 "nbformat": 4,
 "nbformat_minor": 2
}
