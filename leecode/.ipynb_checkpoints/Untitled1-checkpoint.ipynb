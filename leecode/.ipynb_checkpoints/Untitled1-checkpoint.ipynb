{
 "cells": [
  {
   "cell_type": "code",
   "execution_count": 4,
   "metadata": {},
   "outputs": [
    {
     "name": "stdout",
     "output_type": "stream",
     "text": [
      "True\n"
     ]
    }
   ],
   "source": [
    "#Power of Two\n",
    "n=8\n",
    "if n<=0:\n",
    "    print('False')\n",
    "while n>1:\n",
    "    n=n/2\n",
    "    if n!=int(n):\n",
    "        print('False')\n",
    "        break\n",
    "print('True')\n"
   ]
  },
  {
   "cell_type": "code",
   "execution_count": 3,
   "metadata": {},
   "outputs": [
    {
     "name": "stdout",
     "output_type": "stream",
     "text": [
      "False\n",
      "True\n"
     ]
    }
   ],
   "source": [
    "#Power of Three\n",
    "n=8\n",
    "while n>1:\n",
    "    n=n/3\n",
    "    if n!=int(n):\n",
    "        print('False')\n",
    "        break\n",
    "print('True')"
   ]
  },
  {
   "cell_type": "code",
   "execution_count": 1,
   "metadata": {},
   "outputs": [
    {
     "data": {
      "text/plain": [
       "False"
      ]
     },
     "execution_count": 1,
     "metadata": {},
     "output_type": "execute_result"
    }
   ],
   "source": [
    "3 is int"
   ]
  },
  {
   "cell_type": "code",
   "execution_count": 7,
   "metadata": {},
   "outputs": [
    {
     "data": {
      "text/plain": [
       "2"
      ]
     },
     "execution_count": 7,
     "metadata": {},
     "output_type": "execute_result"
    }
   ],
   "source": [
    "#sqrt\n",
    "x=8\n",
    "low=0\n",
    "high=x\n",
    "while low<=high:\n",
    "    mid=(low+high)//2\n",
    "    if mid*mid>x:\n",
    "        high=mid-1\n",
    "    elif mid*mid==x:\n",
    "        print(mid)\n",
    "        break\n",
    "    else:\n",
    "        low=mid+1\n",
    "high\n",
    "    \n",
    "    \n",
    "    "
   ]
  },
  {
   "cell_type": "code",
   "execution_count": null,
   "metadata": {
    "collapsed": true
   },
   "outputs": [],
   "source": [
    "#Sum of Square Numbers\n",
    "x=8\n",
    "\n",
    "low=0\n",
    "high=x\n",
    "\n",
    "while low<=high:\n",
    "    mid=(low+high)//2\n",
    "    if mid*mid>x:\n",
    "        high=mid-1\n",
    "    elif mid*mid==x:\n",
    "        print(mid)\n",
    "        break\n",
    "    else:\n",
    "        low=mid+1\n",
    "\n",
    "\n"
   ]
  }
 ],
 "metadata": {
  "kernelspec": {
   "display_name": "Python [conda root]",
   "language": "python",
   "name": "conda-root-py"
  },
  "language_info": {
   "codemirror_mode": {
    "name": "ipython",
    "version": 3
   },
   "file_extension": ".py",
   "mimetype": "text/x-python",
   "name": "python",
   "nbconvert_exporter": "python",
   "pygments_lexer": "ipython3",
   "version": "3.5.2"
  }
 },
 "nbformat": 4,
 "nbformat_minor": 2
}
