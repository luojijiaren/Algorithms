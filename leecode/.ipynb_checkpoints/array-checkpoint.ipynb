{
 "cells": [
  {
   "cell_type": "code",
   "execution_count": null,
   "metadata": {
    "collapsed": true
   },
   "outputs": [],
   "source": [
    "#array"
   ]
  },
  {
   "cell_type": "code",
   "execution_count": 14,
   "metadata": {},
   "outputs": [
    {
     "data": {
      "text/plain": [
       "23.25"
      ]
     },
     "execution_count": 14,
     "metadata": {},
     "output_type": "execute_result"
    }
   ],
   "source": [
    "#Maximum Average Subarray\n",
    "nums=[1,12,-5,3,5,90]\n",
    "k=4\n",
    "if len(nums)<=k:\n",
    "    res=sum(nums)/len(nums)\n",
    "else:\n",
    "    res=0\n",
    "    for i in range(len(nums)-k+1):\n",
    "        a=sum(nums[i:i+k])/k\n",
    "        if a>res:\n",
    "            res=a\n",
    "round(res,5)"
   ]
  },
  {
   "cell_type": "code",
   "execution_count": 15,
   "metadata": {},
   "outputs": [
    {
     "data": {
      "text/plain": [
       "23.25"
      ]
     },
     "execution_count": 15,
     "metadata": {},
     "output_type": "execute_result"
    }
   ],
   "source": [
    "#opanized\n",
    "a=[0]\n",
    "for v in nums:\n",
    "    a.append(a[-1]+v)\n",
    "c=[]\n",
    "for i in range(len(a)-k):\n",
    "    c.append(a[i+k]-a[i])\n",
    "max(c)/k"
   ]
  },
  {
   "cell_type": "code",
   "execution_count": 2,
   "metadata": {},
   "outputs": [
    {
     "data": {
      "text/plain": [
       "1"
      ]
     },
     "execution_count": 2,
     "metadata": {},
     "output_type": "execute_result"
    }
   ],
   "source": [
    "#shortest words distance\n",
    "words = [\"practice\", \"makes\", \"perfect\", \"coding\", \"makes\"]\n",
    "word1 = 'coding'\n",
    "word2 = 'makes'\n",
    "l1=[]\n",
    "l2=[]\n",
    "res=1000000\n",
    "for i, w in enumerate(words):\n",
    "    if w==word1:\n",
    "        l1.append(i)\n",
    "        if l2:\n",
    "            for j in l2:\n",
    "                if abs(i-j)<res:\n",
    "                    res=abs(i-j)\n",
    "    if w==word2:\n",
    "        l2.append(i)\n",
    "        if l1:\n",
    "            for j in l1:\n",
    "                if abs(i-j)<res:\n",
    "                    res=abs(i-j)\n",
    "res"
   ]
  },
  {
   "cell_type": "code",
   "execution_count": 7,
   "metadata": {},
   "outputs": [
    {
     "name": "stdout",
     "output_type": "stream",
     "text": [
      "1\n",
      "2\n",
      "4\n"
     ]
    },
    {
     "data": {
      "text/plain": [
       "1"
      ]
     },
     "execution_count": 7,
     "metadata": {},
     "output_type": "execute_result"
    }
   ],
   "source": [
    "#find the shortest distance between two lists\n",
    "l1=[1,5,7,8]\n",
    "l2=[0,3,12]\n",
    "res=100000000\n",
    "for j in l2:            \n",
    "    if j<l1[0]:\n",
    "        temp=abs(l1[0]-j)\n",
    "    elif j>l1[-1]:\n",
    "        temp=abs(l1[-1]-j)\n",
    "    else:\n",
    "        low=0\n",
    "        high=len(l1)-1\n",
    "        while low<high:\n",
    "            mid=(low+high)//2\n",
    "            if l1[mid]>j:\n",
    "                high=mid-1\n",
    "            elif l1[mid]<j:\n",
    "                low=mid+1\n",
    "        temp=min(abs(l1[low]-j),abs(l1[high]-j))\n",
    "    if temp<res:\n",
    "        res=temp\n",
    "res"
   ]
  },
  {
   "cell_type": "code",
   "execution_count": 10,
   "metadata": {},
   "outputs": [
    {
     "data": {
      "text/plain": [
       "1"
      ]
     },
     "execution_count": 10,
     "metadata": {},
     "output_type": "execute_result"
    }
   ],
   "source": [
    "#optimize\n",
    "import sys\n",
    "l1=[1,5,7,8]\n",
    "l2=[0,3,12]\n",
    "m,n,i,j,res=len(l1),len(l2),0,0,sys.maxsize\n",
    "while i<m and j<n:\n",
    "    res=min(res,abs(l1[i]-l2[j]))\n",
    "    if l1[i]<l2[j]:\n",
    "        i+=1\n",
    "    else:\n",
    "        j+=1\n",
    "res\n"
   ]
  },
  {
   "cell_type": "code",
   "execution_count": 4,
   "metadata": {},
   "outputs": [
    {
     "data": {
      "text/plain": [
       "[[1], [1, 1], [1, 2, 1], [1, 3, 3, 1], [1, 4, 6, 4, 1]]"
      ]
     },
     "execution_count": 4,
     "metadata": {},
     "output_type": "execute_result"
    }
   ],
   "source": [
    "#Pascal's Triangle\n",
    "res=[]\n",
    "res.append([1])\n",
    "i=0\n",
    "while i <4:\n",
    "    k=[]\n",
    "    temp=[0]+res[-1]+[0]\n",
    "    for j in range(len(temp)-1):\n",
    "        k.append(temp[j]+temp[j+1])    \n",
    "    res.append(k)\n",
    "    i+=1\n",
    "res"
   ]
  },
  {
   "cell_type": "code",
   "execution_count": 5,
   "metadata": {},
   "outputs": [
    {
     "data": {
      "text/plain": [
       "[1, 4, 6, 4, 1]"
      ]
     },
     "execution_count": 5,
     "metadata": {},
     "output_type": "execute_result"
    }
   ],
   "source": [
    "#Pascal's Triangle II\n",
    "res=[1]\n",
    "i=0\n",
    "while i <4:\n",
    "    k=[]\n",
    "    temp=[0]+res+[0]\n",
    "    for j in range(len(temp)-1):\n",
    "        k.append(temp[j]+temp[j+1])    \n",
    "    res=k\n",
    "    i+=1\n",
    "res"
   ]
  },
  {
   "cell_type": "code",
   "execution_count": 10,
   "metadata": {},
   "outputs": [
    {
     "data": {
      "text/plain": [
       "4"
      ]
     },
     "execution_count": 10,
     "metadata": {},
     "output_type": "execute_result"
    }
   ],
   "source": [
    "#Maximum Distance in Arrays\n",
    "arrays=[[1,2,3],\n",
    " [4,5],\n",
    " [1,2,3]]\n",
    "l=[]\n",
    "for i in range(1,len(arrays)):\n",
    "    for j in range(i):\n",
    "        l.append(max(abs(arrays[i][-1]-arrays[j][0]),abs(arrays[j][-1]-arrays[i][0])))\n",
    "max(l)\n",
    "    "
   ]
  },
  {
   "cell_type": "code",
   "execution_count": 16,
   "metadata": {},
   "outputs": [
    {
     "data": {
      "text/plain": [
       "4"
      ]
     },
     "execution_count": 16,
     "metadata": {},
     "output_type": "execute_result"
    }
   ],
   "source": [
    "#optimized\n",
    "import sys\n",
    "arrays=sorted(arrays)\n",
    "l1=-sys.maxsize\n",
    "for i in range(1,len(arrays)):\n",
    "    l1=max(l1,arrays[i][-1])\n",
    "r1=l1-arrays[0][0]\n",
    "r2=abs(arrays[0][-1]-arrays[1][0])    \n",
    "max(r1,r2)"
   ]
  },
  {
   "cell_type": "code",
   "execution_count": 2,
   "metadata": {},
   "outputs": [
    {
     "data": {
      "text/plain": [
       "[2, 3]"
      ]
     },
     "execution_count": 2,
     "metadata": {},
     "output_type": "execute_result"
    }
   ],
   "source": [
    "a=[2,3,4]\n",
    "a[:-1]"
   ]
  },
  {
   "cell_type": "code",
   "execution_count": 18,
   "metadata": {},
   "outputs": [
    {
     "data": {
      "text/plain": [
       "[1]"
      ]
     },
     "execution_count": 18,
     "metadata": {},
     "output_type": "execute_result"
    }
   ],
   "source": [
    "#merge two sorted arrays\n",
    "nums1=[0]\n",
    "nums2=[1]\n",
    "m=0\n",
    "n=1\n",
    "if m==0 and n==0:\n",
    "    nums1=[]\n",
    "elif m==0 and n!=0:\n",
    "    nums1=nums2\n",
    "else:        \n",
    "    p1=p2=c=0\n",
    "    while p1<m and p2<n:\n",
    "        if nums1[p1]<=nums2[p2]:\n",
    "            p1+=1\n",
    "            c+=1\n",
    "        else:\n",
    "            if c==0:\n",
    "                nums1=[nums2[p2]]+nums1[c:]\n",
    "            else:\n",
    "                nums1=nums1[:c]+[nums2[p2]]+nums1[c:]\n",
    "            c+=1\n",
    "            p2+=1 \n",
    "    if p2<n:\n",
    "        nums1+=nums2[p2:]\n",
    "nums1"
   ]
  },
  {
   "cell_type": "code",
   "execution_count": 24,
   "metadata": {},
   "outputs": [
    {
     "data": {
      "text/plain": [
       "[1, 3, 4, 4, 5, 7, 8]"
      ]
     },
     "execution_count": 24,
     "metadata": {},
     "output_type": "execute_result"
    }
   ],
   "source": [
    "#optimized\n",
    "nums1=[4,5]\n",
    "nums2=[1,3,4,7,8]\n",
    "m=2\n",
    "n=5\n",
    "nums1+=[0]*len(nums2)\n",
    "while m>0 and n>0:\n",
    "    if nums1[m-1]>nums2[n-1]:\n",
    "        nums1[m+n-1]=nums1[m-1]\n",
    "        m-=1\n",
    "    else:\n",
    "        nums1[m+n-1]=nums2[n-1]\n",
    "        n-=1\n",
    "if n>0:\n",
    "    nums1[:n]=nums2[:n]\n",
    "nums1"
   ]
  },
  {
   "cell_type": "code",
   "execution_count": 27,
   "metadata": {},
   "outputs": [
    {
     "data": {
      "text/plain": [
       "[1, 2]"
      ]
     },
     "execution_count": 27,
     "metadata": {},
     "output_type": "execute_result"
    }
   ],
   "source": [
    "a=[1,2,3]\n",
    "b=[1,2]\n",
    "a=b\n",
    "\n",
    "a"
   ]
  },
  {
   "cell_type": "code",
   "execution_count": 25,
   "metadata": {
    "collapsed": true
   },
   "outputs": [],
   "source": [
    "a=[]\n",
    "if a:\n",
    "    print(1)"
   ]
  },
  {
   "cell_type": "code",
   "execution_count": 28,
   "metadata": {
    "collapsed": true
   },
   "outputs": [],
   "source": [
    "a=[2, 6, 4, 8, 10, 9, 15]\n",
    "b=sorted(a)"
   ]
  },
  {
   "cell_type": "code",
   "execution_count": 29,
   "metadata": {},
   "outputs": [
    {
     "name": "stdout",
     "output_type": "stream",
     "text": [
      "1 5\n"
     ]
    }
   ],
   "source": [
    "#Shortest Unsorted Continuous Subarray   \n",
    "i=0\n",
    "while True:\n",
    "    if a[i]==b[i]:\n",
    "        i+=1\n",
    "    else:\n",
    "        break\n",
    "j=len(a)-1\n",
    "while True:\n",
    "    if a[j]==b[j]:\n",
    "        j-=1\n",
    "    else:\n",
    "        break\n",
    "print(i,j)"
   ]
  },
  {
   "cell_type": "code",
   "execution_count": 57,
   "metadata": {},
   "outputs": [
    {
     "data": {
      "text/plain": [
       "[-2, 0, 3, 5, 3]"
      ]
     },
     "execution_count": 57,
     "metadata": {},
     "output_type": "execute_result"
    }
   ],
   "source": [
    "#Range Addition\n",
    "\n",
    "length = 5\n",
    "updates = [\n",
    "    [1,  3,  2],\n",
    "    [2,  4,  3],\n",
    "    [0,  2, -2]\n",
    "]\n",
    "\n",
    "\n",
    "a=[0]*length\n",
    "for i in range(len(updates)):\n",
    "    for j in range(updates[i][0],updates[i][1]+1):\n",
    "        a[j]+=updates[i][2]\n",
    "#     print(a)\n",
    "#     a[updates[i][0]:updates[i][1]+1]=[updates[i][2]]*(updates[i][1]+1-updates[i][0])\n",
    "a"
   ]
  },
  {
   "cell_type": "code",
   "execution_count": 55,
   "metadata": {},
   "outputs": [
    {
     "data": {
      "text/plain": [
       "1"
      ]
     },
     "execution_count": 55,
     "metadata": {},
     "output_type": "execute_result"
    }
   ],
   "source": [
    "i,j,k=[1,2,3]\n",
    "i"
   ]
  },
  {
   "cell_type": "code",
   "execution_count": 59,
   "metadata": {},
   "outputs": [
    {
     "name": "stdout",
     "output_type": "stream",
     "text": [
      "[0, 2, 0, 0, -2]\n",
      "[0, 2, 3, 0, -2]\n",
      "[-2, 2, 3, 2, -2]\n"
     ]
    },
    {
     "data": {
      "text/plain": [
       "[-2, 0, 3, 5, 3]"
      ]
     },
     "execution_count": 59,
     "metadata": {},
     "output_type": "execute_result"
    }
   ],
   "source": [
    "#optimized\n",
    "res = [0] * length\n",
    "updates = [\n",
    "    [1,  3,  2],\n",
    "    [2,  4,  3],\n",
    "    [0,  2, -2]\n",
    "]\n",
    "for update in updates:\n",
    "    start, end, inc = update\n",
    "    res[start] += inc\n",
    "\n",
    "    if end + 1 <= length - 1:\n",
    "        res[end+1] -= inc\n",
    "    print(res)\n",
    "sum = 0\n",
    "for i in range(length):\n",
    "    sum += res[i]\n",
    "    res[i] = sum\n",
    "res"
   ]
  },
  {
   "cell_type": "code",
   "execution_count": 62,
   "metadata": {},
   "outputs": [
    {
     "ename": "IndexError",
     "evalue": "list index out of range",
     "output_type": "error",
     "traceback": [
      "\u001b[1;31m---------------------------------------------------------------------------\u001b[0m",
      "\u001b[1;31mIndexError\u001b[0m                                Traceback (most recent call last)",
      "\u001b[1;32m<ipython-input-62-c41593897ae9>\u001b[0m in \u001b[0;36m<module>\u001b[1;34m()\u001b[0m\n\u001b[0;32m      2\u001b[0m \u001b[0mnums\u001b[0m\u001b[1;33m=\u001b[0m\u001b[1;33m[\u001b[0m\u001b[1;36m1\u001b[0m\u001b[1;33m,\u001b[0m\u001b[1;36m1\u001b[0m\u001b[1;33m,\u001b[0m\u001b[1;36m3\u001b[0m\u001b[1;33m]\u001b[0m\u001b[1;33m\u001b[0m\u001b[0m\n\u001b[0;32m      3\u001b[0m \u001b[0ma\u001b[0m\u001b[1;33m=\u001b[0m\u001b[0msorted\u001b[0m\u001b[1;33m(\u001b[0m\u001b[0mlist\u001b[0m\u001b[1;33m(\u001b[0m\u001b[0mset\u001b[0m\u001b[1;33m(\u001b[0m\u001b[0mnums\u001b[0m\u001b[1;33m)\u001b[0m\u001b[1;33m)\u001b[0m\u001b[1;33m)\u001b[0m\u001b[1;33m\u001b[0m\u001b[0m\n\u001b[1;32m----> 4\u001b[1;33m \u001b[0ma\u001b[0m\u001b[1;33m[\u001b[0m\u001b[1;33m-\u001b[0m\u001b[1;36m3\u001b[0m\u001b[1;33m]\u001b[0m\u001b[1;33m\u001b[0m\u001b[0m\n\u001b[0m",
      "\u001b[1;31mIndexError\u001b[0m: list index out of range"
     ]
    }
   ],
   "source": [
    "#Third Maximum Number\n",
    "nums=[1,1,3]\n",
    "a=sorted(list(set(nums)))\n",
    "a[-3]\n"
   ]
  },
  {
   "cell_type": "code",
   "execution_count": 65,
   "metadata": {},
   "outputs": [
    {
     "data": {
      "text/plain": [
       "[2, 1]"
      ]
     },
     "execution_count": 65,
     "metadata": {},
     "output_type": "execute_result"
    }
   ],
   "source": [
    "a=[1,2]\n",
    "a[-1:]+a[:-1]"
   ]
  },
  {
   "cell_type": "code",
   "execution_count": 66,
   "metadata": {},
   "outputs": [
    {
     "data": {
      "text/plain": [
       "[1, 4, 2, 5, 3, 6]"
      ]
     },
     "execution_count": 66,
     "metadata": {},
     "output_type": "execute_result"
    }
   ],
   "source": [
    "nums=[3,5,2,1,6,4]\n",
    "a1=sorted(nums)\n",
    "b1=a1[:len(a1)//2+(not len(a1)%2==0)]\n",
    "b2=a1[len(a1)//2+(not len(a1)%2==0):]\n",
    "c=[]\n",
    "for i in range(len(b2)):\n",
    "    c.extend([b1[i],b2[i]])\n",
    "if len(a1)%2!=0:\n",
    "    c.append(b1[-1])\n",
    "nums=c\n",
    "nums"
   ]
  },
  {
   "cell_type": "code",
   "execution_count": 91,
   "metadata": {},
   "outputs": [
    {
     "data": {
      "text/plain": [
       "[(2, 1)]"
      ]
     },
     "execution_count": 91,
     "metadata": {},
     "output_type": "execute_result"
    }
   ],
   "source": [
    "#K-diff Pairs in an Array\n",
    "nums=[1,1,1,2,1]\n",
    "k=1\n",
    "l=[]\n",
    "for i in range(1,len(nums)):\n",
    "    for j in range(i):\n",
    "        if abs(nums[j]-nums[i])==k:\n",
    "            if (nums[i],nums[j]) in l or (nums[j],nums[i]) in l:\n",
    "                continue\n",
    "            else:\n",
    "                l.append((nums[i],nums[j]))\n",
    "l\n"
   ]
  },
  {
   "cell_type": "code",
   "execution_count": 95,
   "metadata": {},
   "outputs": [
    {
     "data": {
      "text/plain": [
       "2"
      ]
     },
     "execution_count": 95,
     "metadata": {},
     "output_type": "execute_result"
    }
   ],
   "source": [
    "#optimized\n",
    "from collections import Counter\n",
    "nums=[3,1,4,1,5]\n",
    "\n",
    "k=2\n",
    "if k==0:\n",
    "    c=0\n",
    "    a=Counter(nums)\n",
    "    for i in a.keys():\n",
    "        if a[i]>1:\n",
    "            c+=1\n",
    "else:\n",
    "    c=0\n",
    "    nums=sorted(list(set(nums)))\n",
    "    for i in range(len(nums)-1):\n",
    "        for j in range(i,len(nums)):\n",
    "            if abs(nums[j]-nums[i])==k:\n",
    "                c+=1\n",
    "                break\n",
    "c"
   ]
  },
  {
   "cell_type": "code",
   "execution_count": 103,
   "metadata": {},
   "outputs": [
    {
     "data": {
      "text/plain": [
       "1"
      ]
     },
     "execution_count": 103,
     "metadata": {},
     "output_type": "execute_result"
    }
   ],
   "source": [
    "a=5\n",
    "b=1\n",
    "a and b"
   ]
  },
  {
   "cell_type": "code",
   "execution_count": 104,
   "metadata": {},
   "outputs": [
    {
     "data": {
      "text/plain": [
       "2"
      ]
     },
     "execution_count": 104,
     "metadata": {},
     "output_type": "execute_result"
    }
   ],
   "source": [
    "#optimized\n",
    "from collections import Counter\n",
    "if k==0:\n",
    "    c=sum(v>1 for v in Counter(nums).values())\n",
    "elif k>0:\n",
    "    c=len(set(nums)&set([i+k for i in nums]))\n",
    "else:c=0\n",
    "c\n"
   ]
  },
  {
   "cell_type": "code",
   "execution_count": 108,
   "metadata": {},
   "outputs": [
    {
     "name": "stdout",
     "output_type": "stream",
     "text": [
      "[1, 0, 0, 0, 0, 0, 0, 0, 0, 0, 0, 0, 0, 0, 0, 0, 0, 0, 0, 0, 0, 0, 0, 0, 0, 0, 0, 0, 0, 0, 0, 0]\n"
     ]
    },
    {
     "data": {
      "text/plain": [
       "2147483648"
      ]
     },
     "execution_count": 108,
     "metadata": {},
     "output_type": "execute_result"
    }
   ],
   "source": [
    "#Reverse Bits\n",
    "n=1\n",
    "l=[]\n",
    "while n>0:\n",
    "    l.append(n%2)\n",
    "    n=n//2\n",
    "l=l+[0]*(32-len(l))\n",
    "print(l)\n",
    "res=0\n",
    "for i in range(len(l)):\n",
    "    res+=l[i]*(2**(31-i))\n",
    "res\n",
    "\n"
   ]
  },
  {
   "cell_type": "code",
   "execution_count": 7,
   "metadata": {},
   "outputs": [
    {
     "data": {
      "text/plain": [
       "14"
      ]
     },
     "execution_count": 7,
     "metadata": {},
     "output_type": "execute_result"
    }
   ],
   "source": [
    "#Arithmetic Slices\n",
    "A=[-1,1, 3, 5, 7, 9,10,11,13,15,17]\n",
    "b=[]\n",
    "for i in range(len(A)-1):\n",
    "    b.append(A[i+1]-A[i])\n",
    "\n",
    "start=0\n",
    "l=[]\n",
    "while start<len(b):\n",
    "    i=start+1\n",
    "    count=1\n",
    "    while i<len(b) and b[i]==b[start]:\n",
    "        count+=1\n",
    "        i+=1\n",
    "    l.append(count)\n",
    "    start=i\n",
    "    \n",
    "res=0\n",
    "for j in l:\n",
    "    if j>1:\n",
    "        res+=j*(j-1)//2\n",
    "res\n",
    "        "
   ]
  },
  {
   "cell_type": "code",
   "execution_count": null,
   "metadata": {
    "collapsed": true
   },
   "outputs": [],
   "source": [
    "#optimized\n",
    "\n",
    "def numberOfArithmeticSlices(A):\n",
    "    opt, i = [0,0], 1\n",
    "    for j in range(2,len(A)):\n",
    "        if A[j]-A[j-1] == A[j-1]-A[j-2]:\n",
    "            opt.append(opt[j-1]+i)\n",
    "            i += 1\n",
    "        else:\n",
    "            opt.append(opt[j-1])\n",
    "            i = 1\n",
    "    return opt[-1]\n",
    "\n",
    "numberOfArithmeticSlices([-1,1, 3, 5, 7, 9,10,11,13,15,17])"
   ]
  },
  {
   "cell_type": "code",
   "execution_count": 10,
   "metadata": {},
   "outputs": [
    {
     "data": {
      "text/plain": [
       "9"
      ]
     },
     "execution_count": 10,
     "metadata": {},
     "output_type": "execute_result"
    }
   ],
   "source": [
    "#Minimum Moves to Equal Array Elements II\n",
    "nums=[-1,1,4, 5]\n",
    "sum(nums[len(nums)//2+(len(nums)%2!=0):])-sum(nums[:len(nums)//2])"
   ]
  },
  {
   "cell_type": "code",
   "execution_count": 18,
   "metadata": {},
   "outputs": [
    {
     "data": {
      "text/plain": [
       "'1/3'"
      ]
     },
     "execution_count": 18,
     "metadata": {},
     "output_type": "execute_result"
    }
   ],
   "source": [
    "#Fraction Addition and Subtraction\n",
    "from fractions import Fraction\n",
    "a=eval(\"-1/2+1/2+1/3\")\n",
    "str(Fraction(a).limit_denominator())"
   ]
  },
  {
   "cell_type": "code",
   "execution_count": 34,
   "metadata": {},
   "outputs": [
    {
     "data": {
      "text/plain": [
       "'0/1'"
      ]
     },
     "execution_count": 34,
     "metadata": {},
     "output_type": "execute_result"
    }
   ],
   "source": [
    "b=eval(\"-1/2+1/2\")\n",
    "r=Fraction(b).limit_denominator()\n",
    "str(r.numerator)+'/'+str(r.denominator)"
   ]
  },
  {
   "cell_type": "code",
   "execution_count": 36,
   "metadata": {},
   "outputs": [
    {
     "data": {
      "text/plain": [
       "Fraction(0, 1)"
      ]
     },
     "execution_count": 36,
     "metadata": {},
     "output_type": "execute_result"
    }
   ],
   "source": [
    "Fraction('-1/2')+Fraction('1/2')"
   ]
  },
  {
   "cell_type": "code",
   "execution_count": 15,
   "metadata": {},
   "outputs": [
    {
     "data": {
      "text/plain": [
       "[[1, 2, 6], [1, 3, 5], [2, 3, 4]]"
      ]
     },
     "execution_count": 15,
     "metadata": {},
     "output_type": "execute_result"
    }
   ],
   "source": [
    "#Combination Sum III\n",
    "\n",
    "def combinationSum3(k, n):\n",
    "    if k==1:\n",
    "        if n<10 and n>0:\n",
    "            return [[n]]\n",
    "        else:\n",
    "            return []\n",
    "    res=[]\n",
    "    for i in range(1,(n-k*(k-1)//2)//k+1):\n",
    "        for j in combinationSum3(k-1,n-i):\n",
    "            if i not in j and all(k>i for k in j):\n",
    "                res.append([i]+j)\n",
    "    return res\n",
    "combinationSum3(3, 9)        "
   ]
  },
  {
   "cell_type": "code",
   "execution_count": 16,
   "metadata": {},
   "outputs": [
    {
     "data": {
      "text/plain": [
       "[[1, 2, 6], [1, 3, 5], [2, 3, 4]]"
      ]
     },
     "execution_count": 16,
     "metadata": {},
     "output_type": "execute_result"
    }
   ],
   "source": [
    "#Optimized,using generator\n",
    "def helpcomb(k, n, left):\n",
    "    if k==1 and n in left:\n",
    "        yield [n]\n",
    "    for i in range(len(left)):\n",
    "        for res in helpcomb(k-1,n-left[i],left[i+1:]):\n",
    "            res.insert(0,left[i])\n",
    "            yield res\n",
    "def combinationSum3(k,n):\n",
    "    return list(helpcomb(k,n,range(1,10)))\n",
    "\n",
    "combinationSum3(3, 9)"
   ]
  },
  {
   "cell_type": "code",
   "execution_count": 30,
   "metadata": {},
   "outputs": [
    {
     "data": {
      "text/plain": [
       "[[-2, 0, 2], [-1, -1, 2], [-1, 0, 1]]"
      ]
     },
     "execution_count": 30,
     "metadata": {},
     "output_type": "execute_result"
    }
   ],
   "source": [
    "#3Sum,target is 0, suppose there is some duplicates \n",
    "S = [-1, 0, 1, 2, -1, -4,-2]\n",
    "res=[]\n",
    "nums=sorted(S)\n",
    "for i in range(len(nums)-2):\n",
    "    if i>0 and nums[i]==nums[i-1]:\n",
    "        continue\n",
    "    p1,p2=i+1,len(nums)-1    \n",
    "    while p2>p1:  \n",
    "        if nums[p1]+nums[p2]<-nums[i]:\n",
    "            p1+=1\n",
    "        elif nums[p1]+nums[p2]==-nums[i]:                    \n",
    "            res.append([nums[i],nums[p1],nums[p2]])\n",
    "            while p1<p2 and nums[p2]==nums[p2-1]:\n",
    "                p2-=1\n",
    "            while p1<p2 and nums[p1]==nums[p1+1]:\n",
    "                p1+=1\n",
    "            p1+=1\n",
    "            p2-=1\n",
    "        else:\n",
    "            p2-=1\n",
    "res"
   ]
  },
  {
   "cell_type": "code",
   "execution_count": 42,
   "metadata": {},
   "outputs": [
    {
     "data": {
      "text/plain": [
       "3"
      ]
     },
     "execution_count": 42,
     "metadata": {},
     "output_type": "execute_result"
    }
   ],
   "source": [
    "#3Sum Smaller,assume there is no duplicates\n",
    "nums = [3,1,0,-2]\n",
    "target=4\n",
    "\n",
    "res=0\n",
    "nums=sorted(nums)\n",
    "for i in range(len(nums)-2):\n",
    "    p1,p2=i+1,len(nums)-1    \n",
    "    while p2>p1:  \n",
    "        if nums[p1]+nums[p2]<target-nums[i]:\n",
    "            res+=p2-p1\n",
    "            \n",
    "            p1+=1\n",
    "        else:\n",
    "            p2-=1\n",
    "res\n",
    "                \n",
    "\n"
   ]
  },
  {
   "cell_type": "code",
   "execution_count": 46,
   "metadata": {},
   "outputs": [
    {
     "data": {
      "text/plain": [
       "2"
      ]
     },
     "execution_count": 46,
     "metadata": {},
     "output_type": "execute_result"
    }
   ],
   "source": [
    "#3Sum Closest\n",
    "\n",
    "nums=[-1,2,1,-4]\n",
    "target=1\n",
    "def threeSumClosest(nums, target):\n",
    "    import sys\n",
    "    res=sys.maxsize\n",
    "    r0=0\n",
    "    nums=sorted(nums)        \n",
    "    for i in range(len(nums)-2):\n",
    "        p1,p2=i+1,len(nums)-1    \n",
    "        temp=sys.maxsize\n",
    "        r=nums[i]+nums[p1]+nums[p2]\n",
    "        while p2>p1: \n",
    "            s=nums[i]+nums[p1]+nums[p2]\n",
    "            if abs(target-s)<temp:\n",
    "                temp=abs(target-s)\n",
    "                r=s  \n",
    "            if s<target:\n",
    "\n",
    "                p1+=1\n",
    "            elif s==target:\n",
    "                return target\n",
    "            else:\n",
    "                p2-=1\n",
    "        if temp<res:\n",
    "            res=temp\n",
    "            r0=r\n",
    "\n",
    "    return r0\n",
    "\n",
    "threeSumClosest(nums, target)"
   ]
  },
  {
   "cell_type": "code",
   "execution_count": 50,
   "metadata": {},
   "outputs": [
    {
     "name": "stdout",
     "output_type": "stream",
     "text": [
      "[0, 0, 0, 0, 0, 0, 0, 0, 0, 0, 0, 0, 0, 1, 1, 1, 1, 1, 1, 1, 1, 1, 1, 1, 1, 1, 1, 1, 2, 2, 2, 2, 2, 2, 2, 2, 2, 2, 2, 2, 2, 2, 2, 2, 2, 3, 3, 3, 3, 3, 3, 3, 3, 3, 3, 3, 3, 3, 3, 3, 4, 4, 4, 4, 4, 4, 4, 4, 4, 4, 4, 4, 4, 4, 4, 4, 4, 4, 4, 4, 4, 4, 4, 5, 5, 5, 5, 5, 5, 5, 5, 5, 5, 5, 5, 5, 5, 5, 5, 5, 6, 6, 6, 6, 6, 6, 6, 6, 6, 6, 6, 6, 6, 6, 6, 6, 6, 7, 7, 7, 7, 7, 7, 7, 7, 7, 7, 7, 7, 7, 7, 7, 7, 7, 7, 8, 8, 8, 8, 8, 8, 8, 8, 8, 8, 8, 8, 8, 8, 8, 8, 8, 8, 9, 9, 9, 9, 9, 9, 9, 9, 9, 9, 9, 9, 9, 10, 10, 10, 10, 10, 10, 10, 10, 10, 10, 10, 10, 10, 10, 10, 10, 11, 11, 11, 11, 11, 11, 11, 11, 11, 11, 11, 11, 11, 11, 11, 12, 12, 12, 12, 12, 12, 12, 12, 12, 12, 12, 12, 12, 12, 12, 12, 12, 12, 12, 12, 12, 12, 13, 13, 13, 13, 13, 13, 13, 13, 13, 13, 13, 13, 13, 13, 13, 13, 13, 13, 13, 13, 13, 13, 13, 13, 13, 14, 14, 14, 14, 14, 14, 14, 14, 14, 14, 14, 14, 14, 14, 14, 15, 15, 15, 15, 15, 15, 15, 15, 15, 15, 15, 15, 15, 15, 15, 15, 15, 15, 15, 15, 15, 15, 15, 15, 15, 15, 15, 15, 16, 16, 16, 16, 16, 16, 16, 16, 16, 16, 16, 16, 16, 16, 16, 16, 16, 16, 16, 17, 17, 17, 17, 17, 17, 17, 17, 17, 17, 17, 17, 17, 17, 17, 17, 17, 18, 18, 18, 18, 18, 18, 18, 18, 18, 18, 18, 18, 18, 18, 18, 18, 18, 19, 19, 19, 19, 19, 19, 19, 19, 19, 19, 19, 19, 19, 19, 19, 19, 19, 19, 19, 19, 19, 19, 20, 20, 20, 20, 20, 20, 20, 20, 20, 20, 20, 21, 21, 21, 21, 21, 21, 21, 21, 21, 21, 21, 21, 21, 21, 21, 21, 21, 21, 21, 21, 21, 22, 22, 22, 22, 22, 22, 22, 22, 22, 22, 22, 22, 22, 22, 22, 22, 22, 22, 22, 22, 22, 22, 22, 22, 22, 23, 23, 23, 23, 23, 23, 23, 23, 23, 23, 23, 23, 23, 23, 23, 23, 23, 24, 24, 24, 24, 24, 24, 24, 24, 24, 24, 24, 24, 24, 24, 24, 24, 25, 25, 25, 25, 25, 25, 25, 25, 25, 25, 25, 25, 25, 25, 25, 25, 25, 26, 26, 26, 26, 26, 26, 26, 26, 26, 26, 26, 26, 26, 26, 27, 27, 27, 27, 27, 27, 27, 27, 27, 27, 27, 27, 27, 27, 27, 27, 27, 27, 27, 27, 27, 27, 27, 28, 28, 28, 28, 28, 28, 28, 28, 28, 28, 28, 28, 28, 28, 29, 29, 29, 29, 29, 29, 29, 29, 29, 29, 29, 29, 29, 29, 29, 29, 29, 29, 30, 30, 30, 30, 30, 30, 30, 30, 30, 30, 30, 30, 30, 30, 30, 30, 30, 30, 30, 30, 30, 31, 31, 31, 31, 31, 31, 31, 32, 32, 32, 32, 32, 32, 32, 32, 33, 33, 33, 33, 33, 33, 33, 33, 33, 33, 33, 33, 33, 33, 33, 34, 34, 34, 34, 34, 34, 34, 34, 34, 34, 34, 34, 34, 34, 35, 35, 35, 35, 35, 35, 35, 35, 35, 35, 35, 35, 35, 35, 35, 35, 35, 35, 35, 36, 36, 36, 36, 36, 36, 36, 36, 36, 36, 36, 36, 36, 36, 36, 36, 37, 37, 37, 37, 37, 37, 37, 37, 37, 37, 37, 37, 37, 37, 37, 37, 37, 37, 37, 37, 37, 37, 38, 38, 38, 38, 38, 38, 38, 38, 38, 38, 38, 38, 38, 38, 38, 38, 38, 38, 38, 38, 38, 38, 38, 38, 39, 39, 39, 39, 39, 39, 39, 39, 39, 39, 39, 39, 39, 39, 39, 39, 39, 39, 39, 39, 39, 39, 40, 40, 40, 40, 40, 40, 40, 40, 40, 40, 40, 40, 40, 40, 41, 41, 41, 41, 41, 41, 41, 41, 41, 41, 41, 41, 41, 41, 41, 41, 41, 41, 41, 41, 41, 41, 41, 41, 41, 41, 41, 42, 42, 42, 42, 42, 42, 42, 42, 42, 42, 42, 42, 42, 42, 42, 42, 42, 43, 43, 43, 43, 43, 43, 43, 43, 43, 43, 43, 43, 43, 43, 43, 43, 43, 43, 44, 44, 44, 44, 44, 44, 44, 44, 44, 44, 44, 44, 45, 45, 45, 45, 45, 45, 45, 45, 45, 45, 45, 45, 45, 45, 45, 45, 45, 45, 45, 45, 45, 45, 45, 45, 46, 46, 46, 46, 46, 46, 46, 46, 46, 46, 46, 46, 46, 46, 46, 46, 46, 46, 46, 46, 46, 46, 47, 47, 47, 47, 47, 47, 47, 47, 47, 47, 47, 47, 47, 47, 47, 47, 47, 47, 47, 47, 47, 48, 48, 48, 48, 48, 48, 48, 48, 48, 48, 48, 48, 48, 48, 48, 48, 48, 48, 48, 49, 49, 49, 49, 49, 49, 49, 49, 49, 49, 49, 49, 49, 49, 49, 49, 49, 49, 49, 49, 49, 50, 50, 50, 50, 50, 50, 50, 50, 50, 50, 50, 50, 50, 50, 50, 50, 50, 50, 51, 51, 51, 51, 51, 51, 51, 51, 51, 51, 51, 51, 51, 51, 51, 51, 51, 52, 52, 52, 52, 52, 52, 52, 52, 52, 52, 52, 52, 52, 52, 52, 52, 52, 52, 52, 53, 53, 53, 53, 53, 53, 53, 53, 53, 53, 53, 53, 53, 53, 53, 53, 53, 53, 53, 54, 54, 54, 54, 54, 54, 54, 54, 54, 54, 54, 55, 55, 55, 55, 55, 55, 55, 55, 55, 55, 55, 55, 55, 55, 55]\n"
     ]
    },
    {
     "data": {
      "text/plain": [
       "82670192"
      ]
     },
     "execution_count": 50,
     "metadata": {},
     "output_type": "execute_result"
    }
   ],
   "source": [
    "#Valid Triangle Number\n",
    "nums=[15,44,16,43,47,47,45,27,46,2,28,12,49,22,36,12,6,48,28,19,18,34,46,38,42,3,21,3,54,35,21,54,13,46,50,23,53,43,5,48,40,48,10,31,15,35,50,8,48,55,52,18,54,16,35,4,43,55,34,13,5,13,27,41,19,22,21,26,48,4,15,1,45,51,13,49,22,33,18,18,52,27,6,41,7,11,48,17,37,31,42,3,45,22,6,45,42,5,28,39,35,30,24,21,49,49,47,54,28,42,40,26,47,8,28,1,44,4,45,23,49,53,12,48,16,27,36,21,18,41,43,9,55,27,37,41,5,43,12,45,0,34,19,48,14,22,43,14,13,38,15,7,41,8,37,13,45,31,47,38,45,38,50,44,20,40,39,38,26,29,24,10,30,23,53,38,39,3,37,4,15,22,29,4,5,4,4,19,35,30,30,49,16,32,36,26,37,53,46,28,24,13,12,29,2,36,21,19,15,11,22,10,30,29,40,14,17,39,36,17,23,39,13,29,51,8,55,10,10,47,39,1,46,27,18,7,49,38,27,14,26,35,5,46,54,12,18,30,11,6,29,52,44,38,51,22,26,24,41,13,39,27,0,36,38,7,37,7,9,25,4,8,52,33,46,33,42,43,17,23,20,23,41,8,47,16,48,46,35,35,24,0,17,12,40,52,11,16,7,33,6,21,30,32,55,52,52,28,11,35,39,15,27,47,52,0,11,41,50,10,13,10,5,40,21,0,27,12,39,20,27,39,19,28,5,51,45,19,3,1,15,53,31,45,36,33,22,4,22,20,30,7,54,13,19,48,32,13,38,9,4,22,26,22,43,5,47,14,15,21,15,48,10,15,47,22,9,52,4,16,22,47,9,13,44,15,5,19,2,55,36,49,25,52,21,5,19,46,2,51,45,12,54,47,47,23,17,26,52,36,49,4,42,18,20,22,47,18,37,28,19,11,21,13,37,51,2,43,36,43,0,40,50,27,40,41,31,41,53,2,17,4,35,52,22,25,21,16,5,41,54,5,40,3,38,12,10,53,48,28,9,7,46,28,3,9,44,29,39,3,41,15,29,30,47,21,12,27,53,7,34,53,53,50,53,23,46,52,40,21,3,46,49,17,14,36,10,54,51,22,25,34,49,49,26,45,45,17,30,19,6,49,41,9,19,25,51,23,55,11,0,1,13,26,15,41,38,19,51,21,11,8,55,25,21,15,18,15,48,4,37,36,5,45,13,13,16,26,0,41,8,51,20,38,28,46,3,37,52,6,24,11,18,39,25,48,16,41,50,44,48,7,29,14,15,28,7,46,15,16,46,20,35,6,27,10,17,1,42,30,37,41,37,52,55,4,6,17,27,33,45,37,11,29,16,42,33,39,35,33,30,25,37,6,25,22,43,31,42,25,15,27,19,15,10,1,45,24,23,17,17,33,12,53,30,44,30,2,30,8,45,49,48,46,52,13,41,29,46,39,50,51,19,55,36,29,23,8,11,49,43,45,51,2,41,53,6,38,52,26,45,0,55,14,42,25,10,4,39,5,47,42,55,37,35,53,14,27,54,41,19,34,38,43,22,41,23,12,13,17,36,23,41,15,34,24,44,21,3,25,10,14,43,16,35,45,1,22,26,20,5,8,37,42,47,1,2,33,2,21,8,36,50,6,45,40,48,16,12,1,55,0,53,51,35,19,14,3,21,33,2,54,33,2,18,53,34,19,23,32,27,39,13,48,27,12,7,50,16,49,35,27,12,29,6,34,7,18,50,6,49,24,1,18,53,27,36,0,37,42,51,12,38,8,29,38,11,24,4,2,15,19,1,25,9,30,50,30,8,15,50,52,25,8,29,44,7,41,30,45,9,23,20,49,15,16,48,34,10,44,52,22,4,6,2,8,23,13,39,7,31,29,4,35,43,2,33,34,24,41,38,47,5,38,28,34,1,44,14,13,12,8,6,0,24,9,4,39,37,32,18,38,15,29,14,11,40,34,12,16,7,7,50,18,24,30,15,13,41,42,47,22,17,14,38,46,45,22,12,12,12,25,11,24,41,8,51,51,25,46,15,13,47,38,20,0,21,7,30,49,42,43,53,24,19,17,46,50,15,33,1,42,14,55,26,17,41,39,23,46,35,39,16,16,37,50,38,24,20,32,51,22,53,50,10,39,4,2,27,1,25,18,40,50,9,35,37,27,37,39,29,2,38,32,6,30,32,4,43,46,21,9,40,45,49,34,37,4,55,19,47,3,42,33,13,43,3,3,22,49]\n",
    "res=0\n",
    "nums=sorted(nums)\n",
    "print(nums)\n",
    "for i in range(len(nums)-2):\n",
    "    if i>0 and nums[i]==nums[i-1]:\n",
    "        res+=sum(l)-l[0]\n",
    "        continue\n",
    "    p1,p2=i+1,len(nums)-1  \n",
    "    l=[]\n",
    "    while p2>p1:  \n",
    "        if nums[i]+nums[p1]<=nums[p2]:\n",
    "            while p1<p2 and nums[i]+nums[p1]<=nums[p2]:\n",
    "                p2-=1\n",
    "            l.append(p2-p1)\n",
    "            p1+=1\n",
    "            p2=len(nums)-1\n",
    "        else:            \n",
    "            l.append(p2-p1)\n",
    "            p1+=1\n",
    "    res+=sum(l)\n",
    "res"
   ]
  },
  {
   "cell_type": "code",
   "execution_count": null,
   "metadata": {
    "collapsed": true
   },
   "outputs": [],
   "source": []
  }
 ],
 "metadata": {
  "kernelspec": {
   "display_name": "Python [conda root]",
   "language": "python",
   "name": "conda-root-py"
  },
  "language_info": {
   "codemirror_mode": {
    "name": "ipython",
    "version": 3
   },
   "file_extension": ".py",
   "mimetype": "text/x-python",
   "name": "python",
   "nbconvert_exporter": "python",
   "pygments_lexer": "ipython3",
   "version": "3.5.2"
  }
 },
 "nbformat": 4,
 "nbformat_minor": 2
}
