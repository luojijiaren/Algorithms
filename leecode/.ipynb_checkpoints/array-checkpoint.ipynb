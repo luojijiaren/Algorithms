{
 "cells": [
  {
   "cell_type": "code",
   "execution_count": null,
   "metadata": {
    "collapsed": true
   },
   "outputs": [],
   "source": [
    "#array"
   ]
  },
  {
   "cell_type": "code",
   "execution_count": 14,
   "metadata": {},
   "outputs": [
    {
     "data": {
      "text/plain": [
       "23.25"
      ]
     },
     "execution_count": 14,
     "metadata": {},
     "output_type": "execute_result"
    }
   ],
   "source": [
    "#Maximum Average Subarray\n",
    "nums=[1,12,-5,3,5,90]\n",
    "k=4\n",
    "if len(nums)<=k:\n",
    "    res=sum(nums)/len(nums)\n",
    "else:\n",
    "    res=0\n",
    "    for i in range(len(nums)-k+1):\n",
    "        a=sum(nums[i:i+k])/k\n",
    "        if a>res:\n",
    "            res=a\n",
    "round(res,5)"
   ]
  },
  {
   "cell_type": "code",
   "execution_count": 15,
   "metadata": {},
   "outputs": [
    {
     "data": {
      "text/plain": [
       "23.25"
      ]
     },
     "execution_count": 15,
     "metadata": {},
     "output_type": "execute_result"
    }
   ],
   "source": [
    "#opanized\n",
    "a=[0]\n",
    "for v in nums:\n",
    "    a.append(a[-1]+v)\n",
    "c=[]\n",
    "for i in range(len(a)-k):\n",
    "    c.append(a[i+k]-a[i])\n",
    "max(c)/k"
   ]
  },
  {
   "cell_type": "code",
   "execution_count": 2,
   "metadata": {},
   "outputs": [
    {
     "data": {
      "text/plain": [
       "1"
      ]
     },
     "execution_count": 2,
     "metadata": {},
     "output_type": "execute_result"
    }
   ],
   "source": [
    "#shortest words distance\n",
    "words = [\"practice\", \"makes\", \"perfect\", \"coding\", \"makes\"]\n",
    "word1 = 'coding'\n",
    "word2 = 'makes'\n",
    "l1=[]\n",
    "l2=[]\n",
    "res=1000000\n",
    "for i, w in enumerate(words):\n",
    "    if w==word1:\n",
    "        l1.append(i)\n",
    "        if l2:\n",
    "            for j in l2:\n",
    "                if abs(i-j)<res:\n",
    "                    res=abs(i-j)\n",
    "    if w==word2:\n",
    "        l2.append(i)\n",
    "        if l1:\n",
    "            for j in l1:\n",
    "                if abs(i-j)<res:\n",
    "                    res=abs(i-j)\n",
    "res"
   ]
  },
  {
   "cell_type": "code",
   "execution_count": 7,
   "metadata": {},
   "outputs": [
    {
     "name": "stdout",
     "output_type": "stream",
     "text": [
      "1\n",
      "2\n",
      "4\n"
     ]
    },
    {
     "data": {
      "text/plain": [
       "1"
      ]
     },
     "execution_count": 7,
     "metadata": {},
     "output_type": "execute_result"
    }
   ],
   "source": [
    "#find the shortest distance between two lists\n",
    "l1=[1,5,7,8]\n",
    "l2=[0,3,12]\n",
    "res=100000000\n",
    "for j in l2:            \n",
    "    if j<l1[0]:\n",
    "        temp=abs(l1[0]-j)\n",
    "    elif j>l1[-1]:\n",
    "        temp=abs(l1[-1]-j)\n",
    "    else:\n",
    "        low=0\n",
    "        high=len(l1)-1\n",
    "        while low<high:\n",
    "            mid=(low+high)//2\n",
    "            if l1[mid]>j:\n",
    "                high=mid-1\n",
    "            elif l1[mid]<j:\n",
    "                low=mid+1\n",
    "        temp=min(abs(l1[low]-j),abs(l1[high]-j))\n",
    "    if temp<res:\n",
    "        res=temp\n",
    "res"
   ]
  },
  {
   "cell_type": "code",
   "execution_count": 10,
   "metadata": {},
   "outputs": [
    {
     "data": {
      "text/plain": [
       "1"
      ]
     },
     "execution_count": 10,
     "metadata": {},
     "output_type": "execute_result"
    }
   ],
   "source": [
    "#optimize\n",
    "import sys\n",
    "l1=[1,5,7,8]\n",
    "l2=[0,3,12]\n",
    "m,n,i,j,res=len(l1),len(l2),0,0,sys.maxsize\n",
    "while i<m and j<n:\n",
    "    res=min(res,abs(l1[i]-l2[j]))\n",
    "    if l1[i]<l2[j]:\n",
    "        i+=1\n",
    "    else:\n",
    "        j+=1\n",
    "res\n"
   ]
  },
  {
   "cell_type": "code",
   "execution_count": 4,
   "metadata": {},
   "outputs": [
    {
     "data": {
      "text/plain": [
       "[[1], [1, 1], [1, 2, 1], [1, 3, 3, 1], [1, 4, 6, 4, 1]]"
      ]
     },
     "execution_count": 4,
     "metadata": {},
     "output_type": "execute_result"
    }
   ],
   "source": [
    "#Pascal's Triangle\n",
    "res=[]\n",
    "res.append([1])\n",
    "i=0\n",
    "while i <4:\n",
    "    k=[]\n",
    "    temp=[0]+res[-1]+[0]\n",
    "    for j in range(len(temp)-1):\n",
    "        k.append(temp[j]+temp[j+1])    \n",
    "    res.append(k)\n",
    "    i+=1\n",
    "res"
   ]
  },
  {
   "cell_type": "code",
   "execution_count": 5,
   "metadata": {},
   "outputs": [
    {
     "data": {
      "text/plain": [
       "[1, 4, 6, 4, 1]"
      ]
     },
     "execution_count": 5,
     "metadata": {},
     "output_type": "execute_result"
    }
   ],
   "source": [
    "#Pascal's Triangle II\n",
    "res=[1]\n",
    "i=0\n",
    "while i <4:\n",
    "    k=[]\n",
    "    temp=[0]+res+[0]\n",
    "    for j in range(len(temp)-1):\n",
    "        k.append(temp[j]+temp[j+1])    \n",
    "    res=k\n",
    "    i+=1\n",
    "res"
   ]
  },
  {
   "cell_type": "code",
   "execution_count": 10,
   "metadata": {},
   "outputs": [
    {
     "data": {
      "text/plain": [
       "4"
      ]
     },
     "execution_count": 10,
     "metadata": {},
     "output_type": "execute_result"
    }
   ],
   "source": [
    "#Maximum Distance in Arrays\n",
    "arrays=[[1,2,3],\n",
    " [4,5],\n",
    " [1,2,3]]\n",
    "l=[]\n",
    "for i in range(1,len(arrays)):\n",
    "    for j in range(i):\n",
    "        l.append(max(abs(arrays[i][-1]-arrays[j][0]),abs(arrays[j][-1]-arrays[i][0])))\n",
    "max(l)\n",
    "    "
   ]
  },
  {
   "cell_type": "code",
   "execution_count": 16,
   "metadata": {},
   "outputs": [
    {
     "data": {
      "text/plain": [
       "4"
      ]
     },
     "execution_count": 16,
     "metadata": {},
     "output_type": "execute_result"
    }
   ],
   "source": [
    "#optimized\n",
    "import sys\n",
    "arrays=sorted(arrays)\n",
    "l1=-sys.maxsize\n",
    "for i in range(1,len(arrays)):\n",
    "    l1=max(l1,arrays[i][-1])\n",
    "r1=l1-arrays[0][0]\n",
    "r2=abs(arrays[0][-1]-arrays[1][0])    \n",
    "max(r1,r2)"
   ]
  },
  {
   "cell_type": "code",
   "execution_count": 2,
   "metadata": {},
   "outputs": [
    {
     "data": {
      "text/plain": [
       "[2, 3]"
      ]
     },
     "execution_count": 2,
     "metadata": {},
     "output_type": "execute_result"
    }
   ],
   "source": [
    "a=[2,3,4]\n",
    "a[:-1]"
   ]
  },
  {
   "cell_type": "code",
   "execution_count": 18,
   "metadata": {},
   "outputs": [
    {
     "data": {
      "text/plain": [
       "[1]"
      ]
     },
     "execution_count": 18,
     "metadata": {},
     "output_type": "execute_result"
    }
   ],
   "source": [
    "#merge two sorted arrays\n",
    "nums1=[0]\n",
    "nums2=[1]\n",
    "m=0\n",
    "n=1\n",
    "if m==0 and n==0:\n",
    "    nums1=[]\n",
    "elif m==0 and n!=0:\n",
    "    nums1=nums2\n",
    "else:        \n",
    "    p1=p2=c=0\n",
    "    while p1<m and p2<n:\n",
    "        if nums1[p1]<=nums2[p2]:\n",
    "            p1+=1\n",
    "            c+=1\n",
    "        else:\n",
    "            if c==0:\n",
    "                nums1=[nums2[p2]]+nums1[c:]\n",
    "            else:\n",
    "                nums1=nums1[:c]+[nums2[p2]]+nums1[c:]\n",
    "            c+=1\n",
    "            p2+=1 \n",
    "    if p2<n:\n",
    "        nums1+=nums2[p2:]\n",
    "nums1"
   ]
  },
  {
   "cell_type": "code",
   "execution_count": 24,
   "metadata": {},
   "outputs": [
    {
     "data": {
      "text/plain": [
       "[1, 3, 4, 4, 5, 7, 8]"
      ]
     },
     "execution_count": 24,
     "metadata": {},
     "output_type": "execute_result"
    }
   ],
   "source": [
    "#optimized\n",
    "nums1=[4,5]\n",
    "nums2=[1,3,4,7,8]\n",
    "m=2\n",
    "n=5\n",
    "nums1+=[0]*len(nums2)\n",
    "while m>0 and n>0:\n",
    "    if nums1[m-1]>nums2[n-1]:\n",
    "        nums1[m+n-1]=nums1[m-1]\n",
    "        m-=1\n",
    "    else:\n",
    "        nums1[m+n-1]=nums2[n-1]\n",
    "        n-=1\n",
    "if n>0:\n",
    "    nums1[:n]=nums2[:n]\n",
    "nums1"
   ]
  },
  {
   "cell_type": "code",
   "execution_count": 27,
   "metadata": {},
   "outputs": [
    {
     "data": {
      "text/plain": [
       "[1, 2]"
      ]
     },
     "execution_count": 27,
     "metadata": {},
     "output_type": "execute_result"
    }
   ],
   "source": [
    "a=[1,2,3]\n",
    "b=[1,2]\n",
    "a=b\n",
    "\n",
    "a"
   ]
  },
  {
   "cell_type": "code",
   "execution_count": 25,
   "metadata": {
    "collapsed": true
   },
   "outputs": [],
   "source": [
    "a=[]\n",
    "if a:\n",
    "    print(1)"
   ]
  },
  {
   "cell_type": "code",
   "execution_count": 28,
   "metadata": {
    "collapsed": true
   },
   "outputs": [],
   "source": [
    "a=[2, 6, 4, 8, 10, 9, 15]\n",
    "b=sorted(a)"
   ]
  },
  {
   "cell_type": "code",
   "execution_count": 29,
   "metadata": {},
   "outputs": [
    {
     "name": "stdout",
     "output_type": "stream",
     "text": [
      "1 5\n"
     ]
    }
   ],
   "source": [
    "#Shortest Unsorted Continuous Subarray   \n",
    "i=0\n",
    "while True:\n",
    "    if a[i]==b[i]:\n",
    "        i+=1\n",
    "    else:\n",
    "        break\n",
    "j=len(a)-1\n",
    "while True:\n",
    "    if a[j]==b[j]:\n",
    "        j-=1\n",
    "    else:\n",
    "        break\n",
    "print(i,j)"
   ]
  },
  {
   "cell_type": "code",
   "execution_count": 57,
   "metadata": {},
   "outputs": [
    {
     "data": {
      "text/plain": [
       "[-2, 0, 3, 5, 3]"
      ]
     },
     "execution_count": 57,
     "metadata": {},
     "output_type": "execute_result"
    }
   ],
   "source": [
    "#Range Addition\n",
    "\n",
    "length = 5\n",
    "updates = [\n",
    "    [1,  3,  2],\n",
    "    [2,  4,  3],\n",
    "    [0,  2, -2]\n",
    "]\n",
    "\n",
    "\n",
    "a=[0]*length\n",
    "for i in range(len(updates)):\n",
    "    for j in range(updates[i][0],updates[i][1]+1):\n",
    "        a[j]+=updates[i][2]\n",
    "#     print(a)\n",
    "#     a[updates[i][0]:updates[i][1]+1]=[updates[i][2]]*(updates[i][1]+1-updates[i][0])\n",
    "a"
   ]
  },
  {
   "cell_type": "code",
   "execution_count": 55,
   "metadata": {},
   "outputs": [
    {
     "data": {
      "text/plain": [
       "1"
      ]
     },
     "execution_count": 55,
     "metadata": {},
     "output_type": "execute_result"
    }
   ],
   "source": [
    "i,j,k=[1,2,3]\n",
    "i"
   ]
  },
  {
   "cell_type": "code",
   "execution_count": 59,
   "metadata": {},
   "outputs": [
    {
     "name": "stdout",
     "output_type": "stream",
     "text": [
      "[0, 2, 0, 0, -2]\n",
      "[0, 2, 3, 0, -2]\n",
      "[-2, 2, 3, 2, -2]\n"
     ]
    },
    {
     "data": {
      "text/plain": [
       "[-2, 0, 3, 5, 3]"
      ]
     },
     "execution_count": 59,
     "metadata": {},
     "output_type": "execute_result"
    }
   ],
   "source": [
    "#optimized\n",
    "res = [0] * length\n",
    "updates = [\n",
    "    [1,  3,  2],\n",
    "    [2,  4,  3],\n",
    "    [0,  2, -2]\n",
    "]\n",
    "for update in updates:\n",
    "    start, end, inc = update\n",
    "    res[start] += inc\n",
    "\n",
    "    if end + 1 <= length - 1:\n",
    "        res[end+1] -= inc\n",
    "    print(res)\n",
    "sum = 0\n",
    "for i in range(length):\n",
    "    sum += res[i]\n",
    "    res[i] = sum\n",
    "res"
   ]
  },
  {
   "cell_type": "code",
   "execution_count": 62,
   "metadata": {},
   "outputs": [
    {
     "ename": "IndexError",
     "evalue": "list index out of range",
     "output_type": "error",
     "traceback": [
      "\u001b[1;31m---------------------------------------------------------------------------\u001b[0m",
      "\u001b[1;31mIndexError\u001b[0m                                Traceback (most recent call last)",
      "\u001b[1;32m<ipython-input-62-c41593897ae9>\u001b[0m in \u001b[0;36m<module>\u001b[1;34m()\u001b[0m\n\u001b[0;32m      2\u001b[0m \u001b[0mnums\u001b[0m\u001b[1;33m=\u001b[0m\u001b[1;33m[\u001b[0m\u001b[1;36m1\u001b[0m\u001b[1;33m,\u001b[0m\u001b[1;36m1\u001b[0m\u001b[1;33m,\u001b[0m\u001b[1;36m3\u001b[0m\u001b[1;33m]\u001b[0m\u001b[1;33m\u001b[0m\u001b[0m\n\u001b[0;32m      3\u001b[0m \u001b[0ma\u001b[0m\u001b[1;33m=\u001b[0m\u001b[0msorted\u001b[0m\u001b[1;33m(\u001b[0m\u001b[0mlist\u001b[0m\u001b[1;33m(\u001b[0m\u001b[0mset\u001b[0m\u001b[1;33m(\u001b[0m\u001b[0mnums\u001b[0m\u001b[1;33m)\u001b[0m\u001b[1;33m)\u001b[0m\u001b[1;33m)\u001b[0m\u001b[1;33m\u001b[0m\u001b[0m\n\u001b[1;32m----> 4\u001b[1;33m \u001b[0ma\u001b[0m\u001b[1;33m[\u001b[0m\u001b[1;33m-\u001b[0m\u001b[1;36m3\u001b[0m\u001b[1;33m]\u001b[0m\u001b[1;33m\u001b[0m\u001b[0m\n\u001b[0m",
      "\u001b[1;31mIndexError\u001b[0m: list index out of range"
     ]
    }
   ],
   "source": [
    "#Third Maximum Number\n",
    "nums=[1,1,3]\n",
    "a=sorted(list(set(nums)))\n",
    "a[-3]\n"
   ]
  },
  {
   "cell_type": "code",
   "execution_count": 65,
   "metadata": {},
   "outputs": [
    {
     "data": {
      "text/plain": [
       "[2, 1]"
      ]
     },
     "execution_count": 65,
     "metadata": {},
     "output_type": "execute_result"
    }
   ],
   "source": [
    "a=[1,2]\n",
    "a[-1:]+a[:-1]"
   ]
  },
  {
   "cell_type": "code",
   "execution_count": 66,
   "metadata": {},
   "outputs": [
    {
     "data": {
      "text/plain": [
       "[1, 4, 2, 5, 3, 6]"
      ]
     },
     "execution_count": 66,
     "metadata": {},
     "output_type": "execute_result"
    }
   ],
   "source": [
    "nums=[3,5,2,1,6,4]\n",
    "a1=sorted(nums)\n",
    "b1=a1[:len(a1)//2+(not len(a1)%2==0)]\n",
    "b2=a1[len(a1)//2+(not len(a1)%2==0):]\n",
    "c=[]\n",
    "for i in range(len(b2)):\n",
    "    c.extend([b1[i],b2[i]])\n",
    "if len(a1)%2!=0:\n",
    "    c.append(b1[-1])\n",
    "nums=c\n",
    "nums"
   ]
  },
  {
   "cell_type": "code",
   "execution_count": 91,
   "metadata": {},
   "outputs": [
    {
     "data": {
      "text/plain": [
       "[(2, 1)]"
      ]
     },
     "execution_count": 91,
     "metadata": {},
     "output_type": "execute_result"
    }
   ],
   "source": [
    "#K-diff Pairs in an Array\n",
    "nums=[1,1,1,2,1]\n",
    "k=1\n",
    "l=[]\n",
    "for i in range(1,len(nums)):\n",
    "    for j in range(i):\n",
    "        if abs(nums[j]-nums[i])==k:\n",
    "            if (nums[i],nums[j]) in l or (nums[j],nums[i]) in l:\n",
    "                continue\n",
    "            else:\n",
    "                l.append((nums[i],nums[j]))\n",
    "l\n"
   ]
  },
  {
   "cell_type": "code",
   "execution_count": 95,
   "metadata": {},
   "outputs": [
    {
     "data": {
      "text/plain": [
       "2"
      ]
     },
     "execution_count": 95,
     "metadata": {},
     "output_type": "execute_result"
    }
   ],
   "source": [
    "#optimized\n",
    "from collections import Counter\n",
    "nums=[3,1,4,1,5]\n",
    "\n",
    "k=2\n",
    "if k==0:\n",
    "    c=0\n",
    "    a=Counter(nums)\n",
    "    for i in a.keys():\n",
    "        if a[i]>1:\n",
    "            c+=1\n",
    "else:\n",
    "    c=0\n",
    "    nums=sorted(list(set(nums)))\n",
    "    for i in range(len(nums)-1):\n",
    "        for j in range(i,len(nums)):\n",
    "            if abs(nums[j]-nums[i])==k:\n",
    "                c+=1\n",
    "                break\n",
    "c"
   ]
  },
  {
   "cell_type": "code",
   "execution_count": 103,
   "metadata": {},
   "outputs": [
    {
     "data": {
      "text/plain": [
       "1"
      ]
     },
     "execution_count": 103,
     "metadata": {},
     "output_type": "execute_result"
    }
   ],
   "source": [
    "a=5\n",
    "b=1\n",
    "a and b"
   ]
  },
  {
   "cell_type": "code",
   "execution_count": 104,
   "metadata": {},
   "outputs": [
    {
     "data": {
      "text/plain": [
       "2"
      ]
     },
     "execution_count": 104,
     "metadata": {},
     "output_type": "execute_result"
    }
   ],
   "source": [
    "#optimized\n",
    "from collections import Counter\n",
    "if k==0:\n",
    "    c=sum(v>1 for v in Counter(nums).values())\n",
    "elif k>0:\n",
    "    c=len(set(nums)&set([i+k for i in nums]))\n",
    "else:c=0\n",
    "c\n"
   ]
  },
  {
   "cell_type": "code",
   "execution_count": 108,
   "metadata": {},
   "outputs": [
    {
     "name": "stdout",
     "output_type": "stream",
     "text": [
      "[1, 0, 0, 0, 0, 0, 0, 0, 0, 0, 0, 0, 0, 0, 0, 0, 0, 0, 0, 0, 0, 0, 0, 0, 0, 0, 0, 0, 0, 0, 0, 0]\n"
     ]
    },
    {
     "data": {
      "text/plain": [
       "2147483648"
      ]
     },
     "execution_count": 108,
     "metadata": {},
     "output_type": "execute_result"
    }
   ],
   "source": [
    "#Reverse Bits\n",
    "n=1\n",
    "l=[]\n",
    "while n>0:\n",
    "    l.append(n%2)\n",
    "    n=n//2\n",
    "l=l+[0]*(32-len(l))\n",
    "print(l)\n",
    "res=0\n",
    "for i in range(len(l)):\n",
    "    res+=l[i]*(2**(31-i))\n",
    "res\n",
    "\n"
   ]
  },
  {
   "cell_type": "code",
   "execution_count": 7,
   "metadata": {},
   "outputs": [
    {
     "data": {
      "text/plain": [
       "14"
      ]
     },
     "execution_count": 7,
     "metadata": {},
     "output_type": "execute_result"
    }
   ],
   "source": [
    "#Arithmetic Slices\n",
    "A=[-1,1, 3, 5, 7, 9,10,11,13,15,17]\n",
    "b=[]\n",
    "for i in range(len(A)-1):\n",
    "    b.append(A[i+1]-A[i])\n",
    "\n",
    "start=0\n",
    "l=[]\n",
    "while start<len(b):\n",
    "    i=start+1\n",
    "    count=1\n",
    "    while i<len(b) and b[i]==b[start]:\n",
    "        count+=1\n",
    "        i+=1\n",
    "    l.append(count)\n",
    "    start=i\n",
    "    \n",
    "res=0\n",
    "for j in l:\n",
    "    if j>1:\n",
    "        res+=j*(j-1)//2\n",
    "res\n",
    "        "
   ]
  },
  {
   "cell_type": "code",
   "execution_count": null,
   "metadata": {
    "collapsed": true
   },
   "outputs": [],
   "source": [
    "#optimized\n",
    "\n",
    "def numberOfArithmeticSlices(A):\n",
    "    opt, i = [0,0], 1\n",
    "    for j in range(2,len(A)):\n",
    "        if A[j]-A[j-1] == A[j-1]-A[j-2]:\n",
    "            opt.append(opt[j-1]+i)\n",
    "            i += 1\n",
    "        else:\n",
    "            opt.append(opt[j-1])\n",
    "            i = 1\n",
    "    return opt[-1]\n",
    "\n",
    "numberOfArithmeticSlices([-1,1, 3, 5, 7, 9,10,11,13,15,17])"
   ]
  },
  {
   "cell_type": "code",
   "execution_count": 10,
   "metadata": {},
   "outputs": [
    {
     "data": {
      "text/plain": [
       "9"
      ]
     },
     "execution_count": 10,
     "metadata": {},
     "output_type": "execute_result"
    }
   ],
   "source": [
    "#Minimum Moves to Equal Array Elements II\n",
    "nums=[-1,1,4, 5]\n",
    "sum(nums[len(nums)//2+(len(nums)%2!=0):])-sum(nums[:len(nums)//2])"
   ]
  },
  {
   "cell_type": "code",
   "execution_count": 18,
   "metadata": {},
   "outputs": [
    {
     "data": {
      "text/plain": [
       "'1/3'"
      ]
     },
     "execution_count": 18,
     "metadata": {},
     "output_type": "execute_result"
    }
   ],
   "source": [
    "#Fraction Addition and Subtraction\n",
    "from fractions import Fraction\n",
    "a=eval(\"-1/2+1/2+1/3\")\n",
    "str(Fraction(a).limit_denominator())"
   ]
  },
  {
   "cell_type": "code",
   "execution_count": null,
   "metadata": {
    "collapsed": true
   },
   "outputs": [],
   "source": []
  },
  {
   "cell_type": "code",
   "execution_count": null,
   "metadata": {
    "collapsed": true
   },
   "outputs": [],
   "source": []
  }
 ],
 "metadata": {
  "kernelspec": {
   "display_name": "Python [conda root]",
   "language": "python",
   "name": "conda-root-py"
  },
  "language_info": {
   "codemirror_mode": {
    "name": "ipython",
    "version": 3
   },
   "file_extension": ".py",
   "mimetype": "text/x-python",
   "name": "python",
   "nbconvert_exporter": "python",
   "pygments_lexer": "ipython3",
   "version": "3.5.2"
  }
 },
 "nbformat": 4,
 "nbformat_minor": 2
}
