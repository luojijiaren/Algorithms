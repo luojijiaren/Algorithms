{
 "cells": [
  {
   "cell_type": "code",
   "execution_count": 2,
   "metadata": {},
   "outputs": [
    {
     "data": {
      "text/plain": [
       "27"
      ]
     },
     "execution_count": 2,
     "metadata": {},
     "output_type": "execute_result"
    }
   ],
   "source": [
    "#Nested List Weight Sum\n",
    "a=[1,[4,[6]]]\n",
    "\n",
    "def weight(a):\n",
    "    k=1\n",
    "    res=0\n",
    "    while a:\n",
    "#     if not any(isinstance(NestedList[k],list) for k in range(len(NestedList))):\n",
    "#         r=[1]*len(NestedList) \n",
    "        temp=[]\n",
    "        for i in a:\n",
    "            if not isinstance(i,list):\n",
    "                res+=k*i\n",
    "            else:\n",
    "                temp.extend(i)\n",
    "        #in python2:\n",
    "        #if i.isInteger():\n",
    "        #res+=i.getInteger()*k\n",
    "        #else: temp.extend(i.getList())\n",
    "        a=temp\n",
    "        k+=1\n",
    "    return res\n",
    "weight(a)"
   ]
  },
  {
   "cell_type": "code",
   "execution_count": 3,
   "metadata": {},
   "outputs": [
    {
     "data": {
      "text/plain": [
       "27"
      ]
     },
     "execution_count": 3,
     "metadata": {},
     "output_type": "execute_result"
    }
   ],
   "source": [
    "#with recursion\n",
    "def weight(a):\n",
    "    def weighthelper(a,depth):\n",
    "        res=0\n",
    "        for i in a:\n",
    "            if not isinstance(i,list):\n",
    "                res+=depth*i\n",
    "            else:\n",
    "                res+=weighthelper(i,depth+1)    \n",
    "        return res\n",
    "    return weighthelper(a,1)\n",
    "weight(a)"
   ]
  },
  {
   "cell_type": "code",
   "execution_count": 20,
   "metadata": {},
   "outputs": [
    {
     "data": {
      "text/plain": [
       "8"
      ]
     },
     "execution_count": 20,
     "metadata": {},
     "output_type": "execute_result"
    }
   ],
   "source": [
    "#the weight is defined from bottom up\n",
    "a=[[1,1],2,[1,1]]\n",
    "def getmaxdepth(nestedList):\n",
    "    resl=[1]*len(nestedList)\n",
    "    for i in range(len(nestedList)):\n",
    "        if isinstance(nestedList[i],list):\n",
    "            resl[i]=getmaxdepth(nestedList[i])+1     \n",
    "    return max(resl)    \n",
    "\n",
    "def weightsum(a,depth):\n",
    "    wsum=0\n",
    "    for i in a:\n",
    "        if not isinstance(i,list):\n",
    "            wsum+=i*depth\n",
    "        else:\n",
    "            wsum+=weightsum(i,depth-1)           \n",
    "    return wsum\n",
    "        \n",
    "n=getmaxdepth(a)\n",
    "weightsum(a,n)"
   ]
  },
  {
   "cell_type": "code",
   "execution_count": 35,
   "metadata": {},
   "outputs": [
    {
     "data": {
      "text/plain": [
       "8"
      ]
     },
     "execution_count": 35,
     "metadata": {},
     "output_type": "execute_result"
    }
   ],
   "source": [
    "nestedList=[[1,1],2,[1,1]]\n",
    "class Solution:\n",
    "    def __init__(self,nestedList):\n",
    "        self.a=nestedList\n",
    "    def getmaxdepth0(self):\n",
    "        def getmaxdepth(nestedList):\n",
    "            resl=[1]*len(nestedList)\n",
    "            for i in range(len(nestedList)):\n",
    "                if isinstance(nestedList[i],list):\n",
    "                    resl[i]=getmaxdepth(nestedList[i])+1     \n",
    "            return max(resl)    \n",
    "\n",
    "        def weightsum(a,depth):\n",
    "            wsum=0\n",
    "            for i in a:\n",
    "                if not isinstance(i,list):\n",
    "                    wsum+=i*depth\n",
    "                else:\n",
    "                    wsum+=weightsum(i,depth-1)           \n",
    "            return wsum\n",
    "\n",
    "        n=getmaxdepth(self.a)\n",
    "        return weightsum(self.a,n)   \n",
    "a=Solution(nestedList)\n",
    "a.getmaxdepth0()"
   ]
  },
  {
   "cell_type": "code",
   "execution_count": null,
   "metadata": {
    "collapsed": true
   },
   "outputs": [],
   "source": []
  },
  {
   "cell_type": "code",
   "execution_count": null,
   "metadata": {
    "collapsed": true
   },
   "outputs": [],
   "source": []
  },
  {
   "cell_type": "code",
   "execution_count": 19,
   "metadata": {
    "collapsed": true
   },
   "outputs": [],
   "source": [
    "\n",
    "def weight(NestedList):\n",
    "    res=[]\n",
    "    if not any(isinstance(NestedList[k],list) for k in range(len(NestedList))):\n",
    "        r=[1]*len(NestedList)\n",
    "        return r\n",
    "    else:\n",
    "\n",
    "        for k in range(len(NestedList)):\n",
    "            res=r.copy()\n",
    "            if isinstance(NestedList[k],list):\n",
    "                if k==0:\n",
    "                    res=[el+1 for el in weight(NestedList[k])]+res[1:]\n",
    "                else:\n",
    "                    res=res[:k-1]+[el+1 for el in weight(NestedList[k])]+res[k+1:]\n",
    "        \n",
    "        return res\n",
    "\n",
    "    "
   ]
  },
  {
   "cell_type": "code",
   "execution_count": 24,
   "metadata": {},
   "outputs": [
    {
     "data": {
      "text/plain": [
       "[4, [6]]"
      ]
     },
     "execution_count": 24,
     "metadata": {},
     "output_type": "execute_result"
    }
   ],
   "source": [
    "a=[1,[4,[6]]]\n",
    "b=[]\n",
    "for i in a:\n",
    "    if isinstance(i,list):\n",
    "        b.extend(i)\n",
    "b"
   ]
  },
  {
   "cell_type": "code",
   "execution_count": null,
   "metadata": {
    "collapsed": true
   },
   "outputs": [],
   "source": []
  }
 ],
 "metadata": {
  "kernelspec": {
   "display_name": "Python [conda root]",
   "language": "python",
   "name": "conda-root-py"
  },
  "language_info": {
   "codemirror_mode": {
    "name": "ipython",
    "version": 3
   },
   "file_extension": ".py",
   "mimetype": "text/x-python",
   "name": "python",
   "nbconvert_exporter": "python",
   "pygments_lexer": "ipython3",
   "version": "3.5.2"
  }
 },
 "nbformat": 4,
 "nbformat_minor": 2
}
