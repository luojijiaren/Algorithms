{
 "cells": [
  {
   "cell_type": "code",
   "execution_count": null,
   "metadata": {
    "collapsed": true
   },
   "outputs": [],
   "source": [
    "#array"
   ]
  },
  {
   "cell_type": "code",
   "execution_count": 14,
   "metadata": {},
   "outputs": [
    {
     "data": {
      "text/plain": [
       "23.25"
      ]
     },
     "execution_count": 14,
     "metadata": {},
     "output_type": "execute_result"
    }
   ],
   "source": [
    "#Maximum Average Subarray\n",
    "nums=[1,12,-5,3,5,90]\n",
    "k=4\n",
    "if len(nums)<=k:\n",
    "    res=sum(nums)/len(nums)\n",
    "else:\n",
    "    res=0\n",
    "    for i in range(len(nums)-k+1):\n",
    "        a=sum(nums[i:i+k])/k\n",
    "        if a>res:\n",
    "            res=a\n",
    "round(res,5)"
   ]
  },
  {
   "cell_type": "code",
   "execution_count": 15,
   "metadata": {},
   "outputs": [
    {
     "data": {
      "text/plain": [
       "23.25"
      ]
     },
     "execution_count": 15,
     "metadata": {},
     "output_type": "execute_result"
    }
   ],
   "source": [
    "#opanized\n",
    "a=[0]\n",
    "for v in nums:\n",
    "    a.append(a[-1]+v)\n",
    "c=[]\n",
    "for i in range(len(a)-k):\n",
    "    c.append(a[i+k]-a[i])\n",
    "max(c)/k"
   ]
  },
  {
   "cell_type": "code",
   "execution_count": 20,
   "metadata": {},
   "outputs": [
    {
     "data": {
      "text/plain": [
       "2"
      ]
     },
     "execution_count": 20,
     "metadata": {},
     "output_type": "execute_result"
    }
   ],
   "source": [
    "words = [\"practice\", \"makes\", \"perfect\", \"coding\", \"makes\"]\n",
    "word1 = 'coding'\n",
    "word2 = 'makes'\n",
    "l1=[]\n",
    "l2=[]\n",
    "for i, w in enumerate(words):\n",
    "    if w==word1:\n",
    "        l1.append(i)\n",
    "    if w==word2:\n",
    "        l2.append(i)\n",
    "    else:\n",
    "        continue\n",
    "max(sorted(l1)[-1]-sorted(l2)[0],sorted(l2)[-1]-sorted(l1)[0])"
   ]
  },
  {
   "cell_type": "code",
   "execution_count": null,
   "metadata": {
    "collapsed": true
   },
   "outputs": [],
   "source": []
  }
 ],
 "metadata": {
  "kernelspec": {
   "display_name": "Python [conda root]",
   "language": "python",
   "name": "conda-root-py"
  },
  "language_info": {
   "codemirror_mode": {
    "name": "ipython",
    "version": 3
   },
   "file_extension": ".py",
   "mimetype": "text/x-python",
   "name": "python",
   "nbconvert_exporter": "python",
   "pygments_lexer": "ipython3",
   "version": "3.5.2"
  }
 },
 "nbformat": 4,
 "nbformat_minor": 2
}
