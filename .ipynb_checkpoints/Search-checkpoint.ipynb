{
 "cells": [
  {
   "cell_type": "code",
   "execution_count": 2,
   "metadata": {},
   "outputs": [
    {
     "data": {
      "text/plain": [
       "False"
      ]
     },
     "execution_count": 2,
     "metadata": {},
     "output_type": "execute_result"
    }
   ],
   "source": [
    "def sequentialSearch(arr,a):\n",
    "    found=False\n",
    "    i=0\n",
    "    while i<len(arr) and not found:\n",
    "        if arr[i]==a:\n",
    "            found=True\n",
    "        else: i+=1\n",
    "    return found\n",
    "\n",
    "sequentialSearch([2,3,4,6,7,4,3],8)"
   ]
  },
  {
   "cell_type": "code",
   "execution_count": null,
   "metadata": {
    "collapsed": true
   },
   "outputs": [],
   "source": []
  },
  {
   "cell_type": "code",
   "execution_count": 7,
   "metadata": {},
   "outputs": [
    {
     "data": {
      "text/plain": [
       "2"
      ]
     },
     "execution_count": 7,
     "metadata": {},
     "output_type": "execute_result"
    }
   ],
   "source": [
    "def binarySearch(arr,x):\n",
    "    lo=0\n",
    "    hi=len(arr)-1\n",
    "    found=-1\n",
    "    while lo<=hi and found<0:\n",
    "        mid=(hi+lo)//2\n",
    "        if x>arr[mid]:\n",
    "            lo=mid+1\n",
    "        elif x<arr[mid]:\n",
    "            hi=mid-1\n",
    "        else: found=mid\n",
    "    return found\n",
    "\n",
    "binarySearch([1,3,5,7,9],5)\n"
   ]
  },
  {
   "cell_type": "code",
   "execution_count": 5,
   "metadata": {},
   "outputs": [],
   "source": [
    "def hashmethod(astring,tablesize):\n",
    "    return sum([ord(a) for a in astring])%tablesize"
   ]
  },
  {
   "cell_type": "code",
   "execution_count": 4,
   "metadata": {},
   "outputs": [
    {
     "data": {
      "text/plain": [
       "4"
      ]
     },
     "execution_count": 4,
     "metadata": {},
     "output_type": "execute_result"
    }
   ],
   "source": []
  },
  {
   "cell_type": "code",
   "execution_count": 41,
   "metadata": {
    "collapsed": true
   },
   "outputs": [],
   "source": [
    "class hashTable:\n",
    "    def __init__(self):\n",
    "        self.size=11\n",
    "        self.data=[None]*self.size\n",
    "        self.slots=[None]*self.size\n",
    "\n",
    "    def hashfunction(self,value,size):\n",
    "        return value%size\n",
    "    def rehash(self,oldhash,size):\n",
    "        return (oldhash+1)%size\n",
    "    def put(self,key,data):\n",
    "        slotsvalue=self.hashfunction(key,len(self.slots))\n",
    "        if self.slots[slotsvalue]==None:\n",
    "            self.slots[slotsvalue]=key\n",
    "            self.data[slotsvalue]=data\n",
    "        elif self.slots[slotsvalue]==key:\n",
    "            self.data[slotsvalue]=data\n",
    "        else:\n",
    "            nexthash=self.rehash(slotsvalue,len(self.slots))\n",
    "            done=False\n",
    "            while self.slots[nexthash]!=None and self.slots[nexthash]!=key and not done:\n",
    "                nexthash=self.rehash(nexthash,len(self.slots))\n",
    "                if nexthash==slotsvalue:\n",
    "                    done=True\n",
    "                    raise KeyError\n",
    "            if self.slots[nexthash]==None:\n",
    "                self.slots[nexthash]=key\n",
    "                self.data[nexthash]=data\n",
    "            else:\n",
    "                self.data[nexthash]=data        \n",
    "        \n",
    "\n",
    "    def get(self,key):\n",
    "        startp=self.hashfunction(key,len(self.slots))\n",
    "        found=False\n",
    "        done=False\n",
    "        p=startp\n",
    "        data=None\n",
    "        while self.slots[p]!=None and not found and not done:\n",
    "            if self.slots[p]==key:\n",
    "                data=self.data[p]\n",
    "                found=True\n",
    "            else:\n",
    "                p=self.rehash(p,len(self.slots))\n",
    "                if p==startp:\n",
    "                    done=True\n",
    "        return data  \n",
    "\n",
    "    def __getitem__(self,key):\n",
    "        return self.get(key)\n",
    "\n",
    "    def __setitem__(self,key,data):\n",
    "        self.put(key,data)"
   ]
  },
  {
   "cell_type": "code",
   "execution_count": 42,
   "metadata": {},
   "outputs": [],
   "source": [
    "h=hashTable()\n",
    "h[77]='cat'\n",
    "h[54]='cow'\n",
    "h[1]='ok'\n",
    "h[2]='a'\n",
    "h[3]='b'\n",
    "h[4]='c'\n",
    "h[5]='d' \n",
    "h[7]='f'\n",
    "h[8]='g'\n",
    "h[9]='h'\n",
    "h[44]='fish'\n"
   ]
  },
  {
   "cell_type": "code",
   "execution_count": 43,
   "metadata": {},
   "outputs": [
    {
     "data": {
      "text/plain": [
       "['cat', 'ok', 'a', 'b', 'c', 'd', 'fish', 'f', 'g', 'h', 'cow']"
      ]
     },
     "execution_count": 43,
     "metadata": {},
     "output_type": "execute_result"
    }
   ],
   "source": [
    "h.data"
   ]
  },
  {
   "cell_type": "code",
   "execution_count": 45,
   "metadata": {},
   "outputs": [
    {
     "data": {
      "text/plain": [
       "'fish'"
      ]
     },
     "execution_count": 45,
     "metadata": {},
     "output_type": "execute_result"
    }
   ],
   "source": [
    "h[44]"
   ]
  },
  {
   "cell_type": "code",
   "execution_count": null,
   "metadata": {
    "collapsed": true
   },
   "outputs": [],
   "source": []
  }
 ],
 "metadata": {
  "kernelspec": {
   "display_name": "Python [conda root]",
   "language": "python",
   "name": "conda-root-py"
  },
  "language_info": {
   "codemirror_mode": {
    "name": "ipython",
    "version": 3
   },
   "file_extension": ".py",
   "mimetype": "text/x-python",
   "name": "python",
   "nbconvert_exporter": "python",
   "pygments_lexer": "ipython3",
   "version": "3.5.2"
  }
 },
 "nbformat": 4,
 "nbformat_minor": 2
}
