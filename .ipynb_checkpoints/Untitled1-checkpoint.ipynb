{
 "cells": [
  {
   "cell_type": "code",
   "execution_count": 3,
   "metadata": {},
   "outputs": [
    {
     "name": "stdout",
     "output_type": "stream",
     "text": [
      "2\n"
     ]
    }
   ],
   "source": [
    "def globletest():\n",
    "    global x\n",
    "    x+=1\n",
    "    print(x)\n",
    "x=1\n",
    "globletest()"
   ]
  },
  {
   "cell_type": "code",
   "execution_count": 44,
   "metadata": {},
   "outputs": [
    {
     "name": "stdout",
     "output_type": "stream",
     "text": [
      "[[-1, -1, -1, -1, -1, -1], [-1, -1, -1, -1, -1, -1], [-1, -1, -1, -1, -1, -1], [-1, -1, -1, -1, -1, -1]]\n"
     ]
    },
    {
     "data": {
      "text/plain": [
       "[[0, 0, 0, 0, 0, 0],\n",
       " [-1, 0, 0, 0, 0, 9],\n",
       " [-1, 0, 0, 6, 7, 9],\n",
       " [-1, 0, 7, 8, 8, 14]]"
      ]
     },
     "execution_count": 44,
     "metadata": {},
     "output_type": "execute_result"
    }
   ],
   "source": [
    "def bag(n,c,w,v):  #n is the number of objects, c is the limit of weights\n",
    "    res=[[-1 for j in range(c+1)] for i in range(n+1)]  \n",
    "    print(res)\n",
    "    for j in range(c+1):  \n",
    "        res[0][j]=0  \n",
    "    for i in range(1,n+1):  \n",
    "        for j in range(1,c+1):  \n",
    "            res[i][j]=res[i-1][j]  \n",
    "            if j>=w[i-1] and res[i][j]<res[i-1][j-w[i-1]]+v[i-1]:  \n",
    "                res[i][j]=res[i-1][j-w[i-1]]+v[i-1]  \n",
    "    return res  \n",
    "  \n",
    "\n",
    "w=[5,3,2]\n",
    "v=[9,7,8]\n",
    "n=3\n",
    "c=5\n",
    "bag(n,c,w,v)"
   ]
  },
  {
   "cell_type": "code",
   "execution_count": 5,
   "metadata": {},
   "outputs": [
    {
     "name": "stdout",
     "output_type": "stream",
     "text": [
      "[[-1, -1, -1, -1, -1, -1, -1, -1, -1, -1, -1], [-1, -1, -1, -1, -1, -1, -1, -1, -1, -1, -1], [-1, -1, -1, -1, -1, -1, -1, -1, -1, -1, -1], [-1, -1, -1, -1, -1, -1, -1, -1, -1, -1, -1], [-1, -1, -1, -1, -1, -1, -1, -1, -1, -1, -1], [-1, -1, -1, -1, -1, -1, -1, -1, -1, -1, -1]]\n",
      "最大价值为: 15\n",
      "选择的物品为:\n",
      "第 0 个,第 1 个,第 4 个,\n"
     ]
    }
   ],
   "source": [
    "def bag(n,c,w,v):  #n is the number of objects, c is the limit of weights\n",
    "    res=[[-1 for j in range(c+1)] for i in range(n+1)]  \n",
    "    print(res)\n",
    "    for j in range(c+1):  \n",
    "        res[0][j]=0  \n",
    "    for i in range(1,n+1):  \n",
    "        for j in range(1,c+1):  \n",
    "            res[i][j]=res[i-1][j]  \n",
    "            if j>=w[i-1] and res[i][j]<res[i-1][j-w[i-1]]+v[i-1]:  \n",
    "                res[i][j]=res[i-1][j-w[i-1]]+v[i-1]  \n",
    "    return res  \n",
    "  \n",
    "def show(n,c,w,res):  \n",
    "    print('最大价值为:',res[n][c])  \n",
    "    x=[False for i in range(n)]  \n",
    "    j=c  \n",
    "    for i in range(1,n+1):  \n",
    "        if res[i][j]>res[i-1][j]:  \n",
    "            x[i-1]=True  \n",
    "            j-=w[i-1]  \n",
    "    print('选择的物品为:')  \n",
    "    for i in range(n):  \n",
    "        if x[i]:  \n",
    "            print('第',i,'个,',end='')  \n",
    "    print('')  \n",
    "  \n",
    "if __name__=='__main__':  \n",
    "    n=5  \n",
    "    c=10  \n",
    "    w=[2,2,6,5,4]  \n",
    "    v=[6,3,5,4,6]  \n",
    "    res=bag(n,c,w,v)  \n",
    "    show(n,c,w,res)  "
   ]
  },
  {
   "cell_type": "code",
   "execution_count": 13,
   "metadata": {},
   "outputs": [
    {
     "data": {
      "text/plain": [
       "[[0, 0, 0, 0, 0, 0],\n",
       " [-1, 0, 0, 0, 0, 9],\n",
       " [-1, 0, 0, 6, 7, 9],\n",
       " [-1, 0, 7, 8, 8, 14]]"
      ]
     },
     "execution_count": 13,
     "metadata": {},
     "output_type": "execute_result"
    }
   ],
   "source": [
    "def bag(wl,vl,limit):\n",
    "    n=len(wl)\n",
    "    res=[[-1 for j in range(limit+1)] for i in range(n+1)]\n",
    "    for j in range(limit+1):\n",
    "        res[0][j]=0 \n",
    "    for a in range(1,n+1):\n",
    "        for b in range(1,limit+1):\n",
    "            res[a][b]=res[a-1][b]\n",
    "            if b>=wl[a-1] and res[a-1][b-wl[a-1]]+vl[a-1]>res[a][b]:\n",
    "                res[a][b]=res[a-1][b-wl[a-1]]+vl[a-1]\n",
    "    return res\n",
    "\n",
    "wl=[5,3,2]\n",
    "vl=[9,7,8]\n",
    "limit=5\n",
    "bag(wl,vl,limit)"
   ]
  },
  {
   "cell_type": "code",
   "execution_count": 50,
   "metadata": {},
   "outputs": [
    {
     "name": "stdout",
     "output_type": "stream",
     "text": [
      "[]\n",
      "[2]\n",
      "[2, 1, 2]\n",
      "[2, 1, 2, 1, 2]\n",
      "[2, 1, 2, 1, 2, 0]\n",
      "[2, 1, 2, 1, 2, 0]\n",
      "[2, 1, 2, 1, 2, 0, 0]\n",
      "[2, 1, 2, 1, 2, 0, 0, 0]\n",
      "[2, 1, 2, 1, 2, 0, 0, 0, 0, 2]\n",
      "[2, 1, 2, 1, 2, 0, 0, 0, 0, 2, 0, 1, 2]\n",
      "[2, 1, 2, 1, 2, 0, 0, 0, 0, 2, 0, 1, 2]\n",
      "[2, 1, 2, 1, 2, 0, 0, 0, 0, 2, 0, 1, 2, 0]\n",
      "[2, 1, 2, 1, 2, 0, 0, 0, 0, 2, 0, 1, 2, 0, 0]\n",
      "[2, 1, 2, 1, 2, 0, 0, 0, 0, 2, 0, 1, 2, 0, 0, 0]\n",
      "[2, 1, 2, 1, 2, 0, 0, 0, 0, 2, 0, 1, 2, 0, 0, 0, 0]\n"
     ]
    },
    {
     "data": {
      "text/plain": [
       "[[0, 0, 0, 0, 0, 0],\n",
       " [0, 0, 8, 8, 8, 9],\n",
       " [0, 0, 8, 8, 16, 16],\n",
       " [0, 0, 8, 8, 16, 16]]"
      ]
     },
     "execution_count": 50,
     "metadata": {},
     "output_type": "execute_result"
    }
   ],
   "source": [
    "def bag(wl,vl,limit,path): \n",
    "    n=len(wl)\n",
    "    res=[[0 for j in range(limit+1)] for i in range(n+1)] \n",
    "    #res[i][j] represent pick up i objects, with j weight limit, the maximun of value\n",
    "    for a in range(1,n+1):\n",
    "        for b in range(1,limit+1):  \n",
    "            temp=0\n",
    "            for i in range(0,n):\n",
    "                maxv=res[a-1][b]\n",
    "                if b>=wl[i] and res[a-1][b-wl[i]]+vl[i]>maxv:\n",
    "                    maxv=res[a-1][b-wl[i]]+vl[i]\n",
    "                if maxv>temp:\n",
    "                    temp=maxv\n",
    "                    path.append(i)\n",
    "            print(path)\n",
    "            res[a][b]=temp            \n",
    "    return res\n",
    "\n",
    "\n",
    "    \n",
    "\n",
    "wl=[5,3,2]\n",
    "vl=[9,7,8]\n",
    "limit=5\n",
    "bag(wl,vl,limit,[])"
   ]
  },
  {
   "cell_type": "code",
   "execution_count": 27,
   "metadata": {},
   "outputs": [
    {
     "ename": "IndexError",
     "evalue": "list index out of range",
     "output_type": "error",
     "traceback": [
      "\u001b[1;31m---------------------------------------------------------------------------\u001b[0m",
      "\u001b[1;31mIndexError\u001b[0m                                Traceback (most recent call last)",
      "\u001b[1;32m<ipython-input-27-9676025dffdf>\u001b[0m in \u001b[0;36m<module>\u001b[1;34m()\u001b[0m\n\u001b[0;32m      1\u001b[0m \u001b[0ma\u001b[0m\u001b[1;33m=\u001b[0m\u001b[1;33m[\u001b[0m\u001b[1;36m1\u001b[0m\u001b[1;33m,\u001b[0m\u001b[1;36m2\u001b[0m\u001b[1;33m,\u001b[0m\u001b[1;36m3\u001b[0m\u001b[1;33m]\u001b[0m\u001b[1;33m\u001b[0m\u001b[0m\n\u001b[1;32m----> 2\u001b[1;33m \u001b[0ma\u001b[0m\u001b[1;33m[\u001b[0m\u001b[1;36m5\u001b[0m\u001b[1;33m]\u001b[0m\u001b[1;33m\u001b[0m\u001b[0m\n\u001b[0m",
      "\u001b[1;31mIndexError\u001b[0m: list index out of range"
     ]
    }
   ],
   "source": [
    "a=[1,2,3]\n"
   ]
  },
  {
   "cell_type": "code",
   "execution_count": 32,
   "metadata": {},
   "outputs": [
    {
     "data": {
      "text/plain": [
       "6"
      ]
     },
     "execution_count": 32,
     "metadata": {},
     "output_type": "execute_result"
    }
   ],
   "source": [
    "a=[1,2,3]\n",
    "i=2\n",
    "a[:i]+a[i+1:]\n",
    "3+a[2]"
   ]
  },
  {
   "cell_type": "code",
   "execution_count": null,
   "metadata": {
    "collapsed": true
   },
   "outputs": [],
   "source": []
  }
 ],
 "metadata": {
  "kernelspec": {
   "display_name": "Python [conda root]",
   "language": "python",
   "name": "conda-root-py"
  },
  "language_info": {
   "codemirror_mode": {
    "name": "ipython",
    "version": 3
   },
   "file_extension": ".py",
   "mimetype": "text/x-python",
   "name": "python",
   "nbconvert_exporter": "python",
   "pygments_lexer": "ipython3",
   "version": "3.5.2"
  }
 },
 "nbformat": 4,
 "nbformat_minor": 2
}
