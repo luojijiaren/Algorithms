{
 "cells": [
  {
   "cell_type": "code",
   "execution_count": 8,
   "metadata": {},
   "outputs": [
    {
     "data": {
      "text/plain": [
       "'2F8'"
      ]
     },
     "execution_count": 8,
     "metadata": {},
     "output_type": "execute_result"
    }
   ],
   "source": [
    "# convert integer to string in any base\n",
    "def tostr(n,base):\n",
    "    constr='0123456789ABCDEF'\n",
    "    if n<base:\n",
    "        return constr[n]\n",
    "    else:\n",
    "        return tostr(n//base,base)+constr[n%base]\n",
    "    \n",
    "        \n",
    "tostr(760,16)"
   ]
  },
  {
   "cell_type": "code",
   "execution_count": 16,
   "metadata": {},
   "outputs": [
    {
     "data": {
      "text/plain": [
       "'1010'"
      ]
     },
     "execution_count": 16,
     "metadata": {},
     "output_type": "execute_result"
    }
   ],
   "source": [
    "from pythonds.basic.stack import Stack\n",
    "def tostr_stack(n,base):\n",
    "    rstack=Stack()\n",
    "    constr='0123456789ABCDEF'\n",
    "    while n>0:\n",
    "        if n<base:\n",
    "            rstack.push(constr[n])\n",
    "        else:\n",
    "            rstack.push(constr[n%base])\n",
    "        n=n//base\n",
    "    res=''\n",
    "    while not rstack.isEmpty():\n",
    "        res=res+rstack.pop()\n",
    "    return res\n",
    "        \n",
    "tostr_stack(10,2)      "
   ]
  },
  {
   "cell_type": "code",
   "execution_count": 1,
   "metadata": {
    "collapsed": true
   },
   "outputs": [],
   "source": [
    "import turtle\n",
    "\n",
    "myturtle=turtle.Turtle()\n",
    "mywin=turtle.Screen()\n",
    "\n",
    "def drawSpiral(myturtle,linelen):\n",
    "    if linelen>0:\n",
    "        myturtle.forward(linelen)\n",
    "        myturtle.right(90)\n",
    "        drawSpiral(myturtle,linelen-5)\n",
    "        \n",
    "drawSpiral(myturtle,100)\n",
    "mywin.exitonclick()"
   ]
  },
  {
   "cell_type": "code",
   "execution_count": 1,
   "metadata": {
    "collapsed": true
   },
   "outputs": [],
   "source": [
    "import turtle\n",
    "\n",
    "def drawtree(branchlen,t):\n",
    "    if branchlen>5:\n",
    "        t.forward(branchlen)\n",
    "        t.right(20)\n",
    "        drawtree(branchlen-15,t)\n",
    "        t.left(40)\n",
    "        drawtree(branchlen-15,t)\n",
    "        t.right(20)\n",
    "        t.backward(branchlen)\n",
    "    \n",
    "def main():\n",
    "    t=turtle.Turtle()\n",
    "    mywin=turtle.Screen()\n",
    "    t.color('green')\n",
    "    t.left(90)\n",
    "    t.up()\n",
    "    t.backward(100)\n",
    "    t.down()\n",
    "    drawtree(70,t)\n",
    "    mywin.exitonclick()\n",
    "    \n",
    "main()\n",
    "    \n"
   ]
  },
  {
   "cell_type": "code",
   "execution_count": null,
   "metadata": {
    "collapsed": true
   },
   "outputs": [],
   "source": [
    "def moveTower(height,fromPole,toPole,withPole):\n",
    "    if height>=1:\n",
    "        moveTower(height-1,fromPole,withPole,toPole)\n",
    "        moveDisk(fromPole,toPole)\n",
    "        moveTower(height-1,withPole,toPole,fromPole)"
   ]
  },
  {
   "cell_type": "code",
   "execution_count": 23,
   "metadata": {},
   "outputs": [
    {
     "data": {
      "text/plain": [
       "6"
      ]
     },
     "execution_count": 23,
     "metadata": {},
     "output_type": "execute_result"
    }
   ],
   "source": [
    "def recMac(coinlist,change):\n",
    "    minitimes=change\n",
    "    if change in coinlist:\n",
    "        return 1\n",
    "    else:\n",
    "        for i in [c for c in coinlist if c<=change]:\n",
    "            temp=1+recMac(coinlist,change-i)\n",
    "            \n",
    "            if temp<minitimes:\n",
    "                minitimes=temp  \n",
    "    return minitimes\n",
    "recMac([1,5,10,25],63)       "
   ]
  },
  {
   "cell_type": "code",
   "execution_count": 20,
   "metadata": {},
   "outputs": [
    {
     "data": {
      "text/plain": [
       "3"
      ]
     },
     "execution_count": 20,
     "metadata": {},
     "output_type": "execute_result"
    }
   ],
   "source": [
    "def recMac(coinlist,change,knowResult):\n",
    "    minitimes=change\n",
    "\n",
    "    if change in coinlist:\n",
    "        knowResult[change]=1\n",
    "        return 1\n",
    "    elif knowResult[change]>0:\n",
    "        return knowResult[change]\n",
    "    else:\n",
    "        for i in [c for c in coinlist if c<=change]:\n",
    "            temp=1+recMac(coinlist,change-i,knowResult)\n",
    "            if temp<minitimes:\n",
    "                minitimes=temp\n",
    "                knowResult[change]=minitimes\n",
    "    return minitimes\n",
    "recMac([1,5,10,21,25],63,[0]*64)               "
   ]
  },
  {
   "cell_type": "code",
   "execution_count": 41,
   "metadata": {},
   "outputs": [
    {
     "name": "stdout",
     "output_type": "stream",
     "text": [
      "6\n",
      "1\n",
      "1\n",
      "1\n",
      "10\n",
      "25\n",
      "25\n"
     ]
    }
   ],
   "source": [
    "def dpchange(coinlist,change):\n",
    "    minicoins=[k for k in range(change+1)]\n",
    "    coinsused=[0]*(change+1)\n",
    "    for i in range(change+1):\n",
    "        for j in [c for c in coinlist if c<=i]:\n",
    "            if minicoins[i-j]+1<minicoins[i]:\n",
    "                minicoins[i]=minicoins[i-j]+1\n",
    "                coinsused[i]=j\n",
    "    return minicoins[change],coinsused\n",
    "dpchange([1,5,10,25],63)    \n",
    "\n",
    "def printcoin(coinused,change):\n",
    "    coin=change\n",
    "    while coin>0:\n",
    "        print(coinused[coin])\n",
    "        coin=coin-coinused[coin]\n",
    "        \n",
    "def main():\n",
    "    mi,coinused=dpchange([1,5,10,25],63)  \n",
    "    print(mi)\n",
    "    printcoin(coinused,63)\n",
    "    \n",
    "main()"
   ]
  },
  {
   "cell_type": "code",
   "execution_count": null,
   "metadata": {
    "collapsed": true
   },
   "outputs": [],
   "source": []
  }
 ],
 "metadata": {
  "kernelspec": {
   "display_name": "Python [conda root]",
   "language": "python",
   "name": "conda-root-py"
  },
  "language_info": {
   "codemirror_mode": {
    "name": "ipython",
    "version": 3
   },
   "file_extension": ".py",
   "mimetype": "text/x-python",
   "name": "python",
   "nbconvert_exporter": "python",
   "pygments_lexer": "ipython3",
   "version": "3.5.2"
  }
 },
 "nbformat": 4,
 "nbformat_minor": 2
}
