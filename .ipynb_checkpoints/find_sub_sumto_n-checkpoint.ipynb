{
 "cells": [
  {
   "cell_type": "code",
   "execution_count": 26,
   "metadata": {},
   "outputs": [
    {
     "data": {
      "text/plain": [
       "(True, [2, 3, 4])"
      ]
     },
     "execution_count": 26,
     "metadata": {},
     "output_type": "execute_result"
    }
   ],
   "source": [
    "def findsum(nums,target,m):\n",
    "    #from positive integer list nums find subarray, whose sum equals n, return true or false\n",
    "    '''two conditions,with or without,anyone is true,then true'''\n",
    "    n=len(nums)-1\n",
    "    try: return m[n,target]\n",
    "    except KeyError:\n",
    "        \n",
    "        if not nums:\n",
    "            m[n,target]=False,[]\n",
    "            return False,[]\n",
    "        withoutk,withoutls=findsum(nums[:n],target,m)[0],findsum(nums[:n],target,m)[1]\n",
    "        if nums[n]>target:\n",
    "            m[n,target]=withoutk,withoutls\n",
    "            return withoutk,withoutls\n",
    "        if nums[n]==target:\n",
    "            m[n,target]=True,[nums[n]]\n",
    "            return True,[nums[n]]\n",
    "        withk,withls=findsum(nums[:n],target-nums[n],m)[0],findsum(nums[:n],target-nums[n],m)[1]+[nums[n]]\n",
    "        if withk==True:\n",
    "            m[n,target]=withk,withls\n",
    "            return withk,withls\n",
    "        else:\n",
    "            m[n,target]=withoutk,withoutls\n",
    "            return withoutk,withoutls\n",
    "\n",
    "\n",
    "findsum([2,5,3,4,3,4],9,{})\n",
    "            "
   ]
  },
  {
   "cell_type": "code",
   "execution_count": 28,
   "metadata": {},
   "outputs": [
    {
     "data": {
      "text/plain": [
       "True"
      ]
     },
     "execution_count": 28,
     "metadata": {},
     "output_type": "execute_result"
    }
   ],
   "source": [
    "def findsum(nums,target,m): #without path\n",
    "    #from positive integer list nums find subarray, whose sum equals n, return true or false\n",
    "    '''two conditions,with or without,anyone is true,then true'''\n",
    "    n=len(nums)-1\n",
    "    try: return m[n,target]\n",
    "    except KeyError:\n",
    "        \n",
    "        if not nums:\n",
    "            m[n,target]=False\n",
    "            return False\n",
    "        withoutk=findsum(nums[:n],target,m)\n",
    "        if nums[n]>target:\n",
    "            m[n,target]=withoutk\n",
    "            return withoutk\n",
    "        if nums[n]==target:\n",
    "            m[n,target]=True\n",
    "            return True\n",
    "        withk=findsum(nums[:n],target-nums[n],m)\n",
    "        return any([withk,withoutk])\n",
    "\n",
    "        \n",
    "findsum([2,5,3,4,3,4],9,{})"
   ]
  },
  {
   "cell_type": "code",
   "execution_count": null,
   "metadata": {
    "collapsed": true
   },
   "outputs": [],
   "source": []
  }
 ],
 "metadata": {
  "kernelspec": {
   "display_name": "Python [conda root]",
   "language": "python",
   "name": "conda-root-py"
  },
  "language_info": {
   "codemirror_mode": {
    "name": "ipython",
    "version": 3
   },
   "file_extension": ".py",
   "mimetype": "text/x-python",
   "name": "python",
   "nbconvert_exporter": "python",
   "pygments_lexer": "ipython3",
   "version": "3.5.2"
  }
 },
 "nbformat": 4,
 "nbformat_minor": 2
}
