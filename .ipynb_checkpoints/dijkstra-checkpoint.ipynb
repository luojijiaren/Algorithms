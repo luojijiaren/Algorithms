{
 "cells": [
  {
   "cell_type": "code",
   "execution_count": 1,
   "metadata": {
    "collapsed": true
   },
   "outputs": [],
   "source": [
    "from pythonds.graphs import PriorityQueue, Graph, Vertex\n",
    "def dicjkstra(aGraph,start):\n",
    "    pq=PriorityQueue()\n",
    "    start.setDistance(0)\n",
    "    pq.buildHeap((v.getDistance(),v) for v in aGraph)\n",
    "    while not pq.isEmpty():\n",
    "        currentVert=pq.delMin()\n",
    "        for nextVert in currentVert.getConnections():\n",
    "            newDist=currentVert.getDistance()+currentVert.getWeight(nextVert)\n",
    "            if newDist<nextVert.getDistance():\n",
    "                nextVert.setDistance(newDist)\n",
    "                nextVert.setPred(currentVert)\n",
    "                pd.decreaseKey(nextVert,newDist)\n",
    "        "
   ]
  },
  {
   "cell_type": "code",
   "execution_count": null,
   "metadata": {
    "collapsed": true
   },
   "outputs": [],
   "source": []
  }
 ],
 "metadata": {
  "kernelspec": {
   "display_name": "Python [conda root]",
   "language": "python",
   "name": "conda-root-py"
  },
  "language_info": {
   "codemirror_mode": {
    "name": "ipython",
    "version": 3
   },
   "file_extension": ".py",
   "mimetype": "text/x-python",
   "name": "python",
   "nbconvert_exporter": "python",
   "pygments_lexer": "ipython3",
   "version": "3.5.2"
  }
 },
 "nbformat": 4,
 "nbformat_minor": 2
}
