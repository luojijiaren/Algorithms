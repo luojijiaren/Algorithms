{
 "cells": [
  {
   "cell_type": "code",
   "execution_count": 2,
   "metadata": {},
   "outputs": [
    {
     "name": "stdout",
     "output_type": "stream",
     "text": [
      "0\n"
     ]
    }
   ],
   "source": [
    "a=[]\n",
    "if a:\n",
    "    print(1)\n",
    "else:\n",
    "    print(0) "
   ]
  },
  {
   "cell_type": "code",
   "execution_count": 3,
   "metadata": {},
   "outputs": [
    {
     "data": {
      "text/plain": [
       "'0b101'"
      ]
     },
     "execution_count": 3,
     "metadata": {},
     "output_type": "execute_result"
    }
   ],
   "source": [
    "bin(5)"
   ]
  },
  {
   "cell_type": "code",
   "execution_count": 4,
   "metadata": {},
   "outputs": [
    {
     "data": {
      "text/plain": [
       "0"
      ]
     },
     "execution_count": 4,
     "metadata": {},
     "output_type": "execute_result"
    }
   ],
   "source": [
    "1//2"
   ]
  },
  {
   "cell_type": "code",
   "execution_count": 14,
   "metadata": {},
   "outputs": [
    {
     "data": {
      "text/plain": [
       "[[1, 2, 3], [4, 3, 2]]"
      ]
     },
     "execution_count": 14,
     "metadata": {},
     "output_type": "execute_result"
    }
   ],
   "source": [
    "nums = [[1,2],[3,4],[3,2]]\n",
    "r0=len(nums)\n",
    "c0=len(nums[0])\n",
    "ls=[]\n",
    "for i in range(r0):\n",
    "    ls.extend(nums[i])\n",
    "ls\n",
    "res=[]\n",
    "r=2\n",
    "c=3\n",
    "if r*c==r0*c0:\n",
    "    for j in range(r):\n",
    "        res.append(ls[j*c:(j+1)*c])\n",
    "res\n",
    "    \n",
    "\n",
    "    \n"
   ]
  },
  {
   "cell_type": "code",
   "execution_count": 27,
   "metadata": {},
   "outputs": [
    {
     "data": {
      "text/plain": [
       "3"
      ]
     },
     "execution_count": 27,
     "metadata": {},
     "output_type": "execute_result"
    }
   ],
   "source": [
    "a=[1,1,0,1,1,1,0,1]\n",
    "ls=[]\n",
    "maxc=0\n",
    "c=0\n",
    "for i in range(8):\n",
    "    if a[i]==1:\n",
    "        c+=1\n",
    "    else: \n",
    "        if c>maxc:\n",
    "            maxc=c\n",
    "        c=0\n",
    "        \n",
    "if a[-1]==1 and c>maxc:\n",
    "    maxc=c\n",
    "    \n",
    "maxc\n",
    "\n"
   ]
  },
  {
   "cell_type": "code",
   "execution_count": 45,
   "metadata": {},
   "outputs": [
    {
     "data": {
      "text/plain": [
       "[2, 3]"
      ]
     },
     "execution_count": 45,
     "metadata": {},
     "output_type": "execute_result"
    }
   ],
   "source": [
    "a=[4,3,2,7,8,2,3,1]\n",
    "b={i:i for i in a}\n",
    "res=[]\n",
    "for j in a:\n",
    "    try: b.pop(b[j])\n",
    "    except KeyError:\n",
    "        res.append(j)\n",
    "        \n",
    "res"
   ]
  },
  {
   "cell_type": "code",
   "execution_count": 34,
   "metadata": {},
   "outputs": [
    {
     "data": {
      "text/plain": [
       "{0: 0, 1: 1, 2: 2, 5: 5, 6: 6, 7: 7}"
      ]
     },
     "execution_count": 34,
     "metadata": {},
     "output_type": "execute_result"
    }
   ],
   "source": [
    "res.pop(res[4])\n",
    "res"
   ]
  },
  {
   "cell_type": "code",
   "execution_count": 50,
   "metadata": {},
   "outputs": [
    {
     "name": "stdout",
     "output_type": "stream",
     "text": [
      "1 6\n"
     ]
    }
   ],
   "source": [
    "numbers=[2,3,5,7,8,11,13]\n",
    "target=16\n",
    "i=0\n",
    "j=len(numbers)-1\n",
    "while i<j:\n",
    "    if numbers[i]+numbers[j]==target:\n",
    "        print( i,j)\n",
    "        break\n",
    "    elif numbers[i]+numbers[j]>target:\n",
    "        j-=1\n",
    "    else:\n",
    "        i+=1\n",
    "    \n",
    "    "
   ]
  },
  {
   "cell_type": "code",
   "execution_count": 56,
   "metadata": {},
   "outputs": [
    {
     "name": "stdout",
     "output_type": "stream",
     "text": [
      "3\n",
      "9\n",
      "13\n"
     ]
    },
    {
     "data": {
      "text/plain": [
       "17"
      ]
     },
     "execution_count": 56,
     "metadata": {},
     "output_type": "execute_result"
    }
   ],
   "source": [
    "prices=[2,5,4,3,6,8,9,2,3,6,4,8]\n",
    "state=0\n",
    "profit=0\n",
    "for i in range(0,len(prices)-1):\n",
    "    if state==0:\n",
    "        if prices[i+1]<=prices[i]:\n",
    "            continue\n",
    "        else:\n",
    "            start=prices[i]\n",
    "            state=1\n",
    "    else:\n",
    "        if prices[i+1]>=prices[i]:\n",
    "            continue\n",
    "        else:\n",
    "            profit+=prices[i]-start\n",
    "            print(profit)\n",
    "            state=0\n",
    "if state==1:\n",
    "    \n",
    "    profit+=prices[-1]-start\n",
    "profit\n",
    "            "
   ]
  },
  {
   "cell_type": "code",
   "execution_count": null,
   "metadata": {
    "collapsed": true
   },
   "outputs": [],
   "source": []
  }
 ],
 "metadata": {
  "kernelspec": {
   "display_name": "Python [conda root]",
   "language": "python",
   "name": "conda-root-py"
  },
  "language_info": {
   "codemirror_mode": {
    "name": "ipython",
    "version": 3
   },
   "file_extension": ".py",
   "mimetype": "text/x-python",
   "name": "python",
   "nbconvert_exporter": "python",
   "pygments_lexer": "ipython3",
   "version": "3.5.2"
  }
 },
 "nbformat": 4,
 "nbformat_minor": 2
}
