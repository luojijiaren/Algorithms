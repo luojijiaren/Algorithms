{
 "cells": [
  {
   "cell_type": "code",
   "execution_count": 14,
   "metadata": {},
   "outputs": [
    {
     "data": {
      "text/plain": [
       "['c', ['f', [], []], []]"
      ]
     },
     "execution_count": 14,
     "metadata": {},
     "output_type": "execute_result"
    }
   ],
   "source": [
    "mytree=['a',['b',['d',[],[]],['e',[],[]]],['c',['f',[],[]],[]]]\n",
    "mytree[2]"
   ]
  },
  {
   "cell_type": "code",
   "execution_count": 15,
   "metadata": {},
   "outputs": [
    {
     "data": {
      "text/plain": [
       "3"
      ]
     },
     "execution_count": 15,
     "metadata": {},
     "output_type": "execute_result"
    }
   ],
   "source": [
    "len(mytree.pop(2))"
   ]
  },
  {
   "cell_type": "code",
   "execution_count": 25,
   "metadata": {
    "collapsed": true
   },
   "outputs": [],
   "source": [
    "class binarytree:\n",
    "    def __init__(self,rootobj):\n",
    "        self.key=rootobj\n",
    "        self.leftChild=None\n",
    "        self.rightChild=None\n",
    "    def insertleft(self,newNode):\n",
    "        if self.leftChild==None:\n",
    "            self.leftChild=binarytree(newNode)\n",
    "        else:\n",
    "            t=binarytree(newNode)\n",
    "            t.leftChild=self.leftChild\n",
    "            self.leftChild=t\n",
    "    def insertright(self,newNode):\n",
    "        if self.rightChild==None:\n",
    "            self.rightChild=binarytree(newNode)\n",
    "        else:\n",
    "            t=binarytree(newNode)\n",
    "            t.rightChild=self.rightChild\n",
    "            self.rightChild=t    \n",
    "    def getRootValue(self):\n",
    "        return self.key\n",
    "    def getLeftChild(self):\n",
    "        return self.leftChild\n",
    "    def getRightChild(self):\n",
    "        return self.rightChild\n",
    "    def setRootValue(self,obj):\n",
    "        self.key=obj\n",
    "        \n",
    "            "
   ]
  },
  {
   "cell_type": "code",
   "execution_count": 28,
   "metadata": {},
   "outputs": [
    {
     "name": "stdout",
     "output_type": "stream",
     "text": [
      "a\n",
      "None\n",
      "<__main__.binarytree object at 0x0000022D9154DA90>\n",
      "b\n",
      "<__main__.binarytree object at 0x0000022D9154DBA8>\n",
      "c\n",
      "hello\n"
     ]
    }
   ],
   "source": [
    "r=binarytree('a')\n",
    "print(r.getRootValue())\n",
    "print(r.getLeftChild())\n",
    "r.insertleft('b')\n",
    "print(r.getLeftChild())\n",
    "print(r.getLeftChild().getRootValue())\n",
    "r.insertright('c')\n",
    "print(r.getRightChild())\n",
    "print(r.getRightChild().getRootValue())\n",
    "r.getRightChild().setRootValue('hello')\n",
    "print(r.getRightChild().getRootValue())"
   ]
  },
  {
   "cell_type": "code",
   "execution_count": 34,
   "metadata": {},
   "outputs": [
    {
     "data": {
      "text/plain": [
       "False"
      ]
     },
     "execution_count": 34,
     "metadata": {},
     "output_type": "execute_result"
    }
   ],
   "source": [
    "import math\n",
    "a=math.sqrt(2)\n",
    "a\n",
    "a*a==2"
   ]
  },
  {
   "cell_type": "code",
   "execution_count": null,
   "metadata": {
    "collapsed": true
   },
   "outputs": [],
   "source": [
    "class calcu(a):\n",
    "    \n",
    "calcu(2*(3+5))"
   ]
  },
  {
   "cell_type": "code",
   "execution_count": null,
   "metadata": {
    "collapsed": true
   },
   "outputs": [],
   "source": []
  },
  {
   "cell_type": "code",
   "execution_count": null,
   "metadata": {
    "collapsed": true
   },
   "outputs": [],
   "source": []
  }
 ],
 "metadata": {
  "kernelspec": {
   "display_name": "Python [conda root]",
   "language": "python",
   "name": "conda-root-py"
  },
  "language_info": {
   "codemirror_mode": {
    "name": "ipython",
    "version": 3
   },
   "file_extension": ".py",
   "mimetype": "text/x-python",
   "name": "python",
   "nbconvert_exporter": "python",
   "pygments_lexer": "ipython3",
   "version": "3.5.2"
  }
 },
 "nbformat": 4,
 "nbformat_minor": 2
}
