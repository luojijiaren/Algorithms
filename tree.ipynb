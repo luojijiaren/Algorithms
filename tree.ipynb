{
 "cells": [
  {
   "cell_type": "code",
   "execution_count": 14,
   "metadata": {},
   "outputs": [
    {
     "data": {
      "text/plain": [
       "['c', ['f', [], []], []]"
      ]
     },
     "execution_count": 14,
     "metadata": {},
     "output_type": "execute_result"
    }
   ],
   "source": [
    "mytree=['a',['b',['d',[],[]],['e',[],[]]],['c',['f',[],[]],[]]]\n",
    "mytree[2]"
   ]
  },
  {
   "cell_type": "code",
   "execution_count": 15,
   "metadata": {},
   "outputs": [
    {
     "data": {
      "text/plain": [
       "3"
      ]
     },
     "execution_count": 15,
     "metadata": {},
     "output_type": "execute_result"
    }
   ],
   "source": [
    "len(mytree.pop(2))"
   ]
  },
  {
   "cell_type": "code",
   "execution_count": 8,
   "metadata": {},
   "outputs": [
    {
     "name": "stdout",
     "output_type": "stream",
     "text": [
      "a\n",
      "None\n",
      "<__main__.binarytree object at 0x000002AA431C3240>\n",
      "b\n",
      "<__main__.binarytree object at 0x000002AA431C3358>\n",
      "c\n",
      "hello\n"
     ]
    }
   ],
   "source": [
    "class binarytree:\n",
    "    def __init__(self,rootobj):\n",
    "        self.key=rootobj\n",
    "        self.leftChild=None\n",
    "        self.rightChild=None\n",
    "    def insertleft(self,newNode):\n",
    "        if self.leftChild==None:\n",
    "            self.leftChild=binarytree(newNode)\n",
    "        else:\n",
    "            t=binarytree(newNode)\n",
    "            t.leftChild=self.leftChild\n",
    "            self.leftChild=t\n",
    "    def insertright(self,newNode):\n",
    "        if self.rightChild==None:\n",
    "            self.rightChild=binarytree(newNode)\n",
    "        else:\n",
    "            t=binarytree(newNode)\n",
    "            t.rightChild=self.rightChild\n",
    "            self.rightChild=t    \n",
    "    def getRootValue(self):\n",
    "        return self.key\n",
    "    def getLeftChild(self):\n",
    "        return self.leftChild\n",
    "    def getRightChild(self):\n",
    "        return self.rightChild\n",
    "    def setRootValue(self,obj):\n",
    "        self.key=obj\n",
    "        \n",
    "            \n",
    "\n",
    "r=binarytree('a')\n",
    "print(r.getRootValue())\n",
    "print(r.getLeftChild())\n",
    "r.insertleft('b')\n",
    "print(r.getLeftChild())\n",
    "print(r.getLeftChild().getRootValue())\n",
    "r.insertright('c')\n",
    "print(r.getRightChild())\n",
    "print(r.getRightChild().getRootValue())\n",
    "r.getRightChild().setRootValue('hello')\n",
    "print(r.getRightChild().getRootValue())"
   ]
  },
  {
   "cell_type": "code",
   "execution_count": null,
   "metadata": {
    "collapsed": true
   },
   "outputs": [],
   "source": [
    "from pythonds.basic.stack import Stack\n",
    "from pythonds.trees.binaryTree import BinaryTree \n",
    "def calc(astring): #not complete yet\n",
    "    st=Stack()\n",
    "    ctree=BinaryTree('')\n",
    "    st.push(ctree)\n",
    "    for i in astring:\n",
    "        if i =='(':\n",
    "            ctree.insertLeft('')\n",
    "            st.push(ctree)\n",
    "            ctree=ctree.getLeftChild()\n",
    "        \n",
    "        "
   ]
  },
  {
   "cell_type": "code",
   "execution_count": null,
   "metadata": {
    "collapsed": true
   },
   "outputs": [],
   "source": []
  },
  {
   "cell_type": "code",
   "execution_count": 12,
   "metadata": {},
   "outputs": [
    {
     "data": {
      "text/plain": [
       "11"
      ]
     },
     "execution_count": 12,
     "metadata": {},
     "output_type": "execute_result"
    }
   ],
   "source": [
    "(3+(3+5))"
   ]
  },
  {
   "cell_type": "code",
   "execution_count": 11,
   "metadata": {},
   "outputs": [
    {
     "name": "stdout",
     "output_type": "stream",
     "text": [
      "3\n",
      "5\n",
      "7\n",
      "11\n"
     ]
    }
   ],
   "source": [
    "from pythonds.trees.binheap import BinHeap\n",
    "\n",
    "bh = BinHeap()\n",
    "bh.insert(5)\n",
    "bh.insert(7)\n",
    "bh.insert(3)\n",
    "bh.insert(11)\n",
    "\n",
    "print(bh.delMin())\n",
    "\n",
    "print(bh.delMin())\n",
    "\n",
    "print(bh.delMin())\n",
    "\n",
    "print(bh.delMin())"
   ]
  },
  {
   "cell_type": "code",
   "execution_count": 10,
   "metadata": {},
   "outputs": [
    {
     "data": {
      "text/plain": [
       "[2, 3, 5, 6, 9]"
      ]
     },
     "execution_count": 10,
     "metadata": {},
     "output_type": "execute_result"
    }
   ],
   "source": [
    "class binheap: #sort a complete binary heap\n",
    "    def __int__(self):\n",
    "        self.heaplist=[0]\n",
    "    def percUp(self,i):\n",
    "        while i//2>0:\n",
    "            if self.heaplist[i]<self.heplist[i//2]:\n",
    "                temp=self.heaplist[i]\n",
    "                self.heaplist[i]=self.heaplist[i//2]\n",
    "                self.heaplist[i//2]=temp\n",
    "            i=i//2\n",
    "    def insert(self,k):\n",
    "        self.heaplist.append(k)\n",
    "        self.percUp(len(self.heaplist)-1)\n",
    "    def percDown(self,i):\n",
    "        while 2*i<=len(self.heaplist)-1:\n",
    "            mc=self.minichild(i)\n",
    "            if self.heaplist[i]>self.heaplist[mc]:\n",
    "                temp=self.heaplist[i]\n",
    "                self.heaplist[i]=self.heaplist[mc]\n",
    "                self.heaplist[mc]=temp\n",
    "            i=mc\n",
    "    def minichild(self,i):\n",
    "        if 2*i+1>len(self.heaplist)-1:\n",
    "            return 2*i\n",
    "        else:\n",
    "            if self.heaplist[2*i]>self.heaplist[2*i+1]:\n",
    "                return 2*i+1\n",
    "            else: return 2*i\n",
    "    def delmin(self):\n",
    "        minel=self.heaplist[1]\n",
    "        self.heaplist[1]=self.heaplist[len(self.heaplist)-1]\n",
    "        self.heaplist.pop()\n",
    "        self.percDown(1)\n",
    "        return minel\n",
    "    def buildheap(self,alist):\n",
    "        i=len(alist)//2 \n",
    "        self.heaplist=[0]+alist\n",
    "        while i>0:\n",
    "            self.percDown(i)\n",
    "            i=i-1\n",
    "        return self.heaplist\n",
    "    def binheapsort(self,alist):\n",
    "        res=[]\n",
    "        self.heaplist=self.buildheap(alist)\n",
    "        while len(self.heaplist)-1>0:\n",
    "            mine=self.delmin()\n",
    "            res.append(mine)\n",
    "        return res\n",
    "            \n",
    "bh=binheap()\n",
    "bh.binheapsort([9,5,6,2,3])"
   ]
  }
 ],
 "metadata": {
  "kernelspec": {
   "display_name": "Python [conda root]",
   "language": "python",
   "name": "conda-root-py"
  },
  "language_info": {
   "codemirror_mode": {
    "name": "ipython",
    "version": 3
   },
   "file_extension": ".py",
   "mimetype": "text/x-python",
   "name": "python",
   "nbconvert_exporter": "python",
   "pygments_lexer": "ipython3",
   "version": "3.5.2"
  }
 },
 "nbformat": 4,
 "nbformat_minor": 2
}
