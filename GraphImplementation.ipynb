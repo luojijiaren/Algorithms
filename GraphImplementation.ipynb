{
 "cells": [
  {
   "cell_type": "code",
   "execution_count": 2,
   "metadata": {
    "collapsed": true
   },
   "outputs": [],
   "source": [
    "class Vertex:\n",
    "    def __init__(self,key):\n",
    "        self.id=key\n",
    "        self.connectedTo={}\n",
    "    def addNeighbor(self,nbr,weight=0):\n",
    "        self.connectedTo[nbr]=weight\n",
    "    def __str__(self):\n",
    "        return str(self.id)+' connected to: '+str([k.id for k in self.connectedTo]) #keys of dict are objects \n",
    "    def getConnections(self):\n",
    "        return self.connectedTo.keys()\n",
    "    def getId(self):\n",
    "        return self.id\n",
    "    def getWeight(self,nbr):\n",
    "        return self.connectedTo[nbr]\n",
    "    "
   ]
  },
  {
   "cell_type": "code",
   "execution_count": 7,
   "metadata": {
    "collapsed": true
   },
   "outputs": [],
   "source": [
    "class Graph:\n",
    "    def __init__(self):\n",
    "        self.vertList={}\n",
    "        self.numVertices=0\n",
    "    def addVertex(self,key):\n",
    "        newVertex=Vertex(key)\n",
    "        self.vertList[key]=newVertex\n",
    "        self.numVertices+=1\n",
    "        return newVertex\n",
    "    def getVertex(self,n):\n",
    "        if n in self.vertList.keys():\n",
    "            return self.vertList[n]\n",
    "        else:\n",
    "            return None\n",
    "    def __contains__(self,n):\n",
    "        return n in self.vertList.keys()\n",
    "    def addEdge(self,f,t,cost=0):\n",
    "        if f not in self.vertList:\n",
    "            self.addVertex(f)\n",
    "        if t not in self.vertList:\n",
    "            self.addVertex(t)\n",
    "        self.vertList[f].addNeighbor(self.vertList[t],cost) #not t,but a vertex object\n",
    "    def getVertics(self):\n",
    "        return self.vertList.keys()\n",
    "    def __iter__(self):\n",
    "        return iter(self.vertList.values()) #iterate vertex objects"
   ]
  },
  {
   "cell_type": "code",
   "execution_count": 8,
   "metadata": {},
   "outputs": [
    {
     "name": "stdout",
     "output_type": "stream",
     "text": [
      "( 0 , 1 )\n",
      "( 0 , 5 )\n",
      "( 1 , 2 )\n",
      "( 2 , 3 )\n",
      "( 3 , 4 )\n",
      "( 3 , 5 )\n",
      "( 4 , 0 )\n",
      "( 5 , 4 )\n",
      "( 5 , 2 )\n"
     ]
    }
   ],
   "source": [
    "g = Graph()\n",
    ">>> g.addEdge(0,1,5)\n",
    ">>> g.addEdge(0,5,2)\n",
    ">>> g.addEdge(1,2,4)\n",
    ">>> g.addEdge(2,3,9)\n",
    ">>> g.addEdge(3,4,7)\n",
    ">>> g.addEdge(3,5,3)\n",
    ">>> g.addEdge(4,0,1)\n",
    ">>> g.addEdge(5,4,8)\n",
    ">>> g.addEdge(5,2,1)\n",
    ">>> for v in g:\n",
    "...    for w in v.getConnections():\n",
    "...        print(\"( %s , %s )\" % (v.getId(), w.getId()))"
   ]
  },
  {
   "cell_type": "code",
   "execution_count": null,
   "metadata": {
    "collapsed": true
   },
   "outputs": [],
   "source": []
  }
 ],
 "metadata": {
  "kernelspec": {
   "display_name": "Python [conda root]",
   "language": "python",
   "name": "conda-root-py"
  },
  "language_info": {
   "codemirror_mode": {
    "name": "ipython",
    "version": 3
   },
   "file_extension": ".py",
   "mimetype": "text/x-python",
   "name": "python",
   "nbconvert_exporter": "python",
   "pygments_lexer": "ipython3",
   "version": "3.5.2"
  }
 },
 "nbformat": 4,
 "nbformat_minor": 2
}
